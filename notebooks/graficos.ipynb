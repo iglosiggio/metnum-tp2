{
 "cells": [
  {
   "cell_type": "markdown",
   "id": "9e0f38ed",
   "metadata": {},
   "source": [
    "# Laburo con los datos experimentales\n",
    "\n",
    "El objetivo de éste notebook es trabajar con los resultados experimentales (generados con `exp_k_alpha.py`). El código que genera los gráficos disponibles en el informe debería estar en su completitud aquí.\n",
    "\n",
    "Primero que todo tenemos que cargar los datos experimentales:"
   ]
  },
  {
   "cell_type": "code",
   "execution_count": 1,
   "id": "ba433562",
   "metadata": {},
   "outputs": [
    {
     "data": {
      "text/html": [
       "<div>\n",
       "<style scoped>\n",
       "    .dataframe tbody tr th:only-of-type {\n",
       "        vertical-align: middle;\n",
       "    }\n",
       "\n",
       "    .dataframe tbody tr th {\n",
       "        vertical-align: top;\n",
       "    }\n",
       "\n",
       "    .dataframe thead th {\n",
       "        text-align: right;\n",
       "    }\n",
       "</style>\n",
       "<table border=\"1\" class=\"dataframe\">\n",
       "  <thead>\n",
       "    <tr style=\"text-align: right;\">\n",
       "      <th></th>\n",
       "      <th>kind</th>\n",
       "      <th>k</th>\n",
       "      <th>alpha</th>\n",
       "      <th>elapsed_time</th>\n",
       "      <th>pca_init_and_fit_time</th>\n",
       "      <th>pca_transform_time</th>\n",
       "      <th>knn_init_and_fit_time</th>\n",
       "      <th>knn_predict_time</th>\n",
       "      <th>y_pred</th>\n",
       "      <th>y_val</th>\n",
       "    </tr>\n",
       "  </thead>\n",
       "  <tbody>\n",
       "    <tr>\n",
       "      <th>0</th>\n",
       "      <td>knnpca</td>\n",
       "      <td>1</td>\n",
       "      <td>1.0</td>\n",
       "      <td>6336183695</td>\n",
       "      <td>4.206655e+09</td>\n",
       "      <td>289273856.0</td>\n",
       "      <td>193840</td>\n",
       "      <td>1840061155</td>\n",
       "      <td>[8.0, 7.0, 3.0, 3.0, 2.0, 7.0, 2.0, 7.0, 9.0, ...</td>\n",
       "      <td>[[0], [3], [3], [2], [9], [2], [6], [9], [2], ...</td>\n",
       "    </tr>\n",
       "    <tr>\n",
       "      <th>1</th>\n",
       "      <td>knnpca</td>\n",
       "      <td>1</td>\n",
       "      <td>1.0</td>\n",
       "      <td>6286395123</td>\n",
       "      <td>4.060509e+09</td>\n",
       "      <td>341282065.0</td>\n",
       "      <td>286514</td>\n",
       "      <td>1884317578</td>\n",
       "      <td>[1.0, 1.0, 9.0, 2.0, 3.0, 7.0, 4.0, 1.0, 8.0, ...</td>\n",
       "      <td>[[1], [1], [9], [8], [6], [7], [9], [1], [3], ...</td>\n",
       "    </tr>\n",
       "    <tr>\n",
       "      <th>2</th>\n",
       "      <td>knnpca</td>\n",
       "      <td>1</td>\n",
       "      <td>1.0</td>\n",
       "      <td>5922524897</td>\n",
       "      <td>3.633891e+09</td>\n",
       "      <td>330124722.0</td>\n",
       "      <td>251710</td>\n",
       "      <td>1958257902</td>\n",
       "      <td>[0.0, 0.0, 1.0, 4.0, 1.0, 2.0, 8.0, 9.0, 0.0, ...</td>\n",
       "      <td>[[0], [0], [7], [5], [1], [3], [3], [7], [0], ...</td>\n",
       "    </tr>\n",
       "    <tr>\n",
       "      <th>3</th>\n",
       "      <td>knnpca</td>\n",
       "      <td>1</td>\n",
       "      <td>1.0</td>\n",
       "      <td>8874212263</td>\n",
       "      <td>6.610431e+09</td>\n",
       "      <td>355860668.0</td>\n",
       "      <td>274742</td>\n",
       "      <td>1907645988</td>\n",
       "      <td>[3.0, 9.0, 0.0, 8.0, 2.0, 3.0, 5.0, 7.0, 4.0, ...</td>\n",
       "      <td>[[4], [2], [0], [5], [2], [3], [9], [1], [4], ...</td>\n",
       "    </tr>\n",
       "    <tr>\n",
       "      <th>4</th>\n",
       "      <td>knnpca</td>\n",
       "      <td>1</td>\n",
       "      <td>1.0</td>\n",
       "      <td>9420894884</td>\n",
       "      <td>6.959745e+09</td>\n",
       "      <td>330476326.0</td>\n",
       "      <td>228584</td>\n",
       "      <td>2130444641</td>\n",
       "      <td>[2.0, 1.0, 9.0, 2.0, 9.0, 1.0, 8.0, 1.0, 9.0, ...</td>\n",
       "      <td>[[8], [1], [8], [4], [9], [1], [3], [1], [4], ...</td>\n",
       "    </tr>\n",
       "    <tr>\n",
       "      <th>...</th>\n",
       "      <td>...</td>\n",
       "      <td>...</td>\n",
       "      <td>...</td>\n",
       "      <td>...</td>\n",
       "      <td>...</td>\n",
       "      <td>...</td>\n",
       "      <td>...</td>\n",
       "      <td>...</td>\n",
       "      <td>...</td>\n",
       "      <td>...</td>\n",
       "    </tr>\n",
       "    <tr>\n",
       "      <th>4345</th>\n",
       "      <td>knn</td>\n",
       "      <td>29</td>\n",
       "      <td>NaN</td>\n",
       "      <td>482781216811</td>\n",
       "      <td>NaN</td>\n",
       "      <td>NaN</td>\n",
       "      <td>279835268</td>\n",
       "      <td>482501381543</td>\n",
       "      <td>[0.0, 3.0, 3.0, 2.0, 9.0, 2.0, 6.0, 9.0, 2.0, ...</td>\n",
       "      <td>[[0], [3], [3], [2], [9], [2], [6], [9], [2], ...</td>\n",
       "    </tr>\n",
       "    <tr>\n",
       "      <th>4346</th>\n",
       "      <td>knn</td>\n",
       "      <td>29</td>\n",
       "      <td>NaN</td>\n",
       "      <td>481643740369</td>\n",
       "      <td>NaN</td>\n",
       "      <td>NaN</td>\n",
       "      <td>331859231</td>\n",
       "      <td>481311881138</td>\n",
       "      <td>[1.0, 1.0, 9.0, 8.0, 6.0, 7.0, 9.0, 1.0, 3.0, ...</td>\n",
       "      <td>[[1], [1], [9], [8], [6], [7], [9], [1], [3], ...</td>\n",
       "    </tr>\n",
       "    <tr>\n",
       "      <th>4347</th>\n",
       "      <td>knn</td>\n",
       "      <td>29</td>\n",
       "      <td>NaN</td>\n",
       "      <td>478506889953</td>\n",
       "      <td>NaN</td>\n",
       "      <td>NaN</td>\n",
       "      <td>278598240</td>\n",
       "      <td>478228291713</td>\n",
       "      <td>[0.0, 0.0, 7.0, 5.0, 1.0, 3.0, 3.0, 7.0, 0.0, ...</td>\n",
       "      <td>[[0], [0], [7], [5], [1], [3], [3], [7], [0], ...</td>\n",
       "    </tr>\n",
       "    <tr>\n",
       "      <th>4348</th>\n",
       "      <td>knn</td>\n",
       "      <td>29</td>\n",
       "      <td>NaN</td>\n",
       "      <td>477775010840</td>\n",
       "      <td>NaN</td>\n",
       "      <td>NaN</td>\n",
       "      <td>341082097</td>\n",
       "      <td>477433928743</td>\n",
       "      <td>[4.0, 2.0, 0.0, 5.0, 2.0, 3.0, 9.0, 1.0, 9.0, ...</td>\n",
       "      <td>[[4], [2], [0], [5], [2], [3], [9], [1], [4], ...</td>\n",
       "    </tr>\n",
       "    <tr>\n",
       "      <th>4349</th>\n",
       "      <td>knn</td>\n",
       "      <td>29</td>\n",
       "      <td>NaN</td>\n",
       "      <td>253733694205</td>\n",
       "      <td>NaN</td>\n",
       "      <td>NaN</td>\n",
       "      <td>288144867</td>\n",
       "      <td>253445549338</td>\n",
       "      <td>[8.0, 1.0, 8.0, 4.0, 9.0, 1.0, 3.0, 1.0, 4.0, ...</td>\n",
       "      <td>[[8], [1], [8], [4], [9], [1], [3], [1], [4], ...</td>\n",
       "    </tr>\n",
       "  </tbody>\n",
       "</table>\n",
       "<p>4350 rows × 10 columns</p>\n",
       "</div>"
      ],
      "text/plain": [
       "        kind   k  alpha  elapsed_time  pca_init_and_fit_time  \\\n",
       "0     knnpca   1    1.0    6336183695           4.206655e+09   \n",
       "1     knnpca   1    1.0    6286395123           4.060509e+09   \n",
       "2     knnpca   1    1.0    5922524897           3.633891e+09   \n",
       "3     knnpca   1    1.0    8874212263           6.610431e+09   \n",
       "4     knnpca   1    1.0    9420894884           6.959745e+09   \n",
       "...      ...  ..    ...           ...                    ...   \n",
       "4345     knn  29    NaN  482781216811                    NaN   \n",
       "4346     knn  29    NaN  481643740369                    NaN   \n",
       "4347     knn  29    NaN  478506889953                    NaN   \n",
       "4348     knn  29    NaN  477775010840                    NaN   \n",
       "4349     knn  29    NaN  253733694205                    NaN   \n",
       "\n",
       "      pca_transform_time  knn_init_and_fit_time  knn_predict_time  \\\n",
       "0            289273856.0                 193840        1840061155   \n",
       "1            341282065.0                 286514        1884317578   \n",
       "2            330124722.0                 251710        1958257902   \n",
       "3            355860668.0                 274742        1907645988   \n",
       "4            330476326.0                 228584        2130444641   \n",
       "...                  ...                    ...               ...   \n",
       "4345                 NaN              279835268      482501381543   \n",
       "4346                 NaN              331859231      481311881138   \n",
       "4347                 NaN              278598240      478228291713   \n",
       "4348                 NaN              341082097      477433928743   \n",
       "4349                 NaN              288144867      253445549338   \n",
       "\n",
       "                                                 y_pred  \\\n",
       "0     [8.0, 7.0, 3.0, 3.0, 2.0, 7.0, 2.0, 7.0, 9.0, ...   \n",
       "1     [1.0, 1.0, 9.0, 2.0, 3.0, 7.0, 4.0, 1.0, 8.0, ...   \n",
       "2     [0.0, 0.0, 1.0, 4.0, 1.0, 2.0, 8.0, 9.0, 0.0, ...   \n",
       "3     [3.0, 9.0, 0.0, 8.0, 2.0, 3.0, 5.0, 7.0, 4.0, ...   \n",
       "4     [2.0, 1.0, 9.0, 2.0, 9.0, 1.0, 8.0, 1.0, 9.0, ...   \n",
       "...                                                 ...   \n",
       "4345  [0.0, 3.0, 3.0, 2.0, 9.0, 2.0, 6.0, 9.0, 2.0, ...   \n",
       "4346  [1.0, 1.0, 9.0, 8.0, 6.0, 7.0, 9.0, 1.0, 3.0, ...   \n",
       "4347  [0.0, 0.0, 7.0, 5.0, 1.0, 3.0, 3.0, 7.0, 0.0, ...   \n",
       "4348  [4.0, 2.0, 0.0, 5.0, 2.0, 3.0, 9.0, 1.0, 9.0, ...   \n",
       "4349  [8.0, 1.0, 8.0, 4.0, 9.0, 1.0, 3.0, 1.0, 4.0, ...   \n",
       "\n",
       "                                                  y_val  \n",
       "0     [[0], [3], [3], [2], [9], [2], [6], [9], [2], ...  \n",
       "1     [[1], [1], [9], [8], [6], [7], [9], [1], [3], ...  \n",
       "2     [[0], [0], [7], [5], [1], [3], [3], [7], [0], ...  \n",
       "3     [[4], [2], [0], [5], [2], [3], [9], [1], [4], ...  \n",
       "4     [[8], [1], [8], [4], [9], [1], [3], [1], [4], ...  \n",
       "...                                                 ...  \n",
       "4345  [[0], [3], [3], [2], [9], [2], [6], [9], [2], ...  \n",
       "4346  [[1], [1], [9], [8], [6], [7], [9], [1], [3], ...  \n",
       "4347  [[0], [0], [7], [5], [1], [3], [3], [7], [0], ...  \n",
       "4348  [[4], [2], [0], [5], [2], [3], [9], [1], [4], ...  \n",
       "4349  [[8], [1], [8], [4], [9], [1], [3], [1], [4], ...  \n",
       "\n",
       "[4350 rows x 10 columns]"
      ]
     },
     "execution_count": 1,
     "metadata": {},
     "output_type": "execute_result"
    }
   ],
   "source": [
    "from pickle import load\n",
    "from gzip import open as zopen\n",
    "\n",
    "with zopen('data.pickle.gz') as file:\n",
    "    df = load(file)\n",
    "\n",
    "df"
   ]
  },
  {
   "cell_type": "markdown",
   "id": "784d8fc0",
   "metadata": {},
   "source": [
    "Los datos contienen tanto información de corridas utilizando tano KNN+PCA (`kind == 'knnpca'`) cómo KNN a secas (`kind == 'knn'`) así que separémoslos."
   ]
  },
  {
   "cell_type": "code",
   "execution_count": 2,
   "id": "c2523193",
   "metadata": {},
   "outputs": [
    {
     "name": "stdout",
     "output_type": "stream",
     "text": [
      "Hay 4205 corridas usando KNN + PCA\n",
      "Hay 145 corridas usando KNN a secas\n"
     ]
    }
   ],
   "source": [
    "df_knnpca = df[df['kind'] == 'knnpca']\n",
    "df_knn = df[df['kind'] == 'knn']\n",
    "\n",
    "print(f'Hay {len(df_knnpca)} corridas usando KNN + PCA')\n",
    "print(f'Hay {len(df_knn)} corridas usando KNN a secas')"
   ]
  },
  {
   "cell_type": "markdown",
   "id": "e5a7484f",
   "metadata": {},
   "source": [
    "Hecho ésto, podemos empezar a explorar los datos usando las bibliotecas de python de siempre."
   ]
  },
  {
   "cell_type": "code",
   "execution_count": 9,
   "id": "f795e3a3",
   "metadata": {},
   "outputs": [],
   "source": [
    "# Importemos todo :P\n",
    "import numpy as np\n",
    "import pandas as pd\n",
    "import matplotlib.pyplot as plt\n",
    "import seaborn as sns"
   ]
  },
  {
   "cell_type": "markdown",
   "id": "7d64bfef",
   "metadata": {},
   "source": [
    "### KNN"
   ]
  },
  {
   "cell_type": "markdown",
   "id": "6c54f02e",
   "metadata": {},
   "source": [
    "Los datos tienen toda la información de evaluación necesaria para evaluar diversas métricas. Podemos usar las implementaciones propias de scikit para trabajar con éstas."
   ]
  },
  {
   "cell_type": "code",
   "execution_count": 7,
   "id": "d87f7d54",
   "metadata": {},
   "outputs": [
    {
     "data": {
      "text/html": [
       "<div>\n",
       "<style scoped>\n",
       "    .dataframe tbody tr th:only-of-type {\n",
       "        vertical-align: middle;\n",
       "    }\n",
       "\n",
       "    .dataframe tbody tr th {\n",
       "        vertical-align: top;\n",
       "    }\n",
       "\n",
       "    .dataframe thead th {\n",
       "        text-align: right;\n",
       "    }\n",
       "</style>\n",
       "<table border=\"1\" class=\"dataframe\">\n",
       "  <thead>\n",
       "    <tr style=\"text-align: right;\">\n",
       "      <th></th>\n",
       "      <th>k</th>\n",
       "      <th>accuracy</th>\n",
       "    </tr>\n",
       "  </thead>\n",
       "  <tbody>\n",
       "    <tr>\n",
       "      <th>4205</th>\n",
       "      <td>1</td>\n",
       "      <td>0.964167</td>\n",
       "    </tr>\n",
       "    <tr>\n",
       "      <th>4206</th>\n",
       "      <td>1</td>\n",
       "      <td>0.966905</td>\n",
       "    </tr>\n",
       "    <tr>\n",
       "      <th>4207</th>\n",
       "      <td>1</td>\n",
       "      <td>0.966667</td>\n",
       "    </tr>\n",
       "    <tr>\n",
       "      <th>4208</th>\n",
       "      <td>1</td>\n",
       "      <td>0.967024</td>\n",
       "    </tr>\n",
       "    <tr>\n",
       "      <th>4209</th>\n",
       "      <td>1</td>\n",
       "      <td>0.966310</td>\n",
       "    </tr>\n",
       "    <tr>\n",
       "      <th>...</th>\n",
       "      <td>...</td>\n",
       "      <td>...</td>\n",
       "    </tr>\n",
       "    <tr>\n",
       "      <th>4345</th>\n",
       "      <td>29</td>\n",
       "      <td>0.951429</td>\n",
       "    </tr>\n",
       "    <tr>\n",
       "      <th>4346</th>\n",
       "      <td>29</td>\n",
       "      <td>0.950714</td>\n",
       "    </tr>\n",
       "    <tr>\n",
       "      <th>4347</th>\n",
       "      <td>29</td>\n",
       "      <td>0.950476</td>\n",
       "    </tr>\n",
       "    <tr>\n",
       "      <th>4348</th>\n",
       "      <td>29</td>\n",
       "      <td>0.950595</td>\n",
       "    </tr>\n",
       "    <tr>\n",
       "      <th>4349</th>\n",
       "      <td>29</td>\n",
       "      <td>0.950476</td>\n",
       "    </tr>\n",
       "  </tbody>\n",
       "</table>\n",
       "<p>145 rows × 2 columns</p>\n",
       "</div>"
      ],
      "text/plain": [
       "       k  accuracy\n",
       "4205   1  0.964167\n",
       "4206   1  0.966905\n",
       "4207   1  0.966667\n",
       "4208   1  0.967024\n",
       "4209   1  0.966310\n",
       "...   ..       ...\n",
       "4345  29  0.951429\n",
       "4346  29  0.950714\n",
       "4347  29  0.950476\n",
       "4348  29  0.950595\n",
       "4349  29  0.950476\n",
       "\n",
       "[145 rows x 2 columns]"
      ]
     },
     "execution_count": 7,
     "metadata": {},
     "output_type": "execute_result"
    }
   ],
   "source": [
    "from sklearn.metrics import accuracy_score\n",
    "\n",
    "knn_accuracy_column = df_knn.apply(\n",
    "    func=lambda row: accuracy_score(row['y_val'], row['y_pred']),\n",
    "    axis=1\n",
    ")\n",
    "df_knn_accuracy = df_knn[['k']].copy()\n",
    "df_knn_accuracy['accuracy'] = knn_accuracy_column\n",
    "df_knn_accuracy"
   ]
  },
  {
   "cell_type": "code",
   "execution_count": 8,
   "id": "6a3dd426",
   "metadata": {},
   "outputs": [
    {
     "data": {
      "text/plain": [
       "<seaborn.axisgrid.FacetGrid at 0x2228c30bee0>"
      ]
     },
     "execution_count": 8,
     "metadata": {},
     "output_type": "execute_result"
    },
    {
     "data": {
      "image/png": "[encoded data removed]",
      "text/plain": [
       "<Figure size 360x360 with 1 Axes>"
      ]
     },
     "metadata": {
      "needs_background": "light"
     },
     "output_type": "display_data"
    }
   ],
   "source": [
    "sns.relplot(data=df_knn_accuracy, x='k', y='accuracy', kind='line') \\\n",
    "   .set(title='Precisión de KNN para distintas parametrizaciones')"
   ]
  },
  {
   "cell_type": "markdown",
   "id": "559db0d2",
   "metadata": {},
   "source": [
    "### KNN + PCA"
   ]
  },
  {
   "cell_type": "code",
   "execution_count": 4,
   "id": "3822d605",
   "metadata": {},
   "outputs": [
    {
     "data": {
      "text/plain": [
       "Text(0.5, 1.0, 'Parametrización KNNPCA vs Tiempo total')"
      ]
     },
     "execution_count": 4,
     "metadata": {},
     "output_type": "execute_result"
    },
    {
     "data": {
      "image/png": "[encoded data removed]",
      "text/plain": [
       "<Figure size 432x288 with 2 Axes>"
      ]
     },
     "metadata": {
      "needs_background": "light"
     },
     "output_type": "display_data"
    }
   ],
   "source": [
    "tiempos_totales = df_knnpca.pivot_table(index='k', columns='alpha', values='elapsed_time', aggfunc=np.mean)\n",
    "sns.heatmap(tiempos_totales).set_title('Parametrización KNNPCA vs Tiempo total')"
   ]
  },
  {
   "cell_type": "code",
   "execution_count": 10,
   "id": "da358257",
   "metadata": {},
   "outputs": [
    {
     "data": {
      "text/plain": [
       "Text(0.5, 1.0, 'Parametrización KNNPCA vs Tiempo en KNN')"
      ]
     },
     "execution_count": 10,
     "metadata": {},
     "output_type": "execute_result"
    },
    {
     "data": {
      "image/png": "[encoded data removed]",
      "text/plain": [
       "<Figure size 432x288 with 2 Axes>"
      ]
     },
     "metadata": {
      "needs_background": "light"
     },
     "output_type": "display_data"
    }
   ],
   "source": [
    "tiempos_predict = df_knnpca.pivot_table(index='k', columns='alpha', values='knn_predict_time', aggfunc=np.mean)\n",
    "sns.heatmap(tiempos_predict).set_title('Parametrización KNNPCA vs Tiempo en KNN')"
   ]
  },
  {
   "cell_type": "code",
   "execution_count": 19,
   "id": "64c81867",
   "metadata": {},
   "outputs": [
    {
     "data": {
      "text/html": [
       "<div>\n",
       "<style scoped>\n",
       "    .dataframe tbody tr th:only-of-type {\n",
       "        vertical-align: middle;\n",
       "    }\n",
       "\n",
       "    .dataframe tbody tr th {\n",
       "        vertical-align: top;\n",
       "    }\n",
       "\n",
       "    .dataframe thead th {\n",
       "        text-align: right;\n",
       "    }\n",
       "</style>\n",
       "<table border=\"1\" class=\"dataframe\">\n",
       "  <thead>\n",
       "    <tr style=\"text-align: right;\">\n",
       "      <th></th>\n",
       "      <th>k</th>\n",
       "      <th>alpha</th>\n",
       "      <th>accuracy</th>\n",
       "    </tr>\n",
       "  </thead>\n",
       "  <tbody>\n",
       "    <tr>\n",
       "      <th>0</th>\n",
       "      <td>1</td>\n",
       "      <td>1.0</td>\n",
       "      <td>0.250952</td>\n",
       "    </tr>\n",
       "    <tr>\n",
       "      <th>1</th>\n",
       "      <td>1</td>\n",
       "      <td>1.0</td>\n",
       "      <td>0.246310</td>\n",
       "    </tr>\n",
       "    <tr>\n",
       "      <th>2</th>\n",
       "      <td>1</td>\n",
       "      <td>1.0</td>\n",
       "      <td>0.242024</td>\n",
       "    </tr>\n",
       "    <tr>\n",
       "      <th>3</th>\n",
       "      <td>1</td>\n",
       "      <td>1.0</td>\n",
       "      <td>0.247857</td>\n",
       "    </tr>\n",
       "    <tr>\n",
       "      <th>4</th>\n",
       "      <td>1</td>\n",
       "      <td>1.0</td>\n",
       "      <td>0.247619</td>\n",
       "    </tr>\n",
       "    <tr>\n",
       "      <th>...</th>\n",
       "      <td>...</td>\n",
       "      <td>...</td>\n",
       "      <td>...</td>\n",
       "    </tr>\n",
       "    <tr>\n",
       "      <th>4200</th>\n",
       "      <td>29</td>\n",
       "      <td>29.0</td>\n",
       "      <td>0.959286</td>\n",
       "    </tr>\n",
       "    <tr>\n",
       "      <th>4201</th>\n",
       "      <td>29</td>\n",
       "      <td>29.0</td>\n",
       "      <td>0.962381</td>\n",
       "    </tr>\n",
       "    <tr>\n",
       "      <th>4202</th>\n",
       "      <td>29</td>\n",
       "      <td>29.0</td>\n",
       "      <td>0.961667</td>\n",
       "    </tr>\n",
       "    <tr>\n",
       "      <th>4203</th>\n",
       "      <td>29</td>\n",
       "      <td>29.0</td>\n",
       "      <td>0.961786</td>\n",
       "    </tr>\n",
       "    <tr>\n",
       "      <th>4204</th>\n",
       "      <td>29</td>\n",
       "      <td>29.0</td>\n",
       "      <td>0.957262</td>\n",
       "    </tr>\n",
       "  </tbody>\n",
       "</table>\n",
       "<p>4205 rows × 3 columns</p>\n",
       "</div>"
      ],
      "text/plain": [
       "       k  alpha  accuracy\n",
       "0      1    1.0  0.250952\n",
       "1      1    1.0  0.246310\n",
       "2      1    1.0  0.242024\n",
       "3      1    1.0  0.247857\n",
       "4      1    1.0  0.247619\n",
       "...   ..    ...       ...\n",
       "4200  29   29.0  0.959286\n",
       "4201  29   29.0  0.962381\n",
       "4202  29   29.0  0.961667\n",
       "4203  29   29.0  0.961786\n",
       "4204  29   29.0  0.957262\n",
       "\n",
       "[4205 rows x 3 columns]"
      ]
     },
     "execution_count": 19,
     "metadata": {},
     "output_type": "execute_result"
    }
   ],
   "source": [
    "df_knnpca\n",
    "\n",
    "df_knnpca_accuracy_column = df_knnpca.apply(\n",
    "    func=lambda row: accuracy_score(row['y_val'], row['y_pred']),\n",
    "    axis=1\n",
    ")\n",
    "df_knnpca_accuracy = df_knnpca[['k']].copy()\n",
    "df_knnpca_accuracy['alpha'] = df_knnpca['alpha']\n",
    "df_knnpca_accuracy['accuracy'] = df_knnpca_accuracy_column\n",
    "\n",
    "df_knnpca_accuracy"
   ]
  },
  {
   "cell_type": "code",
   "execution_count": 22,
   "id": "622d597b",
   "metadata": {},
   "outputs": [
    {
     "data": {
      "text/plain": [
       "<seaborn.axisgrid.FacetGrid at 0x2228c961760>"
      ]
     },
     "execution_count": 22,
     "metadata": {},
     "output_type": "execute_result"
    },
    {
     "data": {
      "image/png": "[encoded data removed]",
      "text/plain": [
       "<Figure size 360x360 with 1 Axes>"
      ]
     },
     "metadata": {
      "needs_background": "light"
     },
     "output_type": "display_data"
    }
   ],
   "source": [
    "data = df_knnpca_accuracy[df_knnpca_accuracy['alpha'] == 29]\n",
    "\n",
    "sns.relplot(data=data, x='k', y='accuracy', kind='line') \\\n",
    "   .set(title='Precisión de KNNPCA para distintas parametrizaciones con alpha=29')"
   ]
  },
  {
   "cell_type": "code",
   "execution_count": null,
   "id": "19e57faa",
   "metadata": {},
   "outputs": [],
   "source": []
  }
 ],
 "metadata": {
  "kernelspec": {
   "display_name": "Python 3 (ipykernel)",
   "language": "python",
   "name": "python3"
  },
  "language_info": {
   "codemirror_mode": {
    "name": "ipython",
    "version": 3
   },
   "file_extension": ".py",
   "mimetype": "text/x-python",
   "name": "python",
   "nbconvert_exporter": "python",
   "pygments_lexer": "ipython3",
   "version": "3.9.6"
  }
 },
 "nbformat": 4,
 "nbformat_minor": 5
}
