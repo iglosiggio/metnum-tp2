{
 "cells": [
  {
   "cell_type": "markdown",
   "id": "d346dead",
   "metadata": {},
   "source": [
    "# Laburo con los datos experimentales\n",
    "\n",
    "El objetivo de éste notebook es trabajar con los resultados experimentales (generados con `exp_k_alpha.py`). El código que genera los gráficos disponibles en el informe debería estar en su completitud aquí.\n",
    "\n",
    "Primero que todo tenemos que cargar los datos experimentales:"
   ]
  },
  {
   "cell_type": "code",
   "execution_count": 1,
   "id": "6fbb0af1",
   "metadata": {},
   "outputs": [
    {
     "name": "stdout",
     "output_type": "stream",
     "text": [
      "Hay 4500 corridas usando KNN + PCA\n",
      "Hay 150 corridas usando KNN a secas\n"
     ]
    }
   ],
   "source": [
    "from pickle import load\n",
    "from gzip import open as zopen\n",
    "\n",
    "with zopen('data.pickle.gz') as file:\n",
    "    df = load(file)\n",
    "\n",
    "df_knnpca = df[df['kind'] == 'knnpca']\n",
    "df_knn = df[df['kind'] == 'knn']\n",
    "\n",
    "print(f'Hay {len(df_knnpca)} corridas usando KNN + PCA')\n",
    "print(f'Hay {len(df_knn)} corridas usando KNN a secas')"
   ]
  },
  {
   "cell_type": "markdown",
   "id": "71f8d2b7",
   "metadata": {},
   "source": [
    "Hecho ésto, podemos empezar a explorar los datos usando las bibliotecas de python de siempre."
   ]
  },
  {
   "cell_type": "markdown",
   "id": "983d2eed",
   "metadata": {},
   "source": [
    "# Mejoras posibles a kNN\n",
    "\n",
    "kNN puede usar otras estructuras de datos para acelerar el tiempo que tardamos en evaluar nuestros modelos. En éste caso utilizaremos la implementación de kNN de la biblioteca `sklearn` en lugar de la nuestra (de esta manera esperamos que las diferencias de tiempo recaigan en la elección de estructuras en lugar de en nuestras capacidades cómo programadores).\n",
    "\n",
    "Para ésta parte de la experimentación compararemos los tiempos de los modelos utilizando búsqueda exhaustiva (igual que en nuestra implementación) y árboles k-dimensionales."
   ]
  },
  {
   "cell_type": "code",
   "execution_count": 2,
   "id": "a39541e2",
   "metadata": {},
   "outputs": [],
   "source": [
    "# Vamos a necesitar algunos datos\n",
    "import numpy as np\n",
    "import pandas as pd\n",
    "import matplotlib.pyplot as plt\n",
    "import seaborn as sns\n",
    "data = pd.read_csv('../data/train.csv')\n",
    "data_X = data[data.columns[1:]].values\n",
    "data_y = data[\"label\"].values.reshape(-1, 1)\n",
    "\n",
    "# Separémoslos sencillamente en un conjunto de entrenamiento y uno de evaluación\n",
    "from sklearn.model_selection import train_test_split\n",
    "X_train, X_test, y_train, y_test = train_test_split(data_X, data_y, test_size=0.4)"
   ]
  },
  {
   "cell_type": "code",
   "execution_count": 3,
   "id": "7df1c65f",
   "metadata": {},
   "outputs": [
    {
     "data": {
      "text/plain": [
       "\u001b[0;31mInit signature:\u001b[0m\n",
       "\u001b[0mKNeighborsClassifier\u001b[0m\u001b[0;34m(\u001b[0m\u001b[0;34m\u001b[0m\n",
       "\u001b[0;34m\u001b[0m    \u001b[0mn_neighbors\u001b[0m\u001b[0;34m=\u001b[0m\u001b[0;36m5\u001b[0m\u001b[0;34m,\u001b[0m\u001b[0;34m\u001b[0m\n",
       "\u001b[0;34m\u001b[0m    \u001b[0;34m*\u001b[0m\u001b[0;34m,\u001b[0m\u001b[0;34m\u001b[0m\n",
       "\u001b[0;34m\u001b[0m    \u001b[0mweights\u001b[0m\u001b[0;34m=\u001b[0m\u001b[0;34m'uniform'\u001b[0m\u001b[0;34m,\u001b[0m\u001b[0;34m\u001b[0m\n",
       "\u001b[0;34m\u001b[0m    \u001b[0malgorithm\u001b[0m\u001b[0;34m=\u001b[0m\u001b[0;34m'auto'\u001b[0m\u001b[0;34m,\u001b[0m\u001b[0;34m\u001b[0m\n",
       "\u001b[0;34m\u001b[0m    \u001b[0mleaf_size\u001b[0m\u001b[0;34m=\u001b[0m\u001b[0;36m30\u001b[0m\u001b[0;34m,\u001b[0m\u001b[0;34m\u001b[0m\n",
       "\u001b[0;34m\u001b[0m    \u001b[0mp\u001b[0m\u001b[0;34m=\u001b[0m\u001b[0;36m2\u001b[0m\u001b[0;34m,\u001b[0m\u001b[0;34m\u001b[0m\n",
       "\u001b[0;34m\u001b[0m    \u001b[0mmetric\u001b[0m\u001b[0;34m=\u001b[0m\u001b[0;34m'minkowski'\u001b[0m\u001b[0;34m,\u001b[0m\u001b[0;34m\u001b[0m\n",
       "\u001b[0;34m\u001b[0m    \u001b[0mmetric_params\u001b[0m\u001b[0;34m=\u001b[0m\u001b[0;32mNone\u001b[0m\u001b[0;34m,\u001b[0m\u001b[0;34m\u001b[0m\n",
       "\u001b[0;34m\u001b[0m    \u001b[0mn_jobs\u001b[0m\u001b[0;34m=\u001b[0m\u001b[0;32mNone\u001b[0m\u001b[0;34m,\u001b[0m\u001b[0;34m\u001b[0m\n",
       "\u001b[0;34m\u001b[0m\u001b[0;34m)\u001b[0m\u001b[0;34m\u001b[0m\u001b[0;34m\u001b[0m\u001b[0m\n",
       "\u001b[0;31mDocstring:\u001b[0m     \n",
       "Classifier implementing the k-nearest neighbors vote.\n",
       "\n",
       "Read more in the :ref:`User Guide <classification>`.\n",
       "\n",
       "Parameters\n",
       "----------\n",
       "n_neighbors : int, default=5\n",
       "    Number of neighbors to use by default for :meth:`kneighbors` queries.\n",
       "\n",
       "weights : {'uniform', 'distance'} or callable, default='uniform'\n",
       "    Weight function used in prediction.  Possible values:\n",
       "\n",
       "    - 'uniform' : uniform weights.  All points in each neighborhood\n",
       "      are weighted equally.\n",
       "    - 'distance' : weight points by the inverse of their distance.\n",
       "      in this case, closer neighbors of a query point will have a\n",
       "      greater influence than neighbors which are further away.\n",
       "    - [callable] : a user-defined function which accepts an\n",
       "      array of distances, and returns an array of the same shape\n",
       "      containing the weights.\n",
       "\n",
       "algorithm : {'auto', 'ball_tree', 'kd_tree', 'brute'}, default='auto'\n",
       "    Algorithm used to compute the nearest neighbors:\n",
       "\n",
       "    - 'ball_tree' will use :class:`BallTree`\n",
       "    - 'kd_tree' will use :class:`KDTree`\n",
       "    - 'brute' will use a brute-force search.\n",
       "    - 'auto' will attempt to decide the most appropriate algorithm\n",
       "      based on the values passed to :meth:`fit` method.\n",
       "\n",
       "    Note: fitting on sparse input will override the setting of\n",
       "    this parameter, using brute force.\n",
       "\n",
       "leaf_size : int, default=30\n",
       "    Leaf size passed to BallTree or KDTree.  This can affect the\n",
       "    speed of the construction and query, as well as the memory\n",
       "    required to store the tree.  The optimal value depends on the\n",
       "    nature of the problem.\n",
       "\n",
       "p : int, default=2\n",
       "    Power parameter for the Minkowski metric. When p = 1, this is\n",
       "    equivalent to using manhattan_distance (l1), and euclidean_distance\n",
       "    (l2) for p = 2. For arbitrary p, minkowski_distance (l_p) is used.\n",
       "\n",
       "metric : str or callable, default='minkowski'\n",
       "    The distance metric to use for the tree.  The default metric is\n",
       "    minkowski, and with p=2 is equivalent to the standard Euclidean\n",
       "    metric. See the documentation of :class:`DistanceMetric` for a\n",
       "    list of available metrics.\n",
       "    If metric is \"precomputed\", X is assumed to be a distance matrix and\n",
       "    must be square during fit. X may be a :term:`sparse graph`,\n",
       "    in which case only \"nonzero\" elements may be considered neighbors.\n",
       "\n",
       "metric_params : dict, default=None\n",
       "    Additional keyword arguments for the metric function.\n",
       "\n",
       "n_jobs : int, default=None\n",
       "    The number of parallel jobs to run for neighbors search.\n",
       "    ``None`` means 1 unless in a :obj:`joblib.parallel_backend` context.\n",
       "    ``-1`` means using all processors. See :term:`Glossary <n_jobs>`\n",
       "    for more details.\n",
       "    Doesn't affect :meth:`fit` method.\n",
       "\n",
       "Attributes\n",
       "----------\n",
       "classes_ : array of shape (n_classes,)\n",
       "    Class labels known to the classifier\n",
       "\n",
       "effective_metric_ : str or callble\n",
       "    The distance metric used. It will be same as the `metric` parameter\n",
       "    or a synonym of it, e.g. 'euclidean' if the `metric` parameter set to\n",
       "    'minkowski' and `p` parameter set to 2.\n",
       "\n",
       "effective_metric_params_ : dict\n",
       "    Additional keyword arguments for the metric function. For most metrics\n",
       "    will be same with `metric_params` parameter, but may also contain the\n",
       "    `p` parameter value if the `effective_metric_` attribute is set to\n",
       "    'minkowski'.\n",
       "\n",
       "n_features_in_ : int\n",
       "    Number of features seen during :term:`fit`.\n",
       "\n",
       "    .. versionadded:: 0.24\n",
       "\n",
       "feature_names_in_ : ndarray of shape (`n_features_in_`,)\n",
       "    Names of features seen during :term:`fit`. Defined only when `X`\n",
       "    has feature names that are all strings.\n",
       "\n",
       "    .. versionadded:: 1.0\n",
       "\n",
       "n_samples_fit_ : int\n",
       "    Number of samples in the fitted data.\n",
       "\n",
       "outputs_2d_ : bool\n",
       "    False when `y`'s shape is (n_samples, ) or (n_samples, 1) during fit\n",
       "    otherwise True.\n",
       "\n",
       "See Also\n",
       "--------\n",
       "RadiusNeighborsClassifier: Classifier based on neighbors within a fixed radius.\n",
       "KNeighborsRegressor: Regression based on k-nearest neighbors.\n",
       "RadiusNeighborsRegressor: Regression based on neighbors within a fixed radius.\n",
       "NearestNeighbors: Unsupervised learner for implementing neighbor searches.\n",
       "\n",
       "Notes\n",
       "-----\n",
       "See :ref:`Nearest Neighbors <neighbors>` in the online documentation\n",
       "for a discussion of the choice of ``algorithm`` and ``leaf_size``.\n",
       "\n",
       ".. warning::\n",
       "\n",
       "   Regarding the Nearest Neighbors algorithms, if it is found that two\n",
       "   neighbors, neighbor `k+1` and `k`, have identical distances\n",
       "   but different labels, the results will depend on the ordering of the\n",
       "   training data.\n",
       "\n",
       "https://en.wikipedia.org/wiki/K-nearest_neighbor_algorithm\n",
       "\n",
       "Examples\n",
       "--------\n",
       ">>> X = [[0], [1], [2], [3]]\n",
       ">>> y = [0, 0, 1, 1]\n",
       ">>> from sklearn.neighbors import KNeighborsClassifier\n",
       ">>> neigh = KNeighborsClassifier(n_neighbors=3)\n",
       ">>> neigh.fit(X, y)\n",
       "KNeighborsClassifier(...)\n",
       ">>> print(neigh.predict([[1.1]]))\n",
       "[0]\n",
       ">>> print(neigh.predict_proba([[0.9]]))\n",
       "[[0.666... 0.333...]]\n",
       "\u001b[0;31mFile:\u001b[0m           ~/facu/metodos/labos/tp2/venv/lib/python3.9/site-packages/sklearn/neighbors/_classification.py\n",
       "\u001b[0;31mType:\u001b[0m           ABCMeta\n",
       "\u001b[0;31mSubclasses:\u001b[0m     \n"
      ]
     },
     "metadata": {},
     "output_type": "display_data"
    }
   ],
   "source": [
    "from sklearn.neighbors import KNeighborsClassifier\n",
    "\n",
    "# 1. Veamos la documentación oficial:\n",
    "?KNeighborsClassifier"
   ]
  },
  {
   "cell_type": "markdown",
   "id": "8c5f4beb",
   "metadata": {},
   "source": [
    "## Corramos un par de experimentos\n",
    "\n",
    "O carguémoslos del archivo con los resultados que está cómodamente ubicado en el repo :)\n",
    "\n",
    "En caso de querer ejecutar la experimentación alcanza con cambiar `LOAD_FROM_FILE` a `False`. Con eso se van a entrenar 5 modelos utilizando el algorithmo `kd_tree` y 5 modelos utilizando `brute` por cada $\\alpha \\in [5; 200] \\wedge \\alpha \\text{ mod } 5 = 0$.\n",
    "\n",
    "Se registran sólo los tiempos de _predict_."
   ]
  },
  {
   "cell_type": "code",
   "execution_count": 4,
   "id": "618e2656",
   "metadata": {},
   "outputs": [
    {
     "data": {
      "text/html": [
       "<div>\n",
       "<style scoped>\n",
       "    .dataframe tbody tr th:only-of-type {\n",
       "        vertical-align: middle;\n",
       "    }\n",
       "\n",
       "    .dataframe tbody tr th {\n",
       "        vertical-align: top;\n",
       "    }\n",
       "\n",
       "    .dataframe thead th {\n",
       "        text-align: right;\n",
       "    }\n",
       "</style>\n",
       "<table border=\"1\" class=\"dataframe\">\n",
       "  <thead>\n",
       "    <tr style=\"text-align: right;\">\n",
       "      <th></th>\n",
       "      <th>Algoritmo</th>\n",
       "      <th>alpha</th>\n",
       "      <th>Tiempo (en segundos)</th>\n",
       "    </tr>\n",
       "  </thead>\n",
       "  <tbody>\n",
       "    <tr>\n",
       "      <th>0</th>\n",
       "      <td>kd_tree</td>\n",
       "      <td>5</td>\n",
       "      <td>0.455152</td>\n",
       "    </tr>\n",
       "    <tr>\n",
       "      <th>1</th>\n",
       "      <td>kd_tree</td>\n",
       "      <td>5</td>\n",
       "      <td>0.459383</td>\n",
       "    </tr>\n",
       "    <tr>\n",
       "      <th>2</th>\n",
       "      <td>kd_tree</td>\n",
       "      <td>5</td>\n",
       "      <td>0.467578</td>\n",
       "    </tr>\n",
       "    <tr>\n",
       "      <th>3</th>\n",
       "      <td>kd_tree</td>\n",
       "      <td>5</td>\n",
       "      <td>0.452955</td>\n",
       "    </tr>\n",
       "    <tr>\n",
       "      <th>4</th>\n",
       "      <td>kd_tree</td>\n",
       "      <td>5</td>\n",
       "      <td>0.447630</td>\n",
       "    </tr>\n",
       "    <tr>\n",
       "      <th>...</th>\n",
       "      <td>...</td>\n",
       "      <td>...</td>\n",
       "      <td>...</td>\n",
       "    </tr>\n",
       "    <tr>\n",
       "      <th>395</th>\n",
       "      <td>brute</td>\n",
       "      <td>200</td>\n",
       "      <td>8.706522</td>\n",
       "    </tr>\n",
       "    <tr>\n",
       "      <th>396</th>\n",
       "      <td>brute</td>\n",
       "      <td>200</td>\n",
       "      <td>8.771624</td>\n",
       "    </tr>\n",
       "    <tr>\n",
       "      <th>397</th>\n",
       "      <td>brute</td>\n",
       "      <td>200</td>\n",
       "      <td>8.757737</td>\n",
       "    </tr>\n",
       "    <tr>\n",
       "      <th>398</th>\n",
       "      <td>brute</td>\n",
       "      <td>200</td>\n",
       "      <td>8.821027</td>\n",
       "    </tr>\n",
       "    <tr>\n",
       "      <th>399</th>\n",
       "      <td>brute</td>\n",
       "      <td>200</td>\n",
       "      <td>8.790901</td>\n",
       "    </tr>\n",
       "  </tbody>\n",
       "</table>\n",
       "<p>400 rows × 3 columns</p>\n",
       "</div>"
      ],
      "text/plain": [
       "    Algoritmo  alpha  Tiempo (en segundos)\n",
       "0     kd_tree      5              0.455152\n",
       "1     kd_tree      5              0.459383\n",
       "2     kd_tree      5              0.467578\n",
       "3     kd_tree      5              0.452955\n",
       "4     kd_tree      5              0.447630\n",
       "..        ...    ...                   ...\n",
       "395     brute    200              8.706522\n",
       "396     brute    200              8.771624\n",
       "397     brute    200              8.757737\n",
       "398     brute    200              8.821027\n",
       "399     brute    200              8.790901\n",
       "\n",
       "[400 rows x 3 columns]"
      ]
     },
     "execution_count": 4,
     "metadata": {},
     "output_type": "execute_result"
    }
   ],
   "source": [
    "from time import perf_counter_ns\n",
    "from metnum import PCA\n",
    "\n",
    "y_train_1d = y_train.ravel()\n",
    "\n",
    "ALPHA_RANGE = range(5, 201, 5)\n",
    "NUM_TRIES = 5\n",
    "LOAD_FROM_FILE = True\n",
    "\n",
    "def time_for(fn, *args, **kwargs):\n",
    "    start_time = perf_counter_ns()\n",
    "    fn(*args, **kwargs)\n",
    "    end_time = perf_counter_ns()\n",
    "    return end_time - start_time\n",
    "\n",
    "if LOAD_FROM_FILE:\n",
    "    with open('kd_tree_vs_brute.pickle', 'rb') as file:\n",
    "        results = load(file)\n",
    "else:\n",
    "    results_kd_tree = {}\n",
    "    results_brute = {}\n",
    "    results = {\n",
    "        'kd_tree': results_kd_tree,\n",
    "        'brute': results_brute\n",
    "    }\n",
    "\n",
    "    for alpha in ALPHA_RANGE:\n",
    "        # Primero achiquemos la dimensionalidad del problema así no tarda mil años\n",
    "        pca = PCA(alpha)\n",
    "        pca.fit(X_train)\n",
    "        X_train_pc = pca.transform(X_train)\n",
    "        X_test_pc = pca.transform(X_test)\n",
    "\n",
    "        results_for_this_alpha_kd_tree = results_kd_tree.setdefault(alpha, [])\n",
    "        results_for_this_alpha_brute = results_brute.setdefault(alpha, [])\n",
    "\n",
    "        # Ok, queremos comparar algorithm='kd_tree' con algorithm='brute'\n",
    "        knn_kd_tree = KNeighborsClassifier(n_neighbors=5, algorithm='kd_tree')\n",
    "        knn_kd_tree.fit(X_train_pc, y_train_1d)\n",
    "        knn_brute = KNeighborsClassifier(n_neighbors=5, algorithm='brute')\n",
    "        knn_brute.fit(X_train_pc, y_train_1d)\n",
    "\n",
    "        for _ in range(NUM_TRIES):\n",
    "            results_for_this_alpha_kd_tree.append(time_for(knn_kd_tree.predict, X_test_pc))\n",
    "            results_for_this_alpha_brute.append(time_for(knn_brute.predict, X_test_pc))\n",
    "\n",
    "    with open('kd_tree_vs_brute.pickle', 'wb') as file:\n",
    "        from pickle import dump\n",
    "        dump(results, file)\n",
    "\n",
    "df_results = pd.DataFrame(((algo, alpha, time)\n",
    "                           for algo, alpha_dict in results.items()\n",
    "                           for alpha, timing_list in alpha_dict.items()\n",
    "                           for time in timing_list),\n",
    "                          columns=['Algoritmo', 'alpha', 'Tiempo (en segundos)'])\n",
    "df_results['Tiempo (en segundos)'] /= 10**9 # Pasamos de nanosegundos a segundos\n",
    "df_results"
   ]
  },
  {
   "cell_type": "markdown",
   "id": "ce4541b9",
   "metadata": {},
   "source": [
    "Con los datos que tenemos podemos comprar `kd_tree` con `brute` y ver cómo los algoritmos se comportan para distintos valores de $\\alpha$."
   ]
  },
  {
   "cell_type": "code",
   "execution_count": 5,
   "id": "002b410e",
   "metadata": {},
   "outputs": [
    {
     "data": {
      "image/png": "[encoded data removed]",
      "text/plain": [
       "<Figure size 433.125x360 with 1 Axes>"
      ]
     },
     "metadata": {
      "needs_background": "light"
     },
     "output_type": "display_data"
    }
   ],
   "source": [
    "grid = sns.relplot(data=df_results, x='alpha', y='Tiempo (en segundos)', hue='Algoritmo', kind='line')\n",
    "grid.figure.savefig('sklearn-kd-tree-vs-brute.pdf')"
   ]
  },
  {
   "cell_type": "markdown",
   "id": "0e756b2d",
   "metadata": {},
   "source": [
    "Ahora comparemos nuestro `brute` con el de `sklearn` :)"
   ]
  },
  {
   "cell_type": "code",
   "execution_count": 6,
   "id": "ebcd095b",
   "metadata": {},
   "outputs": [
    {
     "data": {
      "text/html": [
       "<div>\n",
       "<style scoped>\n",
       "    .dataframe tbody tr th:only-of-type {\n",
       "        vertical-align: middle;\n",
       "    }\n",
       "\n",
       "    .dataframe tbody tr th {\n",
       "        vertical-align: top;\n",
       "    }\n",
       "\n",
       "    .dataframe thead th {\n",
       "        text-align: right;\n",
       "    }\n",
       "</style>\n",
       "<table border=\"1\" class=\"dataframe\">\n",
       "  <thead>\n",
       "    <tr style=\"text-align: right;\">\n",
       "      <th></th>\n",
       "      <th>Implementación</th>\n",
       "      <th>alpha</th>\n",
       "      <th>Tiempo (en segundos)</th>\n",
       "    </tr>\n",
       "  </thead>\n",
       "  <tbody>\n",
       "    <tr>\n",
       "      <th>0</th>\n",
       "      <td>ours</td>\n",
       "      <td>5</td>\n",
       "      <td>2.770753</td>\n",
       "    </tr>\n",
       "    <tr>\n",
       "      <th>1</th>\n",
       "      <td>sklearn</td>\n",
       "      <td>5</td>\n",
       "      <td>7.861581</td>\n",
       "    </tr>\n",
       "    <tr>\n",
       "      <th>2</th>\n",
       "      <td>ours</td>\n",
       "      <td>5</td>\n",
       "      <td>2.770436</td>\n",
       "    </tr>\n",
       "    <tr>\n",
       "      <th>3</th>\n",
       "      <td>sklearn</td>\n",
       "      <td>5</td>\n",
       "      <td>7.721038</td>\n",
       "    </tr>\n",
       "    <tr>\n",
       "      <th>4</th>\n",
       "      <td>ours</td>\n",
       "      <td>5</td>\n",
       "      <td>2.766620</td>\n",
       "    </tr>\n",
       "    <tr>\n",
       "      <th>...</th>\n",
       "      <td>...</td>\n",
       "      <td>...</td>\n",
       "      <td>...</td>\n",
       "    </tr>\n",
       "    <tr>\n",
       "      <th>95</th>\n",
       "      <td>sklearn</td>\n",
       "      <td>50</td>\n",
       "      <td>7.665190</td>\n",
       "    </tr>\n",
       "    <tr>\n",
       "      <th>96</th>\n",
       "      <td>ours</td>\n",
       "      <td>50</td>\n",
       "      <td>18.684645</td>\n",
       "    </tr>\n",
       "    <tr>\n",
       "      <th>97</th>\n",
       "      <td>sklearn</td>\n",
       "      <td>50</td>\n",
       "      <td>7.658959</td>\n",
       "    </tr>\n",
       "    <tr>\n",
       "      <th>98</th>\n",
       "      <td>ours</td>\n",
       "      <td>50</td>\n",
       "      <td>18.667993</td>\n",
       "    </tr>\n",
       "    <tr>\n",
       "      <th>99</th>\n",
       "      <td>sklearn</td>\n",
       "      <td>50</td>\n",
       "      <td>7.673969</td>\n",
       "    </tr>\n",
       "  </tbody>\n",
       "</table>\n",
       "<p>100 rows × 3 columns</p>\n",
       "</div>"
      ],
      "text/plain": [
       "   Implementación  alpha  Tiempo (en segundos)\n",
       "0            ours      5              2.770753\n",
       "1         sklearn      5              7.861581\n",
       "2            ours      5              2.770436\n",
       "3         sklearn      5              7.721038\n",
       "4            ours      5              2.766620\n",
       "..            ...    ...                   ...\n",
       "95        sklearn     50              7.665190\n",
       "96           ours     50             18.684645\n",
       "97        sklearn     50              7.658959\n",
       "98           ours     50             18.667993\n",
       "99        sklearn     50              7.673969\n",
       "\n",
       "[100 rows x 3 columns]"
      ]
     },
     "execution_count": 6,
     "metadata": {},
     "output_type": "execute_result"
    }
   ],
   "source": [
    "from metnum import KNNClassifier\n",
    "\n",
    "LOAD_FROM_FILE = True\n",
    "\n",
    "if LOAD_FROM_FILE:\n",
    "    with open('kd_tree_vs_ours.pickle', 'rb') as file:\n",
    "        results_sklearn_vs_ours = load(file)\n",
    "else:\n",
    "    results_sklearn_vs_ours = []\n",
    "\n",
    "    for alpha in range(5, 51, 5):\n",
    "        print(f'alpha={alpha} ', flush=True)\n",
    "        # Primero achiquemos la dimensionalidad del problema así no tarda mil años\n",
    "        pca = PCA(alpha)\n",
    "        pca.fit(X_train)\n",
    "        X_train_pc = pca.transform(X_train)\n",
    "        X_test_pc = pca.transform(X_test)\n",
    "\n",
    "        knn_ours = KNNClassifier(5)\n",
    "        knn_ours.fit(X_train_pc, y_train_1d)\n",
    "        knn_sklearn = KNeighborsClassifier(n_neighbors=5, algorithm='brute')\n",
    "        knn_sklearn.fit(X_train_pc, y_train_1d)\n",
    "\n",
    "        for _ in range(NUM_TRIES):\n",
    "            print('.', end='', flush=True)\n",
    "            results_sklearn_vs_ours.append(('ours', alpha, time_for(knn_ours.predict, X_test_pc)))\n",
    "            print(',', end='', flush=True)\n",
    "            results_sklearn_vs_ours.append(('sklearn', alpha, time_for(knn_sklearn.predict, X_test_pc)))\n",
    "\n",
    "    results_sklearn_vs_ours = pd.DataFrame(results_sklearn_vs_ours, columns=['Implementación', 'alpha', 'Tiempo (en segundos)'])\n",
    "    results_sklearn_vs_ours['Tiempo (en segundos)'] /= 10**9\n",
    "\n",
    "    with open('kd_tree_vs_ours.pickle', 'wb') as file:\n",
    "        from pickle import dump\n",
    "        dump(results_sklearn_vs_ours, file)\n",
    "\n",
    "results_sklearn_vs_ours"
   ]
  },
  {
   "cell_type": "markdown",
   "id": "4442638d",
   "metadata": {},
   "source": [
    "Nuevamente, tenemos los resultados, vamos a verlos."
   ]
  },
  {
   "cell_type": "code",
   "execution_count": 7,
   "id": "d64e5720",
   "metadata": {},
   "outputs": [
    {
     "data": {
      "image/png": "[encoded data removed]",
      "text/plain": [
       "<Figure size 448.625x360 with 1 Axes>"
      ]
     },
     "metadata": {
      "needs_background": "light"
     },
     "output_type": "display_data"
    }
   ],
   "source": [
    "grid = sns.relplot(data=results_sklearn_vs_ours, x='alpha', y='Tiempo (en segundos)', hue='Implementación', kind='line')\n",
    "grid.figure.savefig('brute-sklearn-vs-own.pdf')"
   ]
  },
  {
   "cell_type": "markdown",
   "id": "be065b4a",
   "metadata": {},
   "source": [
    "Finalmente, veamos cómo se comporta nuestra implementación (en la experimentación de `exp_k_alpha.py`) al variar $k$."
   ]
  },
  {
   "cell_type": "code",
   "execution_count": 8,
   "id": "010c666b",
   "metadata": {},
   "outputs": [
    {
     "data": {
      "image/png": "[encoded data removed]",
      "text/plain": [
       "<Figure size 360x360 with 1 Axes>"
      ]
     },
     "metadata": {
      "needs_background": "light"
     },
     "output_type": "display_data"
    }
   ],
   "source": [
    "data = df_knn[['k', 'knn_predict_time']].copy()\n",
    "data['knn_predict_time'] /= 10**9 * 60\n",
    "data.columns = ['k', 'Tiempo (en minutos)']\n",
    "sns.relplot(data=data, x='k', y='Tiempo (en minutos)', kind='line') \\\n",
    "   .figure.savefig('knn-k-performance.pdf')"
   ]
  },
  {
   "cell_type": "markdown",
   "id": "da24dd02",
   "metadata": {},
   "source": [
    "¿Y al variar $\\alpha$?"
   ]
  },
  {
   "cell_type": "code",
   "execution_count": 9,
   "id": "8d05907a",
   "metadata": {},
   "outputs": [
    {
     "data": {
      "image/png": "[encoded data removed]",
      "text/plain": [
       "<Figure size 360x360 with 1 Axes>"
      ]
     },
     "metadata": {
      "needs_background": "light"
     },
     "output_type": "display_data"
    }
   ],
   "source": [
    "data = df_knnpca[['alpha', 'knn_predict_time']].copy()\n",
    "data['knn_predict_time'] /= 10**9\n",
    "data.columns = ['alpha', 'Tiempo (en segundos)']\n",
    "sns.relplot(data=data, x='alpha', y='Tiempo (en segundos)', kind='line') \\\n",
    "   .figure.savefig('knnpca-alpha-performance.pdf')"
   ]
  }
 ],
 "metadata": {
  "kernelspec": {
   "display_name": "Python 3 (ipykernel)",
   "language": "python",
   "name": "python3"
  },
  "language_info": {
   "codemirror_mode": {
    "name": "ipython",
    "version": 3
   },
   "file_extension": ".py",
   "mimetype": "text/x-python",
   "name": "python",
   "nbconvert_exporter": "python",
   "pygments_lexer": "ipython3",
   "version": "3.9.7"
  }
 },
 "nbformat": 4,
 "nbformat_minor": 5
}
