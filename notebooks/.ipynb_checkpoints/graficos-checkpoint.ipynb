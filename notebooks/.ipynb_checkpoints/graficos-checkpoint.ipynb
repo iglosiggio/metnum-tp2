{
 "cells": [
  {
   "cell_type": "markdown",
   "id": "0811a17d",
   "metadata": {},
   "source": [
    "# Laburo con los datos experimentales\n",
    "\n",
    "El objetivo de éste notebook es trabajar con los resultados experimentales (generados con `exp_k_alpha.py`). El código que genera los gráficos disponibles en el informe debería estar en su completitud aquí.\n",
    "\n",
    "Primero que todo tenemos que cargar los datos experimentales:"
   ]
  },
  {
   "cell_type": "code",
   "execution_count": 1,
   "id": "3af5f1e5",
   "metadata": {},
   "outputs": [
    {
     "data": {
      "text/html": [
       "<div>\n",
       "<style scoped>\n",
       "    .dataframe tbody tr th:only-of-type {\n",
       "        vertical-align: middle;\n",
       "    }\n",
       "\n",
       "    .dataframe tbody tr th {\n",
       "        vertical-align: top;\n",
       "    }\n",
       "\n",
       "    .dataframe thead th {\n",
       "        text-align: right;\n",
       "    }\n",
       "</style>\n",
       "<table border=\"1\" class=\"dataframe\">\n",
       "  <thead>\n",
       "    <tr style=\"text-align: right;\">\n",
       "      <th></th>\n",
       "      <th>kind</th>\n",
       "      <th>k</th>\n",
       "      <th>alpha</th>\n",
       "      <th>elapsed_time</th>\n",
       "      <th>pca_init_and_fit_time</th>\n",
       "      <th>pca_transform_time</th>\n",
       "      <th>knn_init_and_fit_time</th>\n",
       "      <th>knn_predict_time</th>\n",
       "      <th>y_pred</th>\n",
       "      <th>y_test</th>\n",
       "      <th>y_fold_pred</th>\n",
       "      <th>y_fold_test</th>\n",
       "    </tr>\n",
       "  </thead>\n",
       "  <tbody>\n",
       "    <tr>\n",
       "      <th>0</th>\n",
       "      <td>knnpca</td>\n",
       "      <td>1</td>\n",
       "      <td>1.0</td>\n",
       "      <td>5473120128</td>\n",
       "      <td>2.598776e+09</td>\n",
       "      <td>235056397.0</td>\n",
       "      <td>187226</td>\n",
       "      <td>2639100516</td>\n",
       "      <td>[7.0, 0.0, 2.0, 2.0, 7.0, 1.0, 7.0, 2.0, 9.0, ...</td>\n",
       "      <td>[[7], [2], [9], [6], [9], [6], [3], [8], [6], ...</td>\n",
       "      <td>[1.0, 4.0, 5.0, 1.0, 8.0, 7.0, 6.0, 7.0, 3.0, ...</td>\n",
       "      <td>[[2], [9], [3], [1], [2], [9], [5], [8], [7], ...</td>\n",
       "    </tr>\n",
       "    <tr>\n",
       "      <th>1</th>\n",
       "      <td>knnpca</td>\n",
       "      <td>2</td>\n",
       "      <td>1.0</td>\n",
       "      <td>5575963044</td>\n",
       "      <td>2.598776e+09</td>\n",
       "      <td>235056397.0</td>\n",
       "      <td>146870</td>\n",
       "      <td>2741983788</td>\n",
       "      <td>[1.0, 0.0, 2.0, 2.0, 7.0, 1.0, 3.0, 2.0, 0.0, ...</td>\n",
       "      <td>[[7], [2], [9], [6], [9], [6], [3], [8], [6], ...</td>\n",
       "      <td>[1.0, 4.0, 5.0, 1.0, 3.0, 7.0, 6.0, 4.0, 3.0, ...</td>\n",
       "      <td>[[2], [9], [3], [1], [2], [9], [5], [8], [7], ...</td>\n",
       "    </tr>\n",
       "    <tr>\n",
       "      <th>2</th>\n",
       "      <td>knnpca</td>\n",
       "      <td>3</td>\n",
       "      <td>1.0</td>\n",
       "      <td>5737825042</td>\n",
       "      <td>2.598776e+09</td>\n",
       "      <td>235056397.0</td>\n",
       "      <td>185627</td>\n",
       "      <td>2903807029</td>\n",
       "      <td>[1.0, 0.0, 2.0, 2.0, 7.0, 1.0, 3.0, 2.0, 0.0, ...</td>\n",
       "      <td>[[7], [2], [9], [6], [9], [6], [3], [8], [6], ...</td>\n",
       "      <td>[1.0, 6.0, 5.0, 1.0, 3.0, 3.0, 6.0, 4.0, 3.0, ...</td>\n",
       "      <td>[[2], [9], [3], [1], [2], [9], [5], [8], [7], ...</td>\n",
       "    </tr>\n",
       "    <tr>\n",
       "      <th>3</th>\n",
       "      <td>knnpca</td>\n",
       "      <td>4</td>\n",
       "      <td>1.0</td>\n",
       "      <td>5679472451</td>\n",
       "      <td>2.598776e+09</td>\n",
       "      <td>235056397.0</td>\n",
       "      <td>232890</td>\n",
       "      <td>2845407175</td>\n",
       "      <td>[1.0, 0.0, 2.0, 2.0, 7.0, 7.0, 3.0, 5.0, 0.0, ...</td>\n",
       "      <td>[[7], [2], [9], [6], [9], [6], [3], [8], [6], ...</td>\n",
       "      <td>[7.0, 6.0, 5.0, 1.0, 8.0, 3.0, 6.0, 4.0, 3.0, ...</td>\n",
       "      <td>[[2], [9], [3], [1], [2], [9], [5], [8], [7], ...</td>\n",
       "    </tr>\n",
       "    <tr>\n",
       "      <th>4</th>\n",
       "      <td>knnpca</td>\n",
       "      <td>5</td>\n",
       "      <td>1.0</td>\n",
       "      <td>5718439245</td>\n",
       "      <td>2.598776e+09</td>\n",
       "      <td>235056397.0</td>\n",
       "      <td>205614</td>\n",
       "      <td>2884401245</td>\n",
       "      <td>[1.0, 0.0, 2.0, 7.0, 7.0, 7.0, 5.0, 5.0, 0.0, ...</td>\n",
       "      <td>[[7], [2], [9], [6], [9], [6], [3], [8], [6], ...</td>\n",
       "      <td>[7.0, 6.0, 5.0, 1.0, 8.0, 3.0, 6.0, 4.0, 4.0, ...</td>\n",
       "      <td>[[2], [9], [3], [1], [2], [9], [5], [8], [7], ...</td>\n",
       "    </tr>\n",
       "    <tr>\n",
       "      <th>...</th>\n",
       "      <td>...</td>\n",
       "      <td>...</td>\n",
       "      <td>...</td>\n",
       "      <td>...</td>\n",
       "      <td>...</td>\n",
       "      <td>...</td>\n",
       "      <td>...</td>\n",
       "      <td>...</td>\n",
       "      <td>...</td>\n",
       "      <td>...</td>\n",
       "      <td>...</td>\n",
       "      <td>...</td>\n",
       "    </tr>\n",
       "    <tr>\n",
       "      <th>4645</th>\n",
       "      <td>knn</td>\n",
       "      <td>26</td>\n",
       "      <td>NaN</td>\n",
       "      <td>716552634872</td>\n",
       "      <td>NaN</td>\n",
       "      <td>NaN</td>\n",
       "      <td>209053599</td>\n",
       "      <td>716343581273</td>\n",
       "      <td>[9.0, 2.0, 9.0, 6.0, 9.0, 6.0, 3.0, 8.0, 6.0, ...</td>\n",
       "      <td>[[7], [2], [9], [6], [9], [6], [3], [8], [6], ...</td>\n",
       "      <td>[8.0, 7.0, 1.0, 0.0, 7.0, 2.0, 8.0, 2.0, 7.0, ...</td>\n",
       "      <td>[[8], [7], [1], [0], [7], [2], [8], [2], [7], ...</td>\n",
       "    </tr>\n",
       "    <tr>\n",
       "      <th>4646</th>\n",
       "      <td>knn</td>\n",
       "      <td>27</td>\n",
       "      <td>NaN</td>\n",
       "      <td>660746681464</td>\n",
       "      <td>NaN</td>\n",
       "      <td>NaN</td>\n",
       "      <td>238334395</td>\n",
       "      <td>660508347069</td>\n",
       "      <td>[9.0, 2.0, 9.0, 6.0, 9.0, 6.0, 3.0, 8.0, 6.0, ...</td>\n",
       "      <td>[[7], [2], [9], [6], [9], [6], [3], [8], [6], ...</td>\n",
       "      <td>[8.0, 7.0, 1.0, 0.0, 7.0, 2.0, 8.0, 2.0, 7.0, ...</td>\n",
       "      <td>[[8], [7], [1], [0], [7], [2], [8], [2], [7], ...</td>\n",
       "    </tr>\n",
       "    <tr>\n",
       "      <th>4647</th>\n",
       "      <td>knn</td>\n",
       "      <td>28</td>\n",
       "      <td>NaN</td>\n",
       "      <td>604904267144</td>\n",
       "      <td>NaN</td>\n",
       "      <td>NaN</td>\n",
       "      <td>213043046</td>\n",
       "      <td>604691224098</td>\n",
       "      <td>[9.0, 2.0, 9.0, 6.0, 9.0, 6.0, 3.0, 8.0, 6.0, ...</td>\n",
       "      <td>[[7], [2], [9], [6], [9], [6], [3], [8], [6], ...</td>\n",
       "      <td>[8.0, 7.0, 1.0, 0.0, 7.0, 2.0, 8.0, 2.0, 7.0, ...</td>\n",
       "      <td>[[8], [7], [1], [0], [7], [2], [8], [2], [7], ...</td>\n",
       "    </tr>\n",
       "    <tr>\n",
       "      <th>4648</th>\n",
       "      <td>knn</td>\n",
       "      <td>29</td>\n",
       "      <td>NaN</td>\n",
       "      <td>566102875095</td>\n",
       "      <td>NaN</td>\n",
       "      <td>NaN</td>\n",
       "      <td>200959077</td>\n",
       "      <td>565901916018</td>\n",
       "      <td>[9.0, 2.0, 9.0, 6.0, 9.0, 6.0, 3.0, 8.0, 6.0, ...</td>\n",
       "      <td>[[7], [2], [9], [6], [9], [6], [3], [8], [6], ...</td>\n",
       "      <td>[8.0, 7.0, 1.0, 0.0, 7.0, 2.0, 8.0, 2.0, 7.0, ...</td>\n",
       "      <td>[[8], [7], [1], [0], [7], [2], [8], [2], [7], ...</td>\n",
       "    </tr>\n",
       "    <tr>\n",
       "      <th>4649</th>\n",
       "      <td>knn</td>\n",
       "      <td>30</td>\n",
       "      <td>NaN</td>\n",
       "      <td>477640365223</td>\n",
       "      <td>NaN</td>\n",
       "      <td>NaN</td>\n",
       "      <td>199483457</td>\n",
       "      <td>477440881766</td>\n",
       "      <td>[9.0, 2.0, 9.0, 6.0, 9.0, 6.0, 3.0, 8.0, 6.0, ...</td>\n",
       "      <td>[[7], [2], [9], [6], [9], [6], [3], [8], [6], ...</td>\n",
       "      <td>[8.0, 7.0, 1.0, 0.0, 7.0, 2.0, 8.0, 2.0, 7.0, ...</td>\n",
       "      <td>[[8], [7], [1], [0], [7], [2], [8], [2], [7], ...</td>\n",
       "    </tr>\n",
       "  </tbody>\n",
       "</table>\n",
       "<p>4650 rows × 12 columns</p>\n",
       "</div>"
      ],
      "text/plain": [
       "        kind   k  alpha  elapsed_time  pca_init_and_fit_time  \\\n",
       "0     knnpca   1    1.0    5473120128           2.598776e+09   \n",
       "1     knnpca   2    1.0    5575963044           2.598776e+09   \n",
       "2     knnpca   3    1.0    5737825042           2.598776e+09   \n",
       "3     knnpca   4    1.0    5679472451           2.598776e+09   \n",
       "4     knnpca   5    1.0    5718439245           2.598776e+09   \n",
       "...      ...  ..    ...           ...                    ...   \n",
       "4645     knn  26    NaN  716552634872                    NaN   \n",
       "4646     knn  27    NaN  660746681464                    NaN   \n",
       "4647     knn  28    NaN  604904267144                    NaN   \n",
       "4648     knn  29    NaN  566102875095                    NaN   \n",
       "4649     knn  30    NaN  477640365223                    NaN   \n",
       "\n",
       "      pca_transform_time  knn_init_and_fit_time  knn_predict_time  \\\n",
       "0            235056397.0                 187226        2639100516   \n",
       "1            235056397.0                 146870        2741983788   \n",
       "2            235056397.0                 185627        2903807029   \n",
       "3            235056397.0                 232890        2845407175   \n",
       "4            235056397.0                 205614        2884401245   \n",
       "...                  ...                    ...               ...   \n",
       "4645                 NaN              209053599      716343581273   \n",
       "4646                 NaN              238334395      660508347069   \n",
       "4647                 NaN              213043046      604691224098   \n",
       "4648                 NaN              200959077      565901916018   \n",
       "4649                 NaN              199483457      477440881766   \n",
       "\n",
       "                                                 y_pred  \\\n",
       "0     [7.0, 0.0, 2.0, 2.0, 7.0, 1.0, 7.0, 2.0, 9.0, ...   \n",
       "1     [1.0, 0.0, 2.0, 2.0, 7.0, 1.0, 3.0, 2.0, 0.0, ...   \n",
       "2     [1.0, 0.0, 2.0, 2.0, 7.0, 1.0, 3.0, 2.0, 0.0, ...   \n",
       "3     [1.0, 0.0, 2.0, 2.0, 7.0, 7.0, 3.0, 5.0, 0.0, ...   \n",
       "4     [1.0, 0.0, 2.0, 7.0, 7.0, 7.0, 5.0, 5.0, 0.0, ...   \n",
       "...                                                 ...   \n",
       "4645  [9.0, 2.0, 9.0, 6.0, 9.0, 6.0, 3.0, 8.0, 6.0, ...   \n",
       "4646  [9.0, 2.0, 9.0, 6.0, 9.0, 6.0, 3.0, 8.0, 6.0, ...   \n",
       "4647  [9.0, 2.0, 9.0, 6.0, 9.0, 6.0, 3.0, 8.0, 6.0, ...   \n",
       "4648  [9.0, 2.0, 9.0, 6.0, 9.0, 6.0, 3.0, 8.0, 6.0, ...   \n",
       "4649  [9.0, 2.0, 9.0, 6.0, 9.0, 6.0, 3.0, 8.0, 6.0, ...   \n",
       "\n",
       "                                                 y_test  \\\n",
       "0     [[7], [2], [9], [6], [9], [6], [3], [8], [6], ...   \n",
       "1     [[7], [2], [9], [6], [9], [6], [3], [8], [6], ...   \n",
       "2     [[7], [2], [9], [6], [9], [6], [3], [8], [6], ...   \n",
       "3     [[7], [2], [9], [6], [9], [6], [3], [8], [6], ...   \n",
       "4     [[7], [2], [9], [6], [9], [6], [3], [8], [6], ...   \n",
       "...                                                 ...   \n",
       "4645  [[7], [2], [9], [6], [9], [6], [3], [8], [6], ...   \n",
       "4646  [[7], [2], [9], [6], [9], [6], [3], [8], [6], ...   \n",
       "4647  [[7], [2], [9], [6], [9], [6], [3], [8], [6], ...   \n",
       "4648  [[7], [2], [9], [6], [9], [6], [3], [8], [6], ...   \n",
       "4649  [[7], [2], [9], [6], [9], [6], [3], [8], [6], ...   \n",
       "\n",
       "                                            y_fold_pred  \\\n",
       "0     [1.0, 4.0, 5.0, 1.0, 8.0, 7.0, 6.0, 7.0, 3.0, ...   \n",
       "1     [1.0, 4.0, 5.0, 1.0, 3.0, 7.0, 6.0, 4.0, 3.0, ...   \n",
       "2     [1.0, 6.0, 5.0, 1.0, 3.0, 3.0, 6.0, 4.0, 3.0, ...   \n",
       "3     [7.0, 6.0, 5.0, 1.0, 8.0, 3.0, 6.0, 4.0, 3.0, ...   \n",
       "4     [7.0, 6.0, 5.0, 1.0, 8.0, 3.0, 6.0, 4.0, 4.0, ...   \n",
       "...                                                 ...   \n",
       "4645  [8.0, 7.0, 1.0, 0.0, 7.0, 2.0, 8.0, 2.0, 7.0, ...   \n",
       "4646  [8.0, 7.0, 1.0, 0.0, 7.0, 2.0, 8.0, 2.0, 7.0, ...   \n",
       "4647  [8.0, 7.0, 1.0, 0.0, 7.0, 2.0, 8.0, 2.0, 7.0, ...   \n",
       "4648  [8.0, 7.0, 1.0, 0.0, 7.0, 2.0, 8.0, 2.0, 7.0, ...   \n",
       "4649  [8.0, 7.0, 1.0, 0.0, 7.0, 2.0, 8.0, 2.0, 7.0, ...   \n",
       "\n",
       "                                            y_fold_test  \n",
       "0     [[2], [9], [3], [1], [2], [9], [5], [8], [7], ...  \n",
       "1     [[2], [9], [3], [1], [2], [9], [5], [8], [7], ...  \n",
       "2     [[2], [9], [3], [1], [2], [9], [5], [8], [7], ...  \n",
       "3     [[2], [9], [3], [1], [2], [9], [5], [8], [7], ...  \n",
       "4     [[2], [9], [3], [1], [2], [9], [5], [8], [7], ...  \n",
       "...                                                 ...  \n",
       "4645  [[8], [7], [1], [0], [7], [2], [8], [2], [7], ...  \n",
       "4646  [[8], [7], [1], [0], [7], [2], [8], [2], [7], ...  \n",
       "4647  [[8], [7], [1], [0], [7], [2], [8], [2], [7], ...  \n",
       "4648  [[8], [7], [1], [0], [7], [2], [8], [2], [7], ...  \n",
       "4649  [[8], [7], [1], [0], [7], [2], [8], [2], [7], ...  \n",
       "\n",
       "[4650 rows x 12 columns]"
      ]
     },
     "execution_count": 1,
     "metadata": {},
     "output_type": "execute_result"
    }
   ],
   "source": [
    "from pickle import load\n",
    "from gzip import open as zopen\n",
    "\n",
    "with zopen('data.pickle.gz') as file:\n",
    "    df = load(file)\n",
    "\n",
    "df"
   ]
  },
  {
   "cell_type": "markdown",
   "id": "583210b0",
   "metadata": {},
   "source": [
    "Los datos contienen tanto información de corridas utilizando tano KNN+PCA (`kind == 'knnpca'`) cómo KNN a secas (`kind == 'knn'`) así que separémoslos."
   ]
  },
  {
   "cell_type": "code",
   "execution_count": 2,
   "id": "d1c502d7",
   "metadata": {},
   "outputs": [
    {
     "name": "stdout",
     "output_type": "stream",
     "text": [
      "Hay 4500 corridas usando KNN + PCA\n",
      "Hay 150 corridas usando KNN a secas\n"
     ]
    }
   ],
   "source": [
    "df_knnpca = df[df['kind'] == 'knnpca']\n",
    "df_knn = df[df['kind'] == 'knn']\n",
    "\n",
    "print(f'Hay {len(df_knnpca)} corridas usando KNN + PCA')\n",
    "print(f'Hay {len(df_knn)} corridas usando KNN a secas')"
   ]
  },
  {
   "cell_type": "markdown",
   "id": "e8278851",
   "metadata": {},
   "source": [
    "Hecho ésto, podemos empezar a explorar los datos usando las bibliotecas de python de siempre."
   ]
  },
  {
   "cell_type": "code",
   "execution_count": 3,
   "id": "d558011f",
   "metadata": {},
   "outputs": [],
   "source": [
    "# Importemos todo :P\n",
    "import numpy as np\n",
    "import pandas as pd\n",
    "import matplotlib.pyplot as plt\n",
    "import seaborn as sns"
   ]
  },
  {
   "cell_type": "markdown",
   "id": "432c8d87",
   "metadata": {},
   "source": [
    "### KNN"
   ]
  },
  {
   "cell_type": "markdown",
   "id": "8f628437",
   "metadata": {},
   "source": [
    "Los datos tienen toda la información de evaluación necesaria para evaluar diversas métricas. Podemos usar las implementaciones propias de scikit para trabajar con éstas."
   ]
  },
  {
   "cell_type": "code",
   "execution_count": 4,
   "id": "7c01be8f",
   "metadata": {},
   "outputs": [
    {
     "data": {
      "text/html": [
       "<div>\n",
       "<style scoped>\n",
       "    .dataframe tbody tr th:only-of-type {\n",
       "        vertical-align: middle;\n",
       "    }\n",
       "\n",
       "    .dataframe tbody tr th {\n",
       "        vertical-align: top;\n",
       "    }\n",
       "\n",
       "    .dataframe thead th {\n",
       "        text-align: right;\n",
       "    }\n",
       "</style>\n",
       "<table border=\"1\" class=\"dataframe\">\n",
       "  <thead>\n",
       "    <tr style=\"text-align: right;\">\n",
       "      <th></th>\n",
       "      <th>k</th>\n",
       "      <th>accuracy</th>\n",
       "    </tr>\n",
       "  </thead>\n",
       "  <tbody>\n",
       "    <tr>\n",
       "      <th>4500</th>\n",
       "      <td>1</td>\n",
       "      <td>0.964116</td>\n",
       "    </tr>\n",
       "    <tr>\n",
       "      <th>4501</th>\n",
       "      <td>2</td>\n",
       "      <td>0.956293</td>\n",
       "    </tr>\n",
       "    <tr>\n",
       "      <th>4502</th>\n",
       "      <td>3</td>\n",
       "      <td>0.962585</td>\n",
       "    </tr>\n",
       "    <tr>\n",
       "      <th>4503</th>\n",
       "      <td>4</td>\n",
       "      <td>0.959524</td>\n",
       "    </tr>\n",
       "    <tr>\n",
       "      <th>4504</th>\n",
       "      <td>5</td>\n",
       "      <td>0.960884</td>\n",
       "    </tr>\n",
       "    <tr>\n",
       "      <th>...</th>\n",
       "      <td>...</td>\n",
       "      <td>...</td>\n",
       "    </tr>\n",
       "    <tr>\n",
       "      <th>4645</th>\n",
       "      <td>26</td>\n",
       "      <td>0.943707</td>\n",
       "    </tr>\n",
       "    <tr>\n",
       "      <th>4646</th>\n",
       "      <td>27</td>\n",
       "      <td>0.942857</td>\n",
       "    </tr>\n",
       "    <tr>\n",
       "      <th>4647</th>\n",
       "      <td>28</td>\n",
       "      <td>0.942517</td>\n",
       "    </tr>\n",
       "    <tr>\n",
       "      <th>4648</th>\n",
       "      <td>29</td>\n",
       "      <td>0.942687</td>\n",
       "    </tr>\n",
       "    <tr>\n",
       "      <th>4649</th>\n",
       "      <td>30</td>\n",
       "      <td>0.942007</td>\n",
       "    </tr>\n",
       "  </tbody>\n",
       "</table>\n",
       "<p>150 rows × 2 columns</p>\n",
       "</div>"
      ],
      "text/plain": [
       "       k  accuracy\n",
       "4500   1  0.964116\n",
       "4501   2  0.956293\n",
       "4502   3  0.962585\n",
       "4503   4  0.959524\n",
       "4504   5  0.960884\n",
       "...   ..       ...\n",
       "4645  26  0.943707\n",
       "4646  27  0.942857\n",
       "4647  28  0.942517\n",
       "4648  29  0.942687\n",
       "4649  30  0.942007\n",
       "\n",
       "[150 rows x 2 columns]"
      ]
     },
     "execution_count": 4,
     "metadata": {},
     "output_type": "execute_result"
    }
   ],
   "source": [
    "from sklearn.metrics import accuracy_score\n",
    "\n",
    "knn_accuracy_column = df_knn.apply(\n",
    "    func=lambda row: accuracy_score(row['y_fold_test'], row['y_fold_pred']),\n",
    "    axis=1\n",
    ")\n",
    "df_knn_accuracy = df_knn[['k']].copy()\n",
    "df_knn_accuracy['accuracy'] = knn_accuracy_column\n",
    "df_knn_accuracy"
   ]
  },
  {
   "cell_type": "code",
   "execution_count": 5,
   "id": "14658e71",
   "metadata": {},
   "outputs": [
    {
     "data": {
      "text/plain": [
       "<seaborn.axisgrid.FacetGrid at 0x7f45abe566d0>"
      ]
     },
     "execution_count": 5,
     "metadata": {},
     "output_type": "execute_result"
    },
    {
     "data": {
      "image/png": "[encoded data removed]",
      "text/plain": [
       "<Figure size 360x360 with 1 Axes>"
      ]
     },
     "metadata": {
      "needs_background": "light"
     },
     "output_type": "display_data"
    }
   ],
   "source": [
    "sns.relplot(data=df_knn_accuracy, x='k', y='accuracy', kind='line') \\\n",
    "   .set(title='Precisión de KNN para distintas parametrizaciones')"
   ]
  },
  {
   "cell_type": "markdown",
   "id": "60b2917f",
   "metadata": {},
   "source": [
    "### KNN + PCA"
   ]
  },
  {
   "cell_type": "code",
   "execution_count": 6,
   "id": "6dcdd166",
   "metadata": {},
   "outputs": [
    {
     "data": {
      "text/plain": [
       "Text(0.5, 1.0, 'Parametrización KNNPCA vs Tiempo total')"
      ]
     },
     "execution_count": 6,
     "metadata": {},
     "output_type": "execute_result"
    },
    {
     "data": {
      "image/png": "[encoded data removed]",
      "text/plain": [
       "<Figure size 432x288 with 2 Axes>"
      ]
     },
     "metadata": {
      "needs_background": "light"
     },
     "output_type": "display_data"
    }
   ],
   "source": [
    "tiempos_totales = df_knnpca.pivot_table(index='k', columns='alpha', values='elapsed_time', aggfunc=np.mean)\n",
    "sns.heatmap(tiempos_totales).set_title('Parametrización KNNPCA vs Tiempo total')"
   ]
  },
  {
   "cell_type": "code",
   "execution_count": 7,
   "id": "72807c29",
   "metadata": {},
   "outputs": [
    {
     "data": {
      "text/plain": [
       "Text(0.5, 1.0, 'Parametrización KNNPCA vs Tiempo en KNN')"
      ]
     },
     "execution_count": 7,
     "metadata": {},
     "output_type": "execute_result"
    },
    {
     "data": {
      "image/png": "[encoded data removed]",
      "text/plain": [
       "<Figure size 432x288 with 2 Axes>"
      ]
     },
     "metadata": {
      "needs_background": "light"
     },
     "output_type": "display_data"
    }
   ],
   "source": [
    "tiempos_predict = df_knnpca.pivot_table(index='k', columns='alpha', values='knn_predict_time', aggfunc=np.mean)\n",
    "sns.heatmap(tiempos_predict).set_title('Parametrización KNNPCA vs Tiempo en KNN')"
   ]
  },
  {
   "cell_type": "code",
   "execution_count": 8,
   "id": "c6205e73",
   "metadata": {},
   "outputs": [
    {
     "data": {
      "text/plain": [
       "<seaborn.axisgrid.FacetGrid at 0x7f45a86f50a0>"
      ]
     },
     "execution_count": 8,
     "metadata": {},
     "output_type": "execute_result"
    },
    {
     "data": {
      "image/png": "[encoded data removed]",
      "text/plain": [
       "<Figure size 360x360 with 1 Axes>"
      ]
     },
     "metadata": {
      "needs_background": "light"
     },
     "output_type": "display_data"
    }
   ],
   "source": [
    "sns.relplot(data=df_knnpca, x='alpha', y='pca_init_and_fit_time', kind='line') \\\n",
    "   .set(title='Tiempo usado en la fase \"fit\" de PCA')"
   ]
  },
  {
   "cell_type": "code",
   "execution_count": 9,
   "id": "f12f1dbc",
   "metadata": {},
   "outputs": [
    {
     "data": {
      "text/plain": [
       "<seaborn.axisgrid.FacetGrid at 0x7f45a87717f0>"
      ]
     },
     "execution_count": 9,
     "metadata": {},
     "output_type": "execute_result"
    },
    {
     "data": {
      "image/png": "[encoded data removed]",
      "text/plain": [
       "<Figure size 360x360 with 1 Axes>"
      ]
     },
     "metadata": {
      "needs_background": "light"
     },
     "output_type": "display_data"
    }
   ],
   "source": [
    "sns.relplot(data=df_knnpca, x='alpha', y='pca_transform_time', kind='line') \\\n",
    "   .set(title='Tiempo usado en la fase \"transform\" de PCA')"
   ]
  },
  {
   "cell_type": "code",
   "execution_count": 10,
   "id": "7fa41819",
   "metadata": {},
   "outputs": [
    {
     "data": {
      "text/plain": [
       "Text(0.5, 1.0, 'Parametrización KNNPCA vs Tiempo en KNN')"
      ]
     },
     "execution_count": 10,
     "metadata": {},
     "output_type": "execute_result"
    },
    {
     "data": {
      "image/png": "[encoded data removed]",
      "text/plain": [
       "<Figure size 432x288 with 2 Axes>"
      ]
     },
     "metadata": {
      "needs_background": "light"
     },
     "output_type": "display_data"
    }
   ],
   "source": [
    "tiempos_predict = df_knnpca.pivot_table(index='k', columns='alpha', values='knn_init_and_fit_time', aggfunc=np.mean)\n",
    "sns.heatmap(tiempos_predict).set_title('Parametrización KNNPCA vs Tiempo en KNN')"
   ]
  },
  {
   "cell_type": "code",
   "execution_count": 11,
   "id": "d2ed83bb",
   "metadata": {},
   "outputs": [
    {
     "data": {
      "text/html": [
       "<div>\n",
       "<style scoped>\n",
       "    .dataframe tbody tr th:only-of-type {\n",
       "        vertical-align: middle;\n",
       "    }\n",
       "\n",
       "    .dataframe tbody tr th {\n",
       "        vertical-align: top;\n",
       "    }\n",
       "\n",
       "    .dataframe thead th {\n",
       "        text-align: right;\n",
       "    }\n",
       "</style>\n",
       "<table border=\"1\" class=\"dataframe\">\n",
       "  <thead>\n",
       "    <tr style=\"text-align: right;\">\n",
       "      <th></th>\n",
       "      <th>k</th>\n",
       "      <th>alpha</th>\n",
       "      <th>accuracy</th>\n",
       "    </tr>\n",
       "  </thead>\n",
       "  <tbody>\n",
       "    <tr>\n",
       "      <th>0</th>\n",
       "      <td>1</td>\n",
       "      <td>1.0</td>\n",
       "      <td>0.239286</td>\n",
       "    </tr>\n",
       "    <tr>\n",
       "      <th>1</th>\n",
       "      <td>2</td>\n",
       "      <td>1.0</td>\n",
       "      <td>0.261565</td>\n",
       "    </tr>\n",
       "    <tr>\n",
       "      <th>2</th>\n",
       "      <td>3</td>\n",
       "      <td>1.0</td>\n",
       "      <td>0.265646</td>\n",
       "    </tr>\n",
       "    <tr>\n",
       "      <th>3</th>\n",
       "      <td>4</td>\n",
       "      <td>1.0</td>\n",
       "      <td>0.270578</td>\n",
       "    </tr>\n",
       "    <tr>\n",
       "      <th>4</th>\n",
       "      <td>5</td>\n",
       "      <td>1.0</td>\n",
       "      <td>0.270238</td>\n",
       "    </tr>\n",
       "    <tr>\n",
       "      <th>5</th>\n",
       "      <td>6</td>\n",
       "      <td>1.0</td>\n",
       "      <td>0.272279</td>\n",
       "    </tr>\n",
       "    <tr>\n",
       "      <th>6</th>\n",
       "      <td>7</td>\n",
       "      <td>1.0</td>\n",
       "      <td>0.273810</td>\n",
       "    </tr>\n",
       "    <tr>\n",
       "      <th>7</th>\n",
       "      <td>8</td>\n",
       "      <td>1.0</td>\n",
       "      <td>0.271429</td>\n",
       "    </tr>\n",
       "    <tr>\n",
       "      <th>8</th>\n",
       "      <td>9</td>\n",
       "      <td>1.0</td>\n",
       "      <td>0.272959</td>\n",
       "    </tr>\n",
       "    <tr>\n",
       "      <th>9</th>\n",
       "      <td>10</td>\n",
       "      <td>1.0</td>\n",
       "      <td>0.273639</td>\n",
       "    </tr>\n",
       "    <tr>\n",
       "      <th>10</th>\n",
       "      <td>11</td>\n",
       "      <td>1.0</td>\n",
       "      <td>0.278061</td>\n",
       "    </tr>\n",
       "    <tr>\n",
       "      <th>11</th>\n",
       "      <td>12</td>\n",
       "      <td>1.0</td>\n",
       "      <td>0.281633</td>\n",
       "    </tr>\n",
       "    <tr>\n",
       "      <th>12</th>\n",
       "      <td>13</td>\n",
       "      <td>1.0</td>\n",
       "      <td>0.279252</td>\n",
       "    </tr>\n",
       "    <tr>\n",
       "      <th>13</th>\n",
       "      <td>14</td>\n",
       "      <td>1.0</td>\n",
       "      <td>0.280442</td>\n",
       "    </tr>\n",
       "    <tr>\n",
       "      <th>14</th>\n",
       "      <td>15</td>\n",
       "      <td>1.0</td>\n",
       "      <td>0.281293</td>\n",
       "    </tr>\n",
       "    <tr>\n",
       "      <th>15</th>\n",
       "      <td>16</td>\n",
       "      <td>1.0</td>\n",
       "      <td>0.282483</td>\n",
       "    </tr>\n",
       "    <tr>\n",
       "      <th>16</th>\n",
       "      <td>17</td>\n",
       "      <td>1.0</td>\n",
       "      <td>0.283163</td>\n",
       "    </tr>\n",
       "    <tr>\n",
       "      <th>17</th>\n",
       "      <td>18</td>\n",
       "      <td>1.0</td>\n",
       "      <td>0.282823</td>\n",
       "    </tr>\n",
       "    <tr>\n",
       "      <th>18</th>\n",
       "      <td>19</td>\n",
       "      <td>1.0</td>\n",
       "      <td>0.284184</td>\n",
       "    </tr>\n",
       "    <tr>\n",
       "      <th>19</th>\n",
       "      <td>20</td>\n",
       "      <td>1.0</td>\n",
       "      <td>0.283163</td>\n",
       "    </tr>\n",
       "  </tbody>\n",
       "</table>\n",
       "</div>"
      ],
      "text/plain": [
       "     k  alpha  accuracy\n",
       "0    1    1.0  0.239286\n",
       "1    2    1.0  0.261565\n",
       "2    3    1.0  0.265646\n",
       "3    4    1.0  0.270578\n",
       "4    5    1.0  0.270238\n",
       "5    6    1.0  0.272279\n",
       "6    7    1.0  0.273810\n",
       "7    8    1.0  0.271429\n",
       "8    9    1.0  0.272959\n",
       "9   10    1.0  0.273639\n",
       "10  11    1.0  0.278061\n",
       "11  12    1.0  0.281633\n",
       "12  13    1.0  0.279252\n",
       "13  14    1.0  0.280442\n",
       "14  15    1.0  0.281293\n",
       "15  16    1.0  0.282483\n",
       "16  17    1.0  0.283163\n",
       "17  18    1.0  0.282823\n",
       "18  19    1.0  0.284184\n",
       "19  20    1.0  0.283163"
      ]
     },
     "execution_count": 11,
     "metadata": {},
     "output_type": "execute_result"
    }
   ],
   "source": [
    "df_knnpca\n",
    "\n",
    "df_knnpca_accuracy_column = df_knnpca.apply(\n",
    "    func=lambda row: accuracy_score(row['y_fold_test'], row['y_fold_pred']),\n",
    "    axis=1\n",
    ")\n",
    "df_knnpca_accuracy = df_knnpca[['k']].copy()\n",
    "df_knnpca_accuracy['alpha'] = df_knnpca['alpha']\n",
    "df_knnpca_accuracy['accuracy'] = df_knnpca_accuracy_column\n",
    "\n",
    "df_knnpca_accuracy.head(20)"
   ]
  },
  {
   "cell_type": "code",
   "execution_count": 12,
   "id": "19537c76",
   "metadata": {},
   "outputs": [
    {
     "data": {
      "text/plain": [
       "<seaborn.axisgrid.FacetGrid at 0x7f45a83fc250>"
      ]
     },
     "execution_count": 12,
     "metadata": {},
     "output_type": "execute_result"
    },
    {
     "data": {
      "image/png": "[encoded data removed]",
      "text/plain": [
       "<Figure size 3600x360 with 10 Axes>"
      ]
     },
     "metadata": {
      "needs_background": "light"
     },
     "output_type": "display_data"
    }
   ],
   "source": [
    "sns.relplot(x=\"alpha\", y=\"accuracy\", col=\"k\", aspect=1, data=df_knnpca_accuracy.query(\"k%3 == 0\"))"
   ]
  },
  {
   "cell_type": "code",
   "execution_count": 13,
   "id": "1e930478",
   "metadata": {},
   "outputs": [
    {
     "data": {
      "text/plain": [
       "<seaborn.axisgrid.FacetGrid at 0x7f45a8576790>"
      ]
     },
     "execution_count": 13,
     "metadata": {},
     "output_type": "execute_result"
    },
    {
     "data": {
      "image/png": "[encoded data removed]",
      "text/plain": [
       "<Figure size 360x360 with 1 Axes>"
      ]
     },
     "metadata": {
      "needs_background": "light"
     },
     "output_type": "display_data"
    }
   ],
   "source": [
    "data = df_knnpca_accuracy[df_knnpca_accuracy['alpha'] == 29]\n",
    "\n",
    "sns.relplot(data=data, x='k', y='accuracy', kind='line') \\\n",
    "   .set(title='Precisión de KNNPCA para distintas parametrizaciones con alpha=29')"
   ]
  },
  {
   "cell_type": "code",
   "execution_count": 14,
   "id": "a9bbf03b",
   "metadata": {},
   "outputs": [],
   "source": [
    "max_knnpca_i = df_knnpca_accuracy['accuracy'].argmax()\n",
    "max_knnpca_row = df_knnpca.iloc[max_knnpca_i]\n",
    "\n",
    "max_knn_i = df_knn_accuracy['accuracy'].argmax()\n",
    "max_knn_row = df_knn.iloc[max_knn_i]"
   ]
  },
  {
   "cell_type": "code",
   "execution_count": 15,
   "id": "970374c6",
   "metadata": {},
   "outputs": [
    {
     "name": "stdout",
     "output_type": "stream",
     "text": [
      "k            1.000000\n",
      "alpha       30.000000\n",
      "accuracy     0.972279\n",
      "Name: 1170, dtype: float64\n",
      "k           5.000000\n",
      "accuracy    0.965816\n",
      "Name: 4534, dtype: float64\n"
     ]
    }
   ],
   "source": [
    "print(df_knnpca_accuracy.iloc[max_knnpca_i])\n",
    "print(df_knn_accuracy.iloc[max_knn_i])\n"
   ]
  },
  {
   "cell_type": "code",
   "execution_count": 16,
   "id": "9d815460",
   "metadata": {},
   "outputs": [
    {
     "data": {
      "image/png": "[encoded data removed]",
      "text/plain": [
       "<Figure size 432x288 with 2 Axes>"
      ]
     },
     "metadata": {
      "needs_background": "light"
     },
     "output_type": "display_data"
    }
   ],
   "source": [
    "from matplotlib.colors import LogNorm\n",
    "from sklearn.metrics import confusion_matrix\n",
    "\n",
    "confusion = confusion_matrix(max_knnpca_row['y_fold_test'], max_knnpca_row['y_fold_pred'])\n",
    "\n",
    "cmap = sns.cm.rocket_r\n",
    "confusion_heatmap = sns.heatmap(confusion, norm=LogNorm(), cmap=cmap) \\\n",
    "                       .set(title='Matriz de confusión para uno de los experimentos')"
   ]
  },
  {
   "cell_type": "code",
   "execution_count": 17,
   "id": "879b6d8d",
   "metadata": {},
   "outputs": [
    {
     "data": {
      "image/png": "[encoded data removed]",
      "text/plain": [
       "<Figure size 432x288 with 2 Axes>"
      ]
     },
     "metadata": {
      "needs_background": "light"
     },
     "output_type": "display_data"
    }
   ],
   "source": [
    "confusion = confusion_matrix(max_knn_row['y_fold_test'], max_knn_row['y_fold_pred'])\n",
    "\n",
    "cmap = sns.cm.rocket_r\n",
    "confusion_heatmap = sns.heatmap(confusion, norm=LogNorm(), cmap=cmap) \\\n",
    "                       .set(title='Matriz de confusión para uno de los experimentos')"
   ]
  },
  {
   "cell_type": "code",
   "execution_count": 18,
   "id": "0cb42235",
   "metadata": {},
   "outputs": [
    {
     "data": {
      "text/plain": [
       "0.605606482898932"
      ]
     },
     "execution_count": 18,
     "metadata": {},
     "output_type": "execute_result"
    }
   ],
   "source": [
    "from sklearn.metrics import cohen_kappa_score\n",
    "\n",
    "# min_knnpca_i = df_knnpca_accuracy['accuracy'].argmin()\n",
    "random_knnpca_row = df_knnpca.iloc[100]\n",
    "\n",
    "cohen_kappa_score(max_knnpca_row['y_pred'], random_knnpca_row['y_pred'])"
   ]
  },
  {
   "cell_type": "markdown",
   "id": "6d9b1535",
   "metadata": {},
   "source": [
    "# Mejoras posibles a kNN\n",
    "\n",
    "kNN puede usar otras estructuras de datos para acelerar el tiempo que tardamos en evaluar nuestros modelos. En éste caso utilizaremos la implementación de kNN de la biblioteca `sklearn` en lugar de la nuestra (de esta manera esperamos que las diferencias de tiempo recaigan en la elección de estructuras en lugar de en nuestras capacidades cómo programadores).\n",
    "\n",
    "Para ésta parte de la experimentación compararemos los tiempos de los modelos utilizando búsqueda exhaustiva (igual que en nuestra implementación) y árboles k-dimensionales."
   ]
  },
  {
   "cell_type": "code",
   "execution_count": 19,
   "id": "1dc69178",
   "metadata": {},
   "outputs": [],
   "source": [
    "# Vamos a necesitar algunos datos\n",
    "data = pd.read_csv('../data/train.csv')\n",
    "data_X = data[data.columns[1:]].values\n",
    "data_y = data[\"label\"].values.reshape(-1, 1)\n",
    "\n",
    "# Separémoslos sencillamente en un conjunto de entrenamiento y uno de evaluación\n",
    "from sklearn.model_selection import train_test_split\n",
    "X_train, X_test, y_train, y_test = train_test_split(data_X, data_y, test_size=0.4)"
   ]
  },
  {
   "cell_type": "code",
   "execution_count": 20,
   "id": "05ad0259",
   "metadata": {},
   "outputs": [
    {
     "data": {
      "text/plain": [
       "\u001b[0;31mInit signature:\u001b[0m\n",
       "\u001b[0mKNeighborsClassifier\u001b[0m\u001b[0;34m(\u001b[0m\u001b[0;34m\u001b[0m\n",
       "\u001b[0;34m\u001b[0m    \u001b[0mn_neighbors\u001b[0m\u001b[0;34m=\u001b[0m\u001b[0;36m5\u001b[0m\u001b[0;34m,\u001b[0m\u001b[0;34m\u001b[0m\n",
       "\u001b[0;34m\u001b[0m    \u001b[0;34m*\u001b[0m\u001b[0;34m,\u001b[0m\u001b[0;34m\u001b[0m\n",
       "\u001b[0;34m\u001b[0m    \u001b[0mweights\u001b[0m\u001b[0;34m=\u001b[0m\u001b[0;34m'uniform'\u001b[0m\u001b[0;34m,\u001b[0m\u001b[0;34m\u001b[0m\n",
       "\u001b[0;34m\u001b[0m    \u001b[0malgorithm\u001b[0m\u001b[0;34m=\u001b[0m\u001b[0;34m'auto'\u001b[0m\u001b[0;34m,\u001b[0m\u001b[0;34m\u001b[0m\n",
       "\u001b[0;34m\u001b[0m    \u001b[0mleaf_size\u001b[0m\u001b[0;34m=\u001b[0m\u001b[0;36m30\u001b[0m\u001b[0;34m,\u001b[0m\u001b[0;34m\u001b[0m\n",
       "\u001b[0;34m\u001b[0m    \u001b[0mp\u001b[0m\u001b[0;34m=\u001b[0m\u001b[0;36m2\u001b[0m\u001b[0;34m,\u001b[0m\u001b[0;34m\u001b[0m\n",
       "\u001b[0;34m\u001b[0m    \u001b[0mmetric\u001b[0m\u001b[0;34m=\u001b[0m\u001b[0;34m'minkowski'\u001b[0m\u001b[0;34m,\u001b[0m\u001b[0;34m\u001b[0m\n",
       "\u001b[0;34m\u001b[0m    \u001b[0mmetric_params\u001b[0m\u001b[0;34m=\u001b[0m\u001b[0;32mNone\u001b[0m\u001b[0;34m,\u001b[0m\u001b[0;34m\u001b[0m\n",
       "\u001b[0;34m\u001b[0m    \u001b[0mn_jobs\u001b[0m\u001b[0;34m=\u001b[0m\u001b[0;32mNone\u001b[0m\u001b[0;34m,\u001b[0m\u001b[0;34m\u001b[0m\n",
       "\u001b[0;34m\u001b[0m\u001b[0;34m)\u001b[0m\u001b[0;34m\u001b[0m\u001b[0;34m\u001b[0m\u001b[0m\n",
       "\u001b[0;31mDocstring:\u001b[0m     \n",
       "Classifier implementing the k-nearest neighbors vote.\n",
       "\n",
       "Read more in the :ref:`User Guide <classification>`.\n",
       "\n",
       "Parameters\n",
       "----------\n",
       "n_neighbors : int, default=5\n",
       "    Number of neighbors to use by default for :meth:`kneighbors` queries.\n",
       "\n",
       "weights : {'uniform', 'distance'} or callable, default='uniform'\n",
       "    Weight function used in prediction.  Possible values:\n",
       "\n",
       "    - 'uniform' : uniform weights.  All points in each neighborhood\n",
       "      are weighted equally.\n",
       "    - 'distance' : weight points by the inverse of their distance.\n",
       "      in this case, closer neighbors of a query point will have a\n",
       "      greater influence than neighbors which are further away.\n",
       "    - [callable] : a user-defined function which accepts an\n",
       "      array of distances, and returns an array of the same shape\n",
       "      containing the weights.\n",
       "\n",
       "algorithm : {'auto', 'ball_tree', 'kd_tree', 'brute'}, default='auto'\n",
       "    Algorithm used to compute the nearest neighbors:\n",
       "\n",
       "    - 'ball_tree' will use :class:`BallTree`\n",
       "    - 'kd_tree' will use :class:`KDTree`\n",
       "    - 'brute' will use a brute-force search.\n",
       "    - 'auto' will attempt to decide the most appropriate algorithm\n",
       "      based on the values passed to :meth:`fit` method.\n",
       "\n",
       "    Note: fitting on sparse input will override the setting of\n",
       "    this parameter, using brute force.\n",
       "\n",
       "leaf_size : int, default=30\n",
       "    Leaf size passed to BallTree or KDTree.  This can affect the\n",
       "    speed of the construction and query, as well as the memory\n",
       "    required to store the tree.  The optimal value depends on the\n",
       "    nature of the problem.\n",
       "\n",
       "p : int, default=2\n",
       "    Power parameter for the Minkowski metric. When p = 1, this is\n",
       "    equivalent to using manhattan_distance (l1), and euclidean_distance\n",
       "    (l2) for p = 2. For arbitrary p, minkowski_distance (l_p) is used.\n",
       "\n",
       "metric : str or callable, default='minkowski'\n",
       "    The distance metric to use for the tree.  The default metric is\n",
       "    minkowski, and with p=2 is equivalent to the standard Euclidean\n",
       "    metric. See the documentation of :class:`DistanceMetric` for a\n",
       "    list of available metrics.\n",
       "    If metric is \"precomputed\", X is assumed to be a distance matrix and\n",
       "    must be square during fit. X may be a :term:`sparse graph`,\n",
       "    in which case only \"nonzero\" elements may be considered neighbors.\n",
       "\n",
       "metric_params : dict, default=None\n",
       "    Additional keyword arguments for the metric function.\n",
       "\n",
       "n_jobs : int, default=None\n",
       "    The number of parallel jobs to run for neighbors search.\n",
       "    ``None`` means 1 unless in a :obj:`joblib.parallel_backend` context.\n",
       "    ``-1`` means using all processors. See :term:`Glossary <n_jobs>`\n",
       "    for more details.\n",
       "    Doesn't affect :meth:`fit` method.\n",
       "\n",
       "Attributes\n",
       "----------\n",
       "classes_ : array of shape (n_classes,)\n",
       "    Class labels known to the classifier\n",
       "\n",
       "effective_metric_ : str or callble\n",
       "    The distance metric used. It will be same as the `metric` parameter\n",
       "    or a synonym of it, e.g. 'euclidean' if the `metric` parameter set to\n",
       "    'minkowski' and `p` parameter set to 2.\n",
       "\n",
       "effective_metric_params_ : dict\n",
       "    Additional keyword arguments for the metric function. For most metrics\n",
       "    will be same with `metric_params` parameter, but may also contain the\n",
       "    `p` parameter value if the `effective_metric_` attribute is set to\n",
       "    'minkowski'.\n",
       "\n",
       "n_features_in_ : int\n",
       "    Number of features seen during :term:`fit`.\n",
       "\n",
       "    .. versionadded:: 0.24\n",
       "\n",
       "feature_names_in_ : ndarray of shape (`n_features_in_`,)\n",
       "    Names of features seen during :term:`fit`. Defined only when `X`\n",
       "    has feature names that are all strings.\n",
       "\n",
       "    .. versionadded:: 1.0\n",
       "\n",
       "n_samples_fit_ : int\n",
       "    Number of samples in the fitted data.\n",
       "\n",
       "outputs_2d_ : bool\n",
       "    False when `y`'s shape is (n_samples, ) or (n_samples, 1) during fit\n",
       "    otherwise True.\n",
       "\n",
       "See Also\n",
       "--------\n",
       "RadiusNeighborsClassifier: Classifier based on neighbors within a fixed radius.\n",
       "KNeighborsRegressor: Regression based on k-nearest neighbors.\n",
       "RadiusNeighborsRegressor: Regression based on neighbors within a fixed radius.\n",
       "NearestNeighbors: Unsupervised learner for implementing neighbor searches.\n",
       "\n",
       "Notes\n",
       "-----\n",
       "See :ref:`Nearest Neighbors <neighbors>` in the online documentation\n",
       "for a discussion of the choice of ``algorithm`` and ``leaf_size``.\n",
       "\n",
       ".. warning::\n",
       "\n",
       "   Regarding the Nearest Neighbors algorithms, if it is found that two\n",
       "   neighbors, neighbor `k+1` and `k`, have identical distances\n",
       "   but different labels, the results will depend on the ordering of the\n",
       "   training data.\n",
       "\n",
       "https://en.wikipedia.org/wiki/K-nearest_neighbor_algorithm\n",
       "\n",
       "Examples\n",
       "--------\n",
       ">>> X = [[0], [1], [2], [3]]\n",
       ">>> y = [0, 0, 1, 1]\n",
       ">>> from sklearn.neighbors import KNeighborsClassifier\n",
       ">>> neigh = KNeighborsClassifier(n_neighbors=3)\n",
       ">>> neigh.fit(X, y)\n",
       "KNeighborsClassifier(...)\n",
       ">>> print(neigh.predict([[1.1]]))\n",
       "[0]\n",
       ">>> print(neigh.predict_proba([[0.9]]))\n",
       "[[0.666... 0.333...]]\n",
       "\u001b[0;31mFile:\u001b[0m           ~/facu/metodos/labos/tp2/venv/lib/python3.9/site-packages/sklearn/neighbors/_classification.py\n",
       "\u001b[0;31mType:\u001b[0m           ABCMeta\n",
       "\u001b[0;31mSubclasses:\u001b[0m     \n"
      ]
     },
     "metadata": {},
     "output_type": "display_data"
    }
   ],
   "source": [
    "from sklearn.neighbors import KNeighborsClassifier\n",
    "\n",
    "# 1. Veamos la documentación oficial:\n",
    "?KNeighborsClassifier"
   ]
  },
  {
   "cell_type": "code",
   "execution_count": 109,
   "id": "88ee2e17",
   "metadata": {},
   "outputs": [
    {
     "data": {
      "text/plain": [
       "{'kd_tree': {5: [455152280, 459383158, 467577604, 452955363, 447630082],\n",
       "  10: [1308453825, 1307280325, 1316089108, 1309203032, 1311228830],\n",
       "  15: [2678360287, 2673716399, 2675803381, 2681976173, 2674609984],\n",
       "  20: [4385636662, 4400180266, 4379084861, 4380687846, 4558267683],\n",
       "  25: [6194987025, 6227721672, 6234120837, 6249245237, 6254331689],\n",
       "  30: [9375174167, 9364357677, 9334310750, 9394704089, 9404532546],\n",
       "  35: [13664373509, 13675770105, 13705467308, 13740325408, 13663892680],\n",
       "  40: [17545963352, 17496832944, 17464896190, 17469898155, 17373464377],\n",
       "  45: [20651712155, 20612014609, 20604753852, 20596447049, 20623701698],\n",
       "  50: [23582964318, 23581115162, 23754394044, 23739000574, 23754697288],\n",
       "  55: [27211321907, 27214417069, 27189140548, 27147203167, 27199911106],\n",
       "  60: [30168368702, 30169764479, 30150780271, 30199039365, 30089292372],\n",
       "  65: [33651186913, 33612283263, 33606800757, 33629868073, 33626028943],\n",
       "  70: [36285844115, 36240493505, 36260802899, 36306008132, 36279420946],\n",
       "  75: [40167481556, 40106603633, 40125215391, 40190007608, 40101962457],\n",
       "  80: [41937473918, 41908434825, 41875365045, 41929694942, 41886992487],\n",
       "  85: [45926330795, 45929002764, 45915217664, 45922303770, 45315857651],\n",
       "  90: [47806034373, 47792893948, 47798936734, 47776895253, 47827098096],\n",
       "  95: [51180641014, 51162660447, 51117232162, 51038934123, 50937686157],\n",
       "  100: [53213034416, 53246705024, 54369751784, 54248610685, 54261330439],\n",
       "  105: [57849671257, 57524107434, 57435836181, 57423056129, 57665108591],\n",
       "  110: [59804011759, 59248436206, 58850880763, 58989034843, 59013690534],\n",
       "  115: [62379344157, 62030118573, 62039030081, 62025208321, 62051824507],\n",
       "  120: [64066018250, 64004015015, 64069615285, 64082301535, 64000943786],\n",
       "  125: [67133103515, 67102005413, 67102636974, 67089005254, 67087706537],\n",
       "  130: [69502745445, 69537206776, 69517445798, 69523784425, 69520431594],\n",
       "  135: [72603962591, 72584667439, 72532224670, 72475458539, 72450240495],\n",
       "  140: [74668430758, 74764498445, 74771116807, 74741045768, 74722730101],\n",
       "  145: [77785798644, 77804989668, 77770814286, 77809760597, 77773972728],\n",
       "  150: [81422563342, 81435117548, 80916586615, 80921430540, 80947823832],\n",
       "  155: [87721392344, 87743446925, 87791430747, 84219145625, 84163806255],\n",
       "  160: [85942162270, 85981735334, 85870306129, 85934847879, 85753400519],\n",
       "  165: [89243006485, 89253404166, 89216458360, 89214493891, 89223710107],\n",
       "  170: [90398602491, 90320925064, 90408097896, 90373512444, 90385950231],\n",
       "  175: [93978031876, 93643115754, 93482894609, 93489901549, 93518773575],\n",
       "  180: [95962251819, 96011689486, 96061439825, 95954193195, 96169649260],\n",
       "  185: [99111538573, 99073707855, 99098726596, 99120547610, 99038655941],\n",
       "  190: [104234489244, 104341974996, 102555460023, 101902031812, 101808682092],\n",
       "  195: [104831390845, 104741356828, 104619904950, 104581049382, 104611858959],\n",
       "  200: [107085635561, 107050453874, 107118463214, 107058003100, 107080343812]},\n",
       " 'brute': {5: [7754812783, 7755865765, 7798431511, 7757347006, 7774913170],\n",
       "  10: [7720174712, 7720068312, 7713348576, 7748849360, 7764972331],\n",
       "  15: [7685772472, 7740870371, 7694651098, 7747709875, 7742897815],\n",
       "  20: [7708934117, 7722531925, 7637618756, 7782092630, 7704393364],\n",
       "  25: [7716580694, 7687377226, 7694930206, 7672824024, 7750395179],\n",
       "  30: [7698742339, 7733226554, 7656769283, 7703667066, 7727869611],\n",
       "  35: [7681539347, 7701763868, 7675684006, 7690446563, 7691118014],\n",
       "  40: [7695416990, 7688132907, 7693403596, 7684857088, 7690321707],\n",
       "  45: [7748708700, 7770770254, 7764189295, 7739577339, 7751710304],\n",
       "  50: [7726124176, 7807120094, 7746620484, 7740837203, 7734601946],\n",
       "  55: [7777649680, 7776606600, 7732393430, 7802380087, 7789721434],\n",
       "  60: [7776174009, 7800416682, 7745894025, 7750153136, 7768905925],\n",
       "  65: [7758570374, 7740909717, 7784703814, 7781393903, 7752929578],\n",
       "  70: [7790713463, 7833436350, 7816179963, 7813398182, 7811317388],\n",
       "  75: [7737795166, 7811666144, 7800625791, 7811723343, 7794292971],\n",
       "  80: [7801147628, 7871490274, 7849364650, 7862270826, 7846345722],\n",
       "  85: [7871877942, 7873196368, 7846315796, 7835757664, 7880291741],\n",
       "  90: [7901757618, 7875843135, 7895938678, 7865292769, 7889109099],\n",
       "  95: [7944017090, 7914132722, 7873903068, 7928983956, 7937470116],\n",
       "  100: [7941514867, 7965616330, 7972174950, 7952728001, 7961812868],\n",
       "  105: [8016871570, 7991929276, 7987228950, 7993211089, 8014034748],\n",
       "  110: [8021345421, 8021801942, 8025299973, 8016529073, 8029227265],\n",
       "  115: [8057347134, 8008795108, 8034868574, 8019156994, 8106199708],\n",
       "  120: [8092334072, 8082061472, 8075620493, 8088975436, 8080845790],\n",
       "  125: [8076575431, 8028046503, 8061638902, 8069345052, 8062869017],\n",
       "  130: [8118080351, 8146530797, 8123095615, 8134771833, 8116014285],\n",
       "  135: [8143065416, 8144968496, 8166592594, 8181132248, 8194981595],\n",
       "  140: [8214183763, 8113082101, 8198448102, 8185176651, 8201662166],\n",
       "  145: [8208303082, 8224454174, 8245559680, 8215636576, 8221043058],\n",
       "  150: [8299895301, 8310879382, 8258776473, 8293034648, 8292164453],\n",
       "  155: [8323216733, 8320508085, 8339008370, 8353020681, 8339597217],\n",
       "  160: [8408954819, 8328121016, 8387646153, 8344762254, 8382285149],\n",
       "  165: [8424775714, 8485446825, 8416871650, 8468737605, 8408816297],\n",
       "  170: [8507931148, 8512038897, 8491106706, 8495470048, 8504049025],\n",
       "  175: [8551284850, 8545155310, 8523975961, 8538158283, 8528157500],\n",
       "  180: [8554558740, 8579883127, 8567654462, 8581387897, 8590297852],\n",
       "  185: [8647579884, 8610163051, 8646503691, 8610142051, 8591114918],\n",
       "  190: [8694354843, 8715510311, 8694443106, 8676180399, 8657812423],\n",
       "  195: [8724174885, 8695222304, 8730632247, 8704517966, 8731934785],\n",
       "  200: [8706521634, 8771624112, 8757737160, 8821027239, 8790901192]}}"
      ]
     },
     "execution_count": 109,
     "metadata": {},
     "output_type": "execute_result"
    }
   ],
   "source": [
    "from time import perf_counter_ns\n",
    "from metnum import PCA\n",
    "\n",
    "y_train_1d = y_train.ravel()\n",
    "\n",
    "ALPHA_RANGE = range(5, 201, 5)\n",
    "NUM_TRIES = 5\n",
    "LOAD_FROM_FILE = True\n",
    "\n",
    "def time_for(fn, *args, **kwargs):\n",
    "    start_time = perf_counter_ns()\n",
    "    fn(*args, **kwargs)\n",
    "    end_time = perf_counter_ns()\n",
    "    return end_time - start_time\n",
    "\n",
    "if LOAD_FROM_FILE:\n",
    "    with open('kd_tree_vs_brute.pickle', 'rb') as file:\n",
    "        results = load(file)\n",
    "else:\n",
    "    results_kd_tree = {}\n",
    "    results_brute = {}\n",
    "    results = {\n",
    "        'kd_tree': results_kd_tree,\n",
    "        'brute': results_brute\n",
    "    }\n",
    "\n",
    "    for alpha in ALPHA_RANGE:\n",
    "        # Primero achiquemos la dimensionalidad del problema así no tarda mil años\n",
    "        pca = PCA(alpha)\n",
    "        pca.fit(X_train)\n",
    "        X_train_pc = pca.transform(X_train)\n",
    "        X_test_pc = pca.transform(X_test)\n",
    "\n",
    "        results_for_this_alpha_kd_tree = results_kd_tree.setdefault(alpha, [])\n",
    "        results_for_this_alpha_brute = results_brute.setdefault(alpha, [])\n",
    "\n",
    "        # Ok, queremos comparar algorithm='kd_tree' con algorithm='brute'\n",
    "        knn_kd_tree = KNeighborsClassifier(n_neighbors=5, algorithm='kd_tree')\n",
    "        knn_kd_tree.fit(X_train_pc, y_train_1d)\n",
    "        knn_brute = KNeighborsClassifier(n_neighbors=5, algorithm='brute')\n",
    "        knn_brute.fit(X_train_pc, y_train_1d)\n",
    "\n",
    "        for _ in range(NUM_TRIES):\n",
    "            results_for_this_alpha_kd_tree.append(time_for(knn_kd_tree.predict, X_test_pc))\n",
    "            results_for_this_alpha_brute.append(time_for(knn_brute.predict, X_test_pc))\n",
    "\n",
    "    with open('kd_tree_vs_brute.pickle', 'wb') as file:\n",
    "        from pickle import dump\n",
    "        dump(results, file)\n",
    "\n",
    "results"
   ]
  },
  {
   "cell_type": "code",
   "execution_count": 110,
   "id": "31825a54",
   "metadata": {},
   "outputs": [
    {
     "data": {
      "text/html": [
       "<div>\n",
       "<style scoped>\n",
       "    .dataframe tbody tr th:only-of-type {\n",
       "        vertical-align: middle;\n",
       "    }\n",
       "\n",
       "    .dataframe tbody tr th {\n",
       "        vertical-align: top;\n",
       "    }\n",
       "\n",
       "    .dataframe thead th {\n",
       "        text-align: right;\n",
       "    }\n",
       "</style>\n",
       "<table border=\"1\" class=\"dataframe\">\n",
       "  <thead>\n",
       "    <tr style=\"text-align: right;\">\n",
       "      <th></th>\n",
       "      <th>Algoritmo</th>\n",
       "      <th>alpha</th>\n",
       "      <th>Tiempo (en segundos)</th>\n",
       "    </tr>\n",
       "  </thead>\n",
       "  <tbody>\n",
       "    <tr>\n",
       "      <th>0</th>\n",
       "      <td>kd_tree</td>\n",
       "      <td>5</td>\n",
       "      <td>0.455152</td>\n",
       "    </tr>\n",
       "    <tr>\n",
       "      <th>1</th>\n",
       "      <td>kd_tree</td>\n",
       "      <td>5</td>\n",
       "      <td>0.459383</td>\n",
       "    </tr>\n",
       "    <tr>\n",
       "      <th>2</th>\n",
       "      <td>kd_tree</td>\n",
       "      <td>5</td>\n",
       "      <td>0.467578</td>\n",
       "    </tr>\n",
       "    <tr>\n",
       "      <th>3</th>\n",
       "      <td>kd_tree</td>\n",
       "      <td>5</td>\n",
       "      <td>0.452955</td>\n",
       "    </tr>\n",
       "    <tr>\n",
       "      <th>4</th>\n",
       "      <td>kd_tree</td>\n",
       "      <td>5</td>\n",
       "      <td>0.447630</td>\n",
       "    </tr>\n",
       "    <tr>\n",
       "      <th>...</th>\n",
       "      <td>...</td>\n",
       "      <td>...</td>\n",
       "      <td>...</td>\n",
       "    </tr>\n",
       "    <tr>\n",
       "      <th>395</th>\n",
       "      <td>brute</td>\n",
       "      <td>200</td>\n",
       "      <td>8.706522</td>\n",
       "    </tr>\n",
       "    <tr>\n",
       "      <th>396</th>\n",
       "      <td>brute</td>\n",
       "      <td>200</td>\n",
       "      <td>8.771624</td>\n",
       "    </tr>\n",
       "    <tr>\n",
       "      <th>397</th>\n",
       "      <td>brute</td>\n",
       "      <td>200</td>\n",
       "      <td>8.757737</td>\n",
       "    </tr>\n",
       "    <tr>\n",
       "      <th>398</th>\n",
       "      <td>brute</td>\n",
       "      <td>200</td>\n",
       "      <td>8.821027</td>\n",
       "    </tr>\n",
       "    <tr>\n",
       "      <th>399</th>\n",
       "      <td>brute</td>\n",
       "      <td>200</td>\n",
       "      <td>8.790901</td>\n",
       "    </tr>\n",
       "  </tbody>\n",
       "</table>\n",
       "<p>400 rows × 3 columns</p>\n",
       "</div>"
      ],
      "text/plain": [
       "    Algoritmo  alpha  Tiempo (en segundos)\n",
       "0     kd_tree      5              0.455152\n",
       "1     kd_tree      5              0.459383\n",
       "2     kd_tree      5              0.467578\n",
       "3     kd_tree      5              0.452955\n",
       "4     kd_tree      5              0.447630\n",
       "..        ...    ...                   ...\n",
       "395     brute    200              8.706522\n",
       "396     brute    200              8.771624\n",
       "397     brute    200              8.757737\n",
       "398     brute    200              8.821027\n",
       "399     brute    200              8.790901\n",
       "\n",
       "[400 rows x 3 columns]"
      ]
     },
     "execution_count": 110,
     "metadata": {},
     "output_type": "execute_result"
    }
   ],
   "source": [
    "df_results = pd.DataFrame(((algo, alpha, time)\n",
    "                           for algo, alpha_dict in results.items()\n",
    "                           for alpha, timing_list in alpha_dict.items()\n",
    "                           for time in timing_list),\n",
    "                          columns=['Algoritmo', 'alpha', 'Tiempo (en segundos)'])\n",
    "df_results['Tiempo (en segundos)'] /= 10**9 # Pasamos de nanosegundos a segundos\n",
    "df_results"
   ]
  },
  {
   "cell_type": "code",
   "execution_count": 111,
   "id": "b6f7286e",
   "metadata": {},
   "outputs": [
    {
     "data": {
      "image/png": "[encoded data removed]",
      "text/plain": [
       "<Figure size 433.125x360 with 1 Axes>"
      ]
     },
     "metadata": {
      "needs_background": "light"
     },
     "output_type": "display_data"
    }
   ],
   "source": [
    "grid = sns.relplot(data=df_results, x='alpha', y='Tiempo (en segundos)', hue='Algoritmo', kind='line')\n",
    "grid.figure.savefig('sklearn-kd-tree-vs-brute.pdf')"
   ]
  },
  {
   "cell_type": "markdown",
   "id": "bc9a758b",
   "metadata": {},
   "source": [
    "Ahora comparemos nuestro `brute` con el de `sklearn` :)"
   ]
  },
  {
   "cell_type": "code",
   "execution_count": 105,
   "id": "e85402c2",
   "metadata": {},
   "outputs": [
    {
     "name": "stdout",
     "output_type": "stream",
     "text": [
      "alpha=5 \n",
      ".,.,.,.,.,alpha=10 \n",
      ".,.,.,.,.,alpha=15 \n",
      ".,.,.,.,.,alpha=20 \n",
      ".,.,.,.,.,alpha=25 \n",
      ".,.,.,.,.,alpha=30 \n",
      ".,.,.,.,.,alpha=35 \n",
      ".,.,.,.,.,alpha=40 \n",
      ".,.,.,.,.,alpha=45 \n",
      ".,.,.,.,.,alpha=50 \n",
      ".,.,.,.,.,"
     ]
    },
    {
     "data": {
      "text/html": [
       "<div>\n",
       "<style scoped>\n",
       "    .dataframe tbody tr th:only-of-type {\n",
       "        vertical-align: middle;\n",
       "    }\n",
       "\n",
       "    .dataframe tbody tr th {\n",
       "        vertical-align: top;\n",
       "    }\n",
       "\n",
       "    .dataframe thead th {\n",
       "        text-align: right;\n",
       "    }\n",
       "</style>\n",
       "<table border=\"1\" class=\"dataframe\">\n",
       "  <thead>\n",
       "    <tr style=\"text-align: right;\">\n",
       "      <th></th>\n",
       "      <th>Implementación</th>\n",
       "      <th>alpha</th>\n",
       "      <th>Tiempo (en segundos)</th>\n",
       "    </tr>\n",
       "  </thead>\n",
       "  <tbody>\n",
       "    <tr>\n",
       "      <th>0</th>\n",
       "      <td>ours</td>\n",
       "      <td>5</td>\n",
       "      <td>2.770753</td>\n",
       "    </tr>\n",
       "    <tr>\n",
       "      <th>1</th>\n",
       "      <td>sklearn</td>\n",
       "      <td>5</td>\n",
       "      <td>7.861581</td>\n",
       "    </tr>\n",
       "    <tr>\n",
       "      <th>2</th>\n",
       "      <td>ours</td>\n",
       "      <td>5</td>\n",
       "      <td>2.770436</td>\n",
       "    </tr>\n",
       "    <tr>\n",
       "      <th>3</th>\n",
       "      <td>sklearn</td>\n",
       "      <td>5</td>\n",
       "      <td>7.721038</td>\n",
       "    </tr>\n",
       "    <tr>\n",
       "      <th>4</th>\n",
       "      <td>ours</td>\n",
       "      <td>5</td>\n",
       "      <td>2.766620</td>\n",
       "    </tr>\n",
       "    <tr>\n",
       "      <th>...</th>\n",
       "      <td>...</td>\n",
       "      <td>...</td>\n",
       "      <td>...</td>\n",
       "    </tr>\n",
       "    <tr>\n",
       "      <th>95</th>\n",
       "      <td>sklearn</td>\n",
       "      <td>50</td>\n",
       "      <td>7.665190</td>\n",
       "    </tr>\n",
       "    <tr>\n",
       "      <th>96</th>\n",
       "      <td>ours</td>\n",
       "      <td>50</td>\n",
       "      <td>18.684645</td>\n",
       "    </tr>\n",
       "    <tr>\n",
       "      <th>97</th>\n",
       "      <td>sklearn</td>\n",
       "      <td>50</td>\n",
       "      <td>7.658959</td>\n",
       "    </tr>\n",
       "    <tr>\n",
       "      <th>98</th>\n",
       "      <td>ours</td>\n",
       "      <td>50</td>\n",
       "      <td>18.667993</td>\n",
       "    </tr>\n",
       "    <tr>\n",
       "      <th>99</th>\n",
       "      <td>sklearn</td>\n",
       "      <td>50</td>\n",
       "      <td>7.673969</td>\n",
       "    </tr>\n",
       "  </tbody>\n",
       "</table>\n",
       "<p>100 rows × 3 columns</p>\n",
       "</div>"
      ],
      "text/plain": [
       "   Implementación  alpha  Tiempo (en segundos)\n",
       "0            ours      5              2.770753\n",
       "1         sklearn      5              7.861581\n",
       "2            ours      5              2.770436\n",
       "3         sklearn      5              7.721038\n",
       "4            ours      5              2.766620\n",
       "..            ...    ...                   ...\n",
       "95        sklearn     50              7.665190\n",
       "96           ours     50             18.684645\n",
       "97        sklearn     50              7.658959\n",
       "98           ours     50             18.667993\n",
       "99        sklearn     50              7.673969\n",
       "\n",
       "[100 rows x 3 columns]"
      ]
     },
     "execution_count": 105,
     "metadata": {},
     "output_type": "execute_result"
    }
   ],
   "source": [
    "from metnum import KNNClassifier\n",
    "\n",
    "LOAD_FROM_FILE = True\n",
    "\n",
    "if LOAD_FROM_FILE:\n",
    "    with open('kd_tree_vs_ours.pickle', 'rb') as file:\n",
    "        results = load(file)\n",
    "else:\n",
    "    results_sklearn_vs_ours = []\n",
    "\n",
    "    for alpha in range(5, 51, 5):\n",
    "        print(f'alpha={alpha} ', flush=True)\n",
    "        # Primero achiquemos la dimensionalidad del problema así no tarda mil años\n",
    "        pca = PCA(alpha)\n",
    "        pca.fit(X_train)\n",
    "        X_train_pc = pca.transform(X_train)\n",
    "        X_test_pc = pca.transform(X_test)\n",
    "\n",
    "        knn_ours = KNNClassifier(5)\n",
    "        knn_ours.fit(X_train_pc, y_train_1d)\n",
    "        knn_sklearn = KNeighborsClassifier(n_neighbors=5, algorithm='brute')\n",
    "        knn_sklearn.fit(X_train_pc, y_train_1d)\n",
    "\n",
    "        for _ in range(NUM_TRIES):\n",
    "            print('.', end='', flush=True)\n",
    "            results_sklearn_vs_ours.append(('ours', alpha, time_for(knn_ours.predict, X_test_pc)))\n",
    "            print(',', end='', flush=True)\n",
    "            results_sklearn_vs_ours.append(('sklearn', alpha, time_for(knn_sklearn.predict, X_test_pc)))\n",
    "\n",
    "    results_sklearn_vs_ours = pd.DataFrame(results_sklearn_vs_ours, columns=['Implementación', 'alpha', 'Tiempo (en segundos)'])\n",
    "    results_sklearn_vs_ours['Tiempo (en segundos)'] /= 10**9\n",
    "\n",
    "    with open('kd_tree_vs_ours.pickle', 'wb') as file:\n",
    "        from pickle import dump\n",
    "        dump(results_sklearn_vs_ours, file)\n",
    "\n",
    "results_sklearn_vs_ours"
   ]
  },
  {
   "cell_type": "code",
   "execution_count": 106,
   "id": "dd6915e4",
   "metadata": {},
   "outputs": [
    {
     "data": {
      "image/png": "[encoded data removed]",
      "text/plain": [
       "<Figure size 448.625x360 with 1 Axes>"
      ]
     },
     "metadata": {
      "needs_background": "light"
     },
     "output_type": "display_data"
    }
   ],
   "source": [
    "grid = sns.relplot(data=results_sklearn_vs_ours, x='alpha', y='Tiempo (en segundos)', hue='Implementación', kind='line')\n",
    "grid.figure.savefig('brute-sklearn-vs-own.pdf')"
   ]
  },
  {
   "cell_type": "markdown",
   "id": "068142d2",
   "metadata": {},
   "source": [
    "Finalmente, veamos cómo se comporta nuestra implementación al variar $k$ y $\\alpha$"
   ]
  },
  {
   "cell_type": "code",
   "execution_count": 107,
   "id": "52a8d1bd",
   "metadata": {},
   "outputs": [
    {
     "data": {
      "image/png": "[encoded data removed]",
      "text/plain": [
       "<Figure size 360x360 with 1 Axes>"
      ]
     },
     "metadata": {
      "needs_background": "light"
     },
     "output_type": "display_data"
    }
   ],
   "source": [
    "data = df_knn[['k', 'knn_predict_time']].copy()\n",
    "data['knn_predict_time'] /= 10**9 * 60\n",
    "data.columns = ['k', 'Tiempo (en minutos)']\n",
    "sns.relplot(data=data, x='k', y='Tiempo (en minutos)', kind='line') \\\n",
    "   .figure.savefig('knn-k-performance.pdf')"
   ]
  },
  {
   "cell_type": "code",
   "execution_count": 108,
   "id": "5f17516d",
   "metadata": {},
   "outputs": [
    {
     "data": {
      "image/png": "[encoded data removed]",
      "text/plain": [
       "<Figure size 360x360 with 1 Axes>"
      ]
     },
     "metadata": {
      "needs_background": "light"
     },
     "output_type": "display_data"
    }
   ],
   "source": [
    "data = df_knnpca[['alpha', 'knn_predict_time']].copy()\n",
    "data['knn_predict_time'] /= 10**9\n",
    "data.columns = ['alpha', 'Tiempo (en segundos)']\n",
    "sns.relplot(data=data, x='alpha', y='Tiempo (en segundos)', kind='line') \\\n",
    "   .figure.savefig('knnpca-alpha-performance.pdf')"
   ]
  }
 ],
 "metadata": {
  "kernelspec": {
   "display_name": "Python 3 (ipykernel)",
   "language": "python",
   "name": "python3"
  },
  "language_info": {
   "codemirror_mode": {
    "name": "ipython",
    "version": 3
   },
   "file_extension": ".py",
   "mimetype": "text/x-python",
   "name": "python",
   "nbconvert_exporter": "python",
   "pygments_lexer": "ipython3",
   "version": "3.9.7"
  }
 },
 "nbformat": 4,
 "nbformat_minor": 5
}
