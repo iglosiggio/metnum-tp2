{
 "cells": [
  {
   "cell_type": "markdown",
   "id": "8a2f8228",
   "metadata": {},
   "source": [
    "# Laburo con los datos experimentales\n",
    "\n",
    "El objetivo de éste notebook es trabajar con los resultados experimentales (generados con `exp_k_alpha.py`). El código que genera los gráficos disponibles en el informe debería estar en su completitud aquí.\n",
    "\n",
    "Primero que todo tenemos que cargar los datos experimentales:"
   ]
  },
  {
   "cell_type": "code",
   "execution_count": 1,
   "id": "9b39fc30",
   "metadata": {},
   "outputs": [
    {
     "data": {
      "text/html": [
       "<div>\n",
       "<style scoped>\n",
       "    .dataframe tbody tr th:only-of-type {\n",
       "        vertical-align: middle;\n",
       "    }\n",
       "\n",
       "    .dataframe tbody tr th {\n",
       "        vertical-align: top;\n",
       "    }\n",
       "\n",
       "    .dataframe thead th {\n",
       "        text-align: right;\n",
       "    }\n",
       "</style>\n",
       "<table border=\"1\" class=\"dataframe\">\n",
       "  <thead>\n",
       "    <tr style=\"text-align: right;\">\n",
       "      <th></th>\n",
       "      <th>kind</th>\n",
       "      <th>k</th>\n",
       "      <th>alpha</th>\n",
       "      <th>elapsed_time</th>\n",
       "      <th>pca_init_and_fit_time</th>\n",
       "      <th>pca_transform_time</th>\n",
       "      <th>knn_init_and_fit_time</th>\n",
       "      <th>knn_predict_time</th>\n",
       "      <th>y_pred</th>\n",
       "      <th>y_test</th>\n",
       "      <th>y_fold_pred</th>\n",
       "      <th>y_fold_test</th>\n",
       "    </tr>\n",
       "  </thead>\n",
       "  <tbody>\n",
       "    <tr>\n",
       "      <th>0</th>\n",
       "      <td>knnpca</td>\n",
       "      <td>1</td>\n",
       "      <td>1.0</td>\n",
       "      <td>5473120128</td>\n",
       "      <td>2.598776e+09</td>\n",
       "      <td>235056397.0</td>\n",
       "      <td>187226</td>\n",
       "      <td>2639100516</td>\n",
       "      <td>[7.0, 0.0, 2.0, 2.0, 7.0, 1.0, 7.0, 2.0, 9.0, ...</td>\n",
       "      <td>[[7], [2], [9], [6], [9], [6], [3], [8], [6], ...</td>\n",
       "      <td>[1.0, 4.0, 5.0, 1.0, 8.0, 7.0, 6.0, 7.0, 3.0, ...</td>\n",
       "      <td>[[2], [9], [3], [1], [2], [9], [5], [8], [7], ...</td>\n",
       "    </tr>\n",
       "    <tr>\n",
       "      <th>1</th>\n",
       "      <td>knnpca</td>\n",
       "      <td>2</td>\n",
       "      <td>1.0</td>\n",
       "      <td>5575963044</td>\n",
       "      <td>2.598776e+09</td>\n",
       "      <td>235056397.0</td>\n",
       "      <td>146870</td>\n",
       "      <td>2741983788</td>\n",
       "      <td>[1.0, 0.0, 2.0, 2.0, 7.0, 1.0, 3.0, 2.0, 0.0, ...</td>\n",
       "      <td>[[7], [2], [9], [6], [9], [6], [3], [8], [6], ...</td>\n",
       "      <td>[1.0, 4.0, 5.0, 1.0, 3.0, 7.0, 6.0, 4.0, 3.0, ...</td>\n",
       "      <td>[[2], [9], [3], [1], [2], [9], [5], [8], [7], ...</td>\n",
       "    </tr>\n",
       "    <tr>\n",
       "      <th>2</th>\n",
       "      <td>knnpca</td>\n",
       "      <td>3</td>\n",
       "      <td>1.0</td>\n",
       "      <td>5737825042</td>\n",
       "      <td>2.598776e+09</td>\n",
       "      <td>235056397.0</td>\n",
       "      <td>185627</td>\n",
       "      <td>2903807029</td>\n",
       "      <td>[1.0, 0.0, 2.0, 2.0, 7.0, 1.0, 3.0, 2.0, 0.0, ...</td>\n",
       "      <td>[[7], [2], [9], [6], [9], [6], [3], [8], [6], ...</td>\n",
       "      <td>[1.0, 6.0, 5.0, 1.0, 3.0, 3.0, 6.0, 4.0, 3.0, ...</td>\n",
       "      <td>[[2], [9], [3], [1], [2], [9], [5], [8], [7], ...</td>\n",
       "    </tr>\n",
       "    <tr>\n",
       "      <th>3</th>\n",
       "      <td>knnpca</td>\n",
       "      <td>4</td>\n",
       "      <td>1.0</td>\n",
       "      <td>5679472451</td>\n",
       "      <td>2.598776e+09</td>\n",
       "      <td>235056397.0</td>\n",
       "      <td>232890</td>\n",
       "      <td>2845407175</td>\n",
       "      <td>[1.0, 0.0, 2.0, 2.0, 7.0, 7.0, 3.0, 5.0, 0.0, ...</td>\n",
       "      <td>[[7], [2], [9], [6], [9], [6], [3], [8], [6], ...</td>\n",
       "      <td>[7.0, 6.0, 5.0, 1.0, 8.0, 3.0, 6.0, 4.0, 3.0, ...</td>\n",
       "      <td>[[2], [9], [3], [1], [2], [9], [5], [8], [7], ...</td>\n",
       "    </tr>\n",
       "    <tr>\n",
       "      <th>4</th>\n",
       "      <td>knnpca</td>\n",
       "      <td>5</td>\n",
       "      <td>1.0</td>\n",
       "      <td>5718439245</td>\n",
       "      <td>2.598776e+09</td>\n",
       "      <td>235056397.0</td>\n",
       "      <td>205614</td>\n",
       "      <td>2884401245</td>\n",
       "      <td>[1.0, 0.0, 2.0, 7.0, 7.0, 7.0, 5.0, 5.0, 0.0, ...</td>\n",
       "      <td>[[7], [2], [9], [6], [9], [6], [3], [8], [6], ...</td>\n",
       "      <td>[7.0, 6.0, 5.0, 1.0, 8.0, 3.0, 6.0, 4.0, 4.0, ...</td>\n",
       "      <td>[[2], [9], [3], [1], [2], [9], [5], [8], [7], ...</td>\n",
       "    </tr>\n",
       "    <tr>\n",
       "      <th>...</th>\n",
       "      <td>...</td>\n",
       "      <td>...</td>\n",
       "      <td>...</td>\n",
       "      <td>...</td>\n",
       "      <td>...</td>\n",
       "      <td>...</td>\n",
       "      <td>...</td>\n",
       "      <td>...</td>\n",
       "      <td>...</td>\n",
       "      <td>...</td>\n",
       "      <td>...</td>\n",
       "      <td>...</td>\n",
       "    </tr>\n",
       "    <tr>\n",
       "      <th>4645</th>\n",
       "      <td>knn</td>\n",
       "      <td>26</td>\n",
       "      <td>NaN</td>\n",
       "      <td>716552634872</td>\n",
       "      <td>NaN</td>\n",
       "      <td>NaN</td>\n",
       "      <td>209053599</td>\n",
       "      <td>716343581273</td>\n",
       "      <td>[9.0, 2.0, 9.0, 6.0, 9.0, 6.0, 3.0, 8.0, 6.0, ...</td>\n",
       "      <td>[[7], [2], [9], [6], [9], [6], [3], [8], [6], ...</td>\n",
       "      <td>[8.0, 7.0, 1.0, 0.0, 7.0, 2.0, 8.0, 2.0, 7.0, ...</td>\n",
       "      <td>[[8], [7], [1], [0], [7], [2], [8], [2], [7], ...</td>\n",
       "    </tr>\n",
       "    <tr>\n",
       "      <th>4646</th>\n",
       "      <td>knn</td>\n",
       "      <td>27</td>\n",
       "      <td>NaN</td>\n",
       "      <td>660746681464</td>\n",
       "      <td>NaN</td>\n",
       "      <td>NaN</td>\n",
       "      <td>238334395</td>\n",
       "      <td>660508347069</td>\n",
       "      <td>[9.0, 2.0, 9.0, 6.0, 9.0, 6.0, 3.0, 8.0, 6.0, ...</td>\n",
       "      <td>[[7], [2], [9], [6], [9], [6], [3], [8], [6], ...</td>\n",
       "      <td>[8.0, 7.0, 1.0, 0.0, 7.0, 2.0, 8.0, 2.0, 7.0, ...</td>\n",
       "      <td>[[8], [7], [1], [0], [7], [2], [8], [2], [7], ...</td>\n",
       "    </tr>\n",
       "    <tr>\n",
       "      <th>4647</th>\n",
       "      <td>knn</td>\n",
       "      <td>28</td>\n",
       "      <td>NaN</td>\n",
       "      <td>604904267144</td>\n",
       "      <td>NaN</td>\n",
       "      <td>NaN</td>\n",
       "      <td>213043046</td>\n",
       "      <td>604691224098</td>\n",
       "      <td>[9.0, 2.0, 9.0, 6.0, 9.0, 6.0, 3.0, 8.0, 6.0, ...</td>\n",
       "      <td>[[7], [2], [9], [6], [9], [6], [3], [8], [6], ...</td>\n",
       "      <td>[8.0, 7.0, 1.0, 0.0, 7.0, 2.0, 8.0, 2.0, 7.0, ...</td>\n",
       "      <td>[[8], [7], [1], [0], [7], [2], [8], [2], [7], ...</td>\n",
       "    </tr>\n",
       "    <tr>\n",
       "      <th>4648</th>\n",
       "      <td>knn</td>\n",
       "      <td>29</td>\n",
       "      <td>NaN</td>\n",
       "      <td>566102875095</td>\n",
       "      <td>NaN</td>\n",
       "      <td>NaN</td>\n",
       "      <td>200959077</td>\n",
       "      <td>565901916018</td>\n",
       "      <td>[9.0, 2.0, 9.0, 6.0, 9.0, 6.0, 3.0, 8.0, 6.0, ...</td>\n",
       "      <td>[[7], [2], [9], [6], [9], [6], [3], [8], [6], ...</td>\n",
       "      <td>[8.0, 7.0, 1.0, 0.0, 7.0, 2.0, 8.0, 2.0, 7.0, ...</td>\n",
       "      <td>[[8], [7], [1], [0], [7], [2], [8], [2], [7], ...</td>\n",
       "    </tr>\n",
       "    <tr>\n",
       "      <th>4649</th>\n",
       "      <td>knn</td>\n",
       "      <td>30</td>\n",
       "      <td>NaN</td>\n",
       "      <td>477640365223</td>\n",
       "      <td>NaN</td>\n",
       "      <td>NaN</td>\n",
       "      <td>199483457</td>\n",
       "      <td>477440881766</td>\n",
       "      <td>[9.0, 2.0, 9.0, 6.0, 9.0, 6.0, 3.0, 8.0, 6.0, ...</td>\n",
       "      <td>[[7], [2], [9], [6], [9], [6], [3], [8], [6], ...</td>\n",
       "      <td>[8.0, 7.0, 1.0, 0.0, 7.0, 2.0, 8.0, 2.0, 7.0, ...</td>\n",
       "      <td>[[8], [7], [1], [0], [7], [2], [8], [2], [7], ...</td>\n",
       "    </tr>\n",
       "  </tbody>\n",
       "</table>\n",
       "<p>4650 rows × 12 columns</p>\n",
       "</div>"
      ],
      "text/plain": [
       "        kind   k  alpha  elapsed_time  pca_init_and_fit_time  \\\n",
       "0     knnpca   1    1.0    5473120128           2.598776e+09   \n",
       "1     knnpca   2    1.0    5575963044           2.598776e+09   \n",
       "2     knnpca   3    1.0    5737825042           2.598776e+09   \n",
       "3     knnpca   4    1.0    5679472451           2.598776e+09   \n",
       "4     knnpca   5    1.0    5718439245           2.598776e+09   \n",
       "...      ...  ..    ...           ...                    ...   \n",
       "4645     knn  26    NaN  716552634872                    NaN   \n",
       "4646     knn  27    NaN  660746681464                    NaN   \n",
       "4647     knn  28    NaN  604904267144                    NaN   \n",
       "4648     knn  29    NaN  566102875095                    NaN   \n",
       "4649     knn  30    NaN  477640365223                    NaN   \n",
       "\n",
       "      pca_transform_time  knn_init_and_fit_time  knn_predict_time  \\\n",
       "0            235056397.0                 187226        2639100516   \n",
       "1            235056397.0                 146870        2741983788   \n",
       "2            235056397.0                 185627        2903807029   \n",
       "3            235056397.0                 232890        2845407175   \n",
       "4            235056397.0                 205614        2884401245   \n",
       "...                  ...                    ...               ...   \n",
       "4645                 NaN              209053599      716343581273   \n",
       "4646                 NaN              238334395      660508347069   \n",
       "4647                 NaN              213043046      604691224098   \n",
       "4648                 NaN              200959077      565901916018   \n",
       "4649                 NaN              199483457      477440881766   \n",
       "\n",
       "                                                 y_pred  \\\n",
       "0     [7.0, 0.0, 2.0, 2.0, 7.0, 1.0, 7.0, 2.0, 9.0, ...   \n",
       "1     [1.0, 0.0, 2.0, 2.0, 7.0, 1.0, 3.0, 2.0, 0.0, ...   \n",
       "2     [1.0, 0.0, 2.0, 2.0, 7.0, 1.0, 3.0, 2.0, 0.0, ...   \n",
       "3     [1.0, 0.0, 2.0, 2.0, 7.0, 7.0, 3.0, 5.0, 0.0, ...   \n",
       "4     [1.0, 0.0, 2.0, 7.0, 7.0, 7.0, 5.0, 5.0, 0.0, ...   \n",
       "...                                                 ...   \n",
       "4645  [9.0, 2.0, 9.0, 6.0, 9.0, 6.0, 3.0, 8.0, 6.0, ...   \n",
       "4646  [9.0, 2.0, 9.0, 6.0, 9.0, 6.0, 3.0, 8.0, 6.0, ...   \n",
       "4647  [9.0, 2.0, 9.0, 6.0, 9.0, 6.0, 3.0, 8.0, 6.0, ...   \n",
       "4648  [9.0, 2.0, 9.0, 6.0, 9.0, 6.0, 3.0, 8.0, 6.0, ...   \n",
       "4649  [9.0, 2.0, 9.0, 6.0, 9.0, 6.0, 3.0, 8.0, 6.0, ...   \n",
       "\n",
       "                                                 y_test  \\\n",
       "0     [[7], [2], [9], [6], [9], [6], [3], [8], [6], ...   \n",
       "1     [[7], [2], [9], [6], [9], [6], [3], [8], [6], ...   \n",
       "2     [[7], [2], [9], [6], [9], [6], [3], [8], [6], ...   \n",
       "3     [[7], [2], [9], [6], [9], [6], [3], [8], [6], ...   \n",
       "4     [[7], [2], [9], [6], [9], [6], [3], [8], [6], ...   \n",
       "...                                                 ...   \n",
       "4645  [[7], [2], [9], [6], [9], [6], [3], [8], [6], ...   \n",
       "4646  [[7], [2], [9], [6], [9], [6], [3], [8], [6], ...   \n",
       "4647  [[7], [2], [9], [6], [9], [6], [3], [8], [6], ...   \n",
       "4648  [[7], [2], [9], [6], [9], [6], [3], [8], [6], ...   \n",
       "4649  [[7], [2], [9], [6], [9], [6], [3], [8], [6], ...   \n",
       "\n",
       "                                            y_fold_pred  \\\n",
       "0     [1.0, 4.0, 5.0, 1.0, 8.0, 7.0, 6.0, 7.0, 3.0, ...   \n",
       "1     [1.0, 4.0, 5.0, 1.0, 3.0, 7.0, 6.0, 4.0, 3.0, ...   \n",
       "2     [1.0, 6.0, 5.0, 1.0, 3.0, 3.0, 6.0, 4.0, 3.0, ...   \n",
       "3     [7.0, 6.0, 5.0, 1.0, 8.0, 3.0, 6.0, 4.0, 3.0, ...   \n",
       "4     [7.0, 6.0, 5.0, 1.0, 8.0, 3.0, 6.0, 4.0, 4.0, ...   \n",
       "...                                                 ...   \n",
       "4645  [8.0, 7.0, 1.0, 0.0, 7.0, 2.0, 8.0, 2.0, 7.0, ...   \n",
       "4646  [8.0, 7.0, 1.0, 0.0, 7.0, 2.0, 8.0, 2.0, 7.0, ...   \n",
       "4647  [8.0, 7.0, 1.0, 0.0, 7.0, 2.0, 8.0, 2.0, 7.0, ...   \n",
       "4648  [8.0, 7.0, 1.0, 0.0, 7.0, 2.0, 8.0, 2.0, 7.0, ...   \n",
       "4649  [8.0, 7.0, 1.0, 0.0, 7.0, 2.0, 8.0, 2.0, 7.0, ...   \n",
       "\n",
       "                                            y_fold_test  \n",
       "0     [[2], [9], [3], [1], [2], [9], [5], [8], [7], ...  \n",
       "1     [[2], [9], [3], [1], [2], [9], [5], [8], [7], ...  \n",
       "2     [[2], [9], [3], [1], [2], [9], [5], [8], [7], ...  \n",
       "3     [[2], [9], [3], [1], [2], [9], [5], [8], [7], ...  \n",
       "4     [[2], [9], [3], [1], [2], [9], [5], [8], [7], ...  \n",
       "...                                                 ...  \n",
       "4645  [[8], [7], [1], [0], [7], [2], [8], [2], [7], ...  \n",
       "4646  [[8], [7], [1], [0], [7], [2], [8], [2], [7], ...  \n",
       "4647  [[8], [7], [1], [0], [7], [2], [8], [2], [7], ...  \n",
       "4648  [[8], [7], [1], [0], [7], [2], [8], [2], [7], ...  \n",
       "4649  [[8], [7], [1], [0], [7], [2], [8], [2], [7], ...  \n",
       "\n",
       "[4650 rows x 12 columns]"
      ]
     },
     "execution_count": 1,
     "metadata": {},
     "output_type": "execute_result"
    }
   ],
   "source": [
    "from pickle import load\n",
    "from gzip import open as zopen\n",
    "\n",
    "with zopen('data.pickle.gz') as file:\n",
    "    df = load(file)\n",
    "\n",
    "df"
   ]
  },
  {
   "cell_type": "markdown",
   "id": "d0e4a540",
   "metadata": {},
   "source": [
    "Los datos contienen tanto información de corridas utilizando tano KNN+PCA (`kind == 'knnpca'`) cómo KNN a secas (`kind == 'knn'`) así que separémoslos."
   ]
  },
  {
   "cell_type": "code",
   "execution_count": 2,
   "id": "fce3cc78",
   "metadata": {},
   "outputs": [
    {
     "name": "stdout",
     "output_type": "stream",
     "text": [
      "Hay 4500 corridas usando KNN + PCA\n",
      "Hay 150 corridas usando KNN a secas\n"
     ]
    }
   ],
   "source": [
    "df_knnpca = df[df['kind'] == 'knnpca']\n",
    "df_knn = df[df['kind'] == 'knn']\n",
    "\n",
    "print(f'Hay {len(df_knnpca)} corridas usando KNN + PCA')\n",
    "print(f'Hay {len(df_knn)} corridas usando KNN a secas')"
   ]
  },
  {
   "cell_type": "markdown",
   "id": "4901ca0f",
   "metadata": {},
   "source": [
    "Hecho ésto, podemos empezar a explorar los datos usando las bibliotecas de python de siempre."
   ]
  },
  {
   "cell_type": "code",
   "execution_count": 3,
   "id": "ef28b88c",
   "metadata": {},
   "outputs": [],
   "source": [
    "# Importemos todo :P\n",
    "import numpy as np\n",
    "import pandas as pd\n",
    "import matplotlib.pyplot as plt\n",
    "import seaborn as sns\n",
    "from matplotlib.colors import LogNorm\n",
    "from sklearn.metrics import confusion_matrix\n",
    "from sklearn.metrics import cohen_kappa_score"
   ]
  },
  {
   "cell_type": "markdown",
   "id": "03658b97",
   "metadata": {},
   "source": [
    "### KNN"
   ]
  },
  {
   "cell_type": "markdown",
   "id": "06351053",
   "metadata": {},
   "source": [
    "Los datos tienen toda la información de evaluación necesaria para evaluar diversas métricas. Podemos usar las implementaciones propias de scikit para trabajar con éstas."
   ]
  },
  {
   "cell_type": "code",
   "execution_count": 4,
   "id": "86250e61",
   "metadata": {},
   "outputs": [
    {
     "data": {
      "text/html": [
       "<div>\n",
       "<style scoped>\n",
       "    .dataframe tbody tr th:only-of-type {\n",
       "        vertical-align: middle;\n",
       "    }\n",
       "\n",
       "    .dataframe tbody tr th {\n",
       "        vertical-align: top;\n",
       "    }\n",
       "\n",
       "    .dataframe thead th {\n",
       "        text-align: right;\n",
       "    }\n",
       "</style>\n",
       "<table border=\"1\" class=\"dataframe\">\n",
       "  <thead>\n",
       "    <tr style=\"text-align: right;\">\n",
       "      <th></th>\n",
       "      <th>k</th>\n",
       "      <th>accuracy</th>\n",
       "    </tr>\n",
       "  </thead>\n",
       "  <tbody>\n",
       "    <tr>\n",
       "      <th>4500</th>\n",
       "      <td>1</td>\n",
       "      <td>0.961190</td>\n",
       "    </tr>\n",
       "    <tr>\n",
       "      <th>4501</th>\n",
       "      <td>2</td>\n",
       "      <td>0.954286</td>\n",
       "    </tr>\n",
       "    <tr>\n",
       "      <th>4502</th>\n",
       "      <td>3</td>\n",
       "      <td>0.962063</td>\n",
       "    </tr>\n",
       "    <tr>\n",
       "      <th>4503</th>\n",
       "      <td>4</td>\n",
       "      <td>0.960794</td>\n",
       "    </tr>\n",
       "    <tr>\n",
       "      <th>4504</th>\n",
       "      <td>5</td>\n",
       "      <td>0.961667</td>\n",
       "    </tr>\n",
       "    <tr>\n",
       "      <th>...</th>\n",
       "      <td>...</td>\n",
       "      <td>...</td>\n",
       "    </tr>\n",
       "    <tr>\n",
       "      <th>4645</th>\n",
       "      <td>26</td>\n",
       "      <td>0.946905</td>\n",
       "    </tr>\n",
       "    <tr>\n",
       "      <th>4646</th>\n",
       "      <td>27</td>\n",
       "      <td>0.946111</td>\n",
       "    </tr>\n",
       "    <tr>\n",
       "      <th>4647</th>\n",
       "      <td>28</td>\n",
       "      <td>0.945238</td>\n",
       "    </tr>\n",
       "    <tr>\n",
       "      <th>4648</th>\n",
       "      <td>29</td>\n",
       "      <td>0.944683</td>\n",
       "    </tr>\n",
       "    <tr>\n",
       "      <th>4649</th>\n",
       "      <td>30</td>\n",
       "      <td>0.944762</td>\n",
       "    </tr>\n",
       "  </tbody>\n",
       "</table>\n",
       "<p>150 rows × 2 columns</p>\n",
       "</div>"
      ],
      "text/plain": [
       "       k  accuracy\n",
       "4500   1  0.961190\n",
       "4501   2  0.954286\n",
       "4502   3  0.962063\n",
       "4503   4  0.960794\n",
       "4504   5  0.961667\n",
       "...   ..       ...\n",
       "4645  26  0.946905\n",
       "4646  27  0.946111\n",
       "4647  28  0.945238\n",
       "4648  29  0.944683\n",
       "4649  30  0.944762\n",
       "\n",
       "[150 rows x 2 columns]"
      ]
     },
     "execution_count": 4,
     "metadata": {},
     "output_type": "execute_result"
    }
   ],
   "source": [
    "from sklearn.metrics import accuracy_score\n",
    "\n",
    "knn_accuracy_column = df_knn.apply(\n",
    "    func=lambda row: accuracy_score(row['y_test'], row['y_pred']),\n",
    "    axis=1\n",
    ")\n",
    "df_knn_accuracy = df_knn[['k']].copy()\n",
    "df_knn_accuracy['accuracy'] = knn_accuracy_column\n",
    "df_knn_accuracy"
   ]
  },
  {
   "cell_type": "code",
   "execution_count": 5,
   "id": "655c340f",
   "metadata": {},
   "outputs": [
    {
     "data": {
      "text/plain": [
       "<seaborn.axisgrid.FacetGrid at 0x1747f927bb0>"
      ]
     },
     "execution_count": 5,
     "metadata": {},
     "output_type": "execute_result"
    },
    {
     "data": {
      "image/png": "[encoded data removed]",
      "text/plain": [
       "<Figure size 360x360 with 1 Axes>"
      ]
     },
     "metadata": {
      "needs_background": "light"
     },
     "output_type": "display_data"
    }
   ],
   "source": [
    "sns.relplot(data=df_knn_accuracy, x='k', y='accuracy', kind='line') \\\n",
    "   .set(title='Precisión de KNN para distintas parametrizaciones')"
   ]
  },
  {
   "cell_type": "code",
   "execution_count": 6,
   "id": "36af720d",
   "metadata": {},
   "outputs": [
    {
     "name": "stdout",
     "output_type": "stream",
     "text": [
      "kind                                                                   knn\n",
      "k                                                                        3\n",
      "alpha                                                                  NaN\n",
      "elapsed_time                                                  747080313272\n",
      "pca_init_and_fit_time                                                  NaN\n",
      "pca_transform_time                                                     NaN\n",
      "knn_init_and_fit_time                                            333045028\n",
      "knn_predict_time                                              746747268244\n",
      "y_pred                   [7.0, 2.0, 9.0, 6.0, 9.0, 6.0, 3.0, 8.0, 6.0, ...\n",
      "y_test                   [[7], [2], [9], [6], [9], [6], [3], [8], [6], ...\n",
      "y_fold_pred              [5.0, 6.0, 8.0, 2.0, 5.0, 3.0, 5.0, 7.0, 2.0, ...\n",
      "y_fold_test              [[5], [6], [8], [2], [5], [3], [5], [7], [2], ...\n",
      "Name: 4592, dtype: object\n",
      "k           3.000000\n",
      "accuracy    0.964365\n",
      "Name: 4592, dtype: float64\n"
     ]
    }
   ],
   "source": [
    "max_knn_i = df_knn_accuracy['accuracy'].argmax()\n",
    "max_knn_row = df_knn.iloc[max_knn_i]\n",
    "print(max_knn_row)\n",
    "print(df_knn_accuracy.iloc[max_knn_i])\n",
    "max_knn_y_test = np.array(max_knn_row['y_test']).flatten()\n",
    "df_max_knn = pd.DataFrame({'y_pred': max_knn_row['y_pred'], 'y_test': max_knn_y_test})"
   ]
  },
  {
   "cell_type": "code",
   "execution_count": 7,
   "id": "7694b8e2",
   "metadata": {},
   "outputs": [
    {
     "data": {
      "image/png": "[encoded data removed]",
      "text/plain": [
       "<Figure size 432x288 with 2 Axes>"
      ]
     },
     "metadata": {
      "needs_background": "light"
     },
     "output_type": "display_data"
    }
   ],
   "source": [
    "confusion = confusion_matrix(df_max_knn['y_test'], df_max_knn['y_pred'])\n",
    "\n",
    "cmap = sns.cm.rocket_r\n",
    "confusion_heatmap = sns.heatmap(confusion, norm=LogNorm(), cmap=cmap) \\\n",
    "                       .set(title='Matriz de confusión para uno de los experimentos')"
   ]
  },
  {
   "cell_type": "markdown",
   "id": "c102424a",
   "metadata": {},
   "source": [
    "### KNN + PCA"
   ]
  },
  {
   "cell_type": "code",
   "execution_count": 8,
   "id": "541bedea",
   "metadata": {},
   "outputs": [
    {
     "data": {
      "text/plain": [
       "Text(0.5, 1.0, 'Parametrización KNNPCA vs Tiempo total')"
      ]
     },
     "execution_count": 8,
     "metadata": {},
     "output_type": "execute_result"
    },
    {
     "data": {
      "image/png": "[encoded data removed]",
      "text/plain": [
       "<Figure size 432x288 with 2 Axes>"
      ]
     },
     "metadata": {
      "needs_background": "light"
     },
     "output_type": "display_data"
    }
   ],
   "source": [
    "tiempos_totales = df_knnpca.pivot_table(index='k', columns='alpha', values='elapsed_time', aggfunc=np.mean)\n",
    "sns.heatmap(tiempos_totales).set_title('Parametrización KNNPCA vs Tiempo total')"
   ]
  },
  {
   "cell_type": "code",
   "execution_count": 9,
   "id": "1a8bd3f1",
   "metadata": {},
   "outputs": [
    {
     "data": {
      "text/plain": [
       "Text(0.5, 1.0, 'Parametrización KNNPCA vs Tiempo en KNN')"
      ]
     },
     "execution_count": 9,
     "metadata": {},
     "output_type": "execute_result"
    },
    {
     "data": {
      "image/png": "[encoded data removed]",
      "text/plain": [
       "<Figure size 432x288 with 2 Axes>"
      ]
     },
     "metadata": {
      "needs_background": "light"
     },
     "output_type": "display_data"
    }
   ],
   "source": [
    "tiempos_predict = df_knnpca.pivot_table(index='k', columns='alpha', values='knn_predict_time', aggfunc=np.mean)\n",
    "sns.heatmap(tiempos_predict).set_title('Parametrización KNNPCA vs Tiempo en KNN')"
   ]
  },
  {
   "cell_type": "code",
   "execution_count": 10,
   "id": "644bd105",
   "metadata": {},
   "outputs": [
    {
     "data": {
      "text/plain": [
       "Text(0.5, 1.0, 'Parametrización KNNPCA vs Tiempo en KNN')"
      ]
     },
     "execution_count": 10,
     "metadata": {},
     "output_type": "execute_result"
    },
    {
     "data": {
      "image/png": "[encoded data removed]",
      "text/plain": [
       "<Figure size 432x288 with 2 Axes>"
      ]
     },
     "metadata": {
      "needs_background": "light"
     },
     "output_type": "display_data"
    }
   ],
   "source": [
    "tiempos_predict = df_knnpca.pivot_table(index='k', columns='alpha', values='pca_init_and_fit_time', aggfunc=np.mean)\n",
    "sns.heatmap(tiempos_predict).set_title('Parametrización KNNPCA vs Tiempo en KNN')"
   ]
  },
  {
   "cell_type": "code",
   "execution_count": 11,
   "id": "bcc0b192",
   "metadata": {},
   "outputs": [
    {
     "data": {
      "text/plain": [
       "Text(0.5, 1.0, 'Parametrización KNNPCA vs Tiempo en KNN')"
      ]
     },
     "execution_count": 11,
     "metadata": {},
     "output_type": "execute_result"
    },
    {
     "data": {
      "image/png": "[encoded data removed]",
      "text/plain": [
       "<Figure size 432x288 with 2 Axes>"
      ]
     },
     "metadata": {
      "needs_background": "light"
     },
     "output_type": "display_data"
    }
   ],
   "source": [
    "tiempos_predict = df_knnpca.pivot_table(index='k', columns='alpha', values='pca_transform_time', aggfunc=np.mean)\n",
    "sns.heatmap(tiempos_predict).set_title('Parametrización KNNPCA vs Tiempo en KNN')"
   ]
  },
  {
   "cell_type": "code",
   "execution_count": 12,
   "id": "6aaf061a",
   "metadata": {},
   "outputs": [
    {
     "data": {
      "text/plain": [
       "Text(0.5, 1.0, 'Parametrización KNNPCA vs Tiempo en KNN')"
      ]
     },
     "execution_count": 12,
     "metadata": {},
     "output_type": "execute_result"
    },
    {
     "data": {
      "image/png": "[encoded data removed]",
      "text/plain": [
       "<Figure size 432x288 with 2 Axes>"
      ]
     },
     "metadata": {
      "needs_background": "light"
     },
     "output_type": "display_data"
    }
   ],
   "source": [
    "tiempos_predict = df_knnpca.pivot_table(index='k', columns='alpha', values='knn_init_and_fit_time', aggfunc=np.mean)\n",
    "sns.heatmap(tiempos_predict).set_title('Parametrización KNNPCA vs Tiempo en KNN')"
   ]
  },
  {
   "cell_type": "code",
   "execution_count": 13,
   "id": "df3fcad1",
   "metadata": {},
   "outputs": [
    {
     "data": {
      "text/html": [
       "<div>\n",
       "<style scoped>\n",
       "    .dataframe tbody tr th:only-of-type {\n",
       "        vertical-align: middle;\n",
       "    }\n",
       "\n",
       "    .dataframe tbody tr th {\n",
       "        vertical-align: top;\n",
       "    }\n",
       "\n",
       "    .dataframe thead th {\n",
       "        text-align: right;\n",
       "    }\n",
       "</style>\n",
       "<table border=\"1\" class=\"dataframe\">\n",
       "  <thead>\n",
       "    <tr style=\"text-align: right;\">\n",
       "      <th></th>\n",
       "      <th>k</th>\n",
       "      <th>alpha</th>\n",
       "      <th>accuracy</th>\n",
       "    </tr>\n",
       "  </thead>\n",
       "  <tbody>\n",
       "    <tr>\n",
       "      <th>0</th>\n",
       "      <td>1</td>\n",
       "      <td>1.0</td>\n",
       "      <td>0.248254</td>\n",
       "    </tr>\n",
       "    <tr>\n",
       "      <th>1</th>\n",
       "      <td>2</td>\n",
       "      <td>1.0</td>\n",
       "      <td>0.264365</td>\n",
       "    </tr>\n",
       "    <tr>\n",
       "      <th>2</th>\n",
       "      <td>3</td>\n",
       "      <td>1.0</td>\n",
       "      <td>0.268889</td>\n",
       "    </tr>\n",
       "    <tr>\n",
       "      <th>3</th>\n",
       "      <td>4</td>\n",
       "      <td>1.0</td>\n",
       "      <td>0.269762</td>\n",
       "    </tr>\n",
       "    <tr>\n",
       "      <th>4</th>\n",
       "      <td>5</td>\n",
       "      <td>1.0</td>\n",
       "      <td>0.271270</td>\n",
       "    </tr>\n",
       "    <tr>\n",
       "      <th>...</th>\n",
       "      <td>...</td>\n",
       "      <td>...</td>\n",
       "      <td>...</td>\n",
       "    </tr>\n",
       "    <tr>\n",
       "      <th>4495</th>\n",
       "      <td>26</td>\n",
       "      <td>30.0</td>\n",
       "      <td>0.959048</td>\n",
       "    </tr>\n",
       "    <tr>\n",
       "      <th>4496</th>\n",
       "      <td>27</td>\n",
       "      <td>30.0</td>\n",
       "      <td>0.957778</td>\n",
       "    </tr>\n",
       "    <tr>\n",
       "      <th>4497</th>\n",
       "      <td>28</td>\n",
       "      <td>30.0</td>\n",
       "      <td>0.957460</td>\n",
       "    </tr>\n",
       "    <tr>\n",
       "      <th>4498</th>\n",
       "      <td>29</td>\n",
       "      <td>30.0</td>\n",
       "      <td>0.957381</td>\n",
       "    </tr>\n",
       "    <tr>\n",
       "      <th>4499</th>\n",
       "      <td>30</td>\n",
       "      <td>30.0</td>\n",
       "      <td>0.956825</td>\n",
       "    </tr>\n",
       "  </tbody>\n",
       "</table>\n",
       "<p>4500 rows × 3 columns</p>\n",
       "</div>"
      ],
      "text/plain": [
       "       k  alpha  accuracy\n",
       "0      1    1.0  0.248254\n",
       "1      2    1.0  0.264365\n",
       "2      3    1.0  0.268889\n",
       "3      4    1.0  0.269762\n",
       "4      5    1.0  0.271270\n",
       "...   ..    ...       ...\n",
       "4495  26   30.0  0.959048\n",
       "4496  27   30.0  0.957778\n",
       "4497  28   30.0  0.957460\n",
       "4498  29   30.0  0.957381\n",
       "4499  30   30.0  0.956825\n",
       "\n",
       "[4500 rows x 3 columns]"
      ]
     },
     "execution_count": 13,
     "metadata": {},
     "output_type": "execute_result"
    }
   ],
   "source": [
    "df_knnpca\n",
    "\n",
    "df_knnpca_accuracy_column = df_knnpca.apply(\n",
    "    func=lambda row: accuracy_score(row['y_test'], row['y_pred']),\n",
    "    axis=1\n",
    ")\n",
    "df_knnpca_accuracy = df_knnpca[['k']].copy()\n",
    "df_knnpca_accuracy['alpha'] = df_knnpca['alpha']\n",
    "df_knnpca_accuracy['accuracy'] = df_knnpca_accuracy_column\n",
    "\n",
    "df_knnpca_accuracy"
   ]
  },
  {
   "cell_type": "code",
   "execution_count": 14,
   "id": "c87a3975",
   "metadata": {},
   "outputs": [
    {
     "data": {
      "text/plain": [
       "<seaborn.axisgrid.FacetGrid at 0x17413fbfbe0>"
      ]
     },
     "execution_count": 14,
     "metadata": {},
     "output_type": "execute_result"
    },
    {
     "data": {
      "image/png": "[encoded data removed]",
      "text/plain": [
       "<Figure size 3600x360 with 10 Axes>"
      ]
     },
     "metadata": {
      "needs_background": "light"
     },
     "output_type": "display_data"
    }
   ],
   "source": [
    "sns.relplot(x=\"alpha\", y=\"accuracy\", col=\"k\", aspect=1, data=df_knnpca_accuracy.query(\"k%3 == 0\"))"
   ]
  },
  {
   "cell_type": "code",
   "execution_count": 15,
   "id": "31707ea9",
   "metadata": {},
   "outputs": [
    {
     "data": {
      "text/plain": [
       "<seaborn.axisgrid.FacetGrid at 0x1741408bf40>"
      ]
     },
     "execution_count": 15,
     "metadata": {},
     "output_type": "execute_result"
    },
    {
     "data": {
      "image/png": "[encoded data removed]",
      "text/plain": [
       "<Figure size 360x360 with 1 Axes>"
      ]
     },
     "metadata": {
      "needs_background": "light"
     },
     "output_type": "display_data"
    }
   ],
   "source": [
    "data = df_knnpca_accuracy[df_knnpca_accuracy['alpha'] == 29]\n",
    "\n",
    "sns.relplot(data=data, x='k', y='accuracy', kind='line') \\\n",
    "   .set(title='Precisión de KNNPCA para distintas parametrizaciones con alpha=29')"
   ]
  },
  {
   "cell_type": "code",
   "execution_count": 16,
   "id": "8332f7c7",
   "metadata": {},
   "outputs": [
    {
     "data": {
      "text/plain": [
       "<seaborn.axisgrid.FacetGrid at 0x174148dac10>"
      ]
     },
     "execution_count": 16,
     "metadata": {},
     "output_type": "execute_result"
    },
    {
     "data": {
      "image/png": "[encoded data removed]",
      "text/plain": [
       "<Figure size 360x360 with 1 Axes>"
      ]
     },
     "metadata": {
      "needs_background": "light"
     },
     "output_type": "display_data"
    }
   ],
   "source": [
    "data = df_knnpca_accuracy[df_knnpca_accuracy['alpha'] == 7]\n",
    "\n",
    "sns.relplot(data=data, x='k', y='accuracy', kind='line') \\\n",
    "   .set(title='Precisión de KNNPCA para distintas parametrizaciones con alpha=7')"
   ]
  },
  {
   "cell_type": "code",
   "execution_count": 17,
   "id": "7b90552c",
   "metadata": {},
   "outputs": [
    {
     "name": "stdout",
     "output_type": "stream",
     "text": [
      "kind                                                                knnpca\n",
      "k                                                                        4\n",
      "alpha                                                                 28.0\n",
      "elapsed_time                                                   43841195494\n",
      "pca_init_and_fit_time                                        11385455696.0\n",
      "pca_transform_time                                             691223390.0\n",
      "knn_init_and_fit_time                                              3270078\n",
      "knn_predict_time                                               31761246330\n",
      "y_pred                   [4.0, 2.0, 9.0, 6.0, 9.0, 6.0, 3.0, 8.0, 6.0, ...\n",
      "y_test                   [[7], [2], [9], [6], [9], [6], [3], [8], [6], ...\n",
      "y_fold_pred              [5.0, 6.0, 8.0, 2.0, 5.0, 3.0, 5.0, 7.0, 2.0, ...\n",
      "y_fold_test              [[5], [6], [8], [2], [5], [3], [5], [7], [2], ...\n",
      "Name: 3693, dtype: object\n",
      "k            4.000000\n",
      "alpha       28.000000\n",
      "accuracy     0.970317\n",
      "Name: 3693, dtype: float64\n"
     ]
    }
   ],
   "source": [
    "max_knnpca_i = df_knnpca_accuracy['accuracy'].argmax()\n",
    "max_knnpca_row = df_knnpca.iloc[max_knnpca_i]\n",
    "print(max_knnpca_row)\n",
    "print(df_knnpca_accuracy.iloc[max_knnpca_i])\n",
    "max_knnpca_y_test = np.array(max_knnpca_row['y_test']).flatten()\n",
    "df_max_knnpca = pd.DataFrame({'y_pred': max_knnpca_row['y_pred'], 'y_test': max_knnpca_y_test})"
   ]
  },
  {
   "cell_type": "code",
   "execution_count": 18,
   "id": "29948f85",
   "metadata": {},
   "outputs": [
    {
     "data": {
      "image/png": "[encoded data removed]",
      "text/plain": [
       "<Figure size 432x288 with 2 Axes>"
      ]
     },
     "metadata": {
      "needs_background": "light"
     },
     "output_type": "display_data"
    }
   ],
   "source": [
    "confusion = confusion_matrix(df_max_knnpca['y_test'], df_max_knnpca['y_pred'])\n",
    "\n",
    "cmap = sns.cm.rocket_r\n",
    "confusion_heatmap = sns.heatmap(confusion, norm=LogNorm(), cmap=cmap) \\\n",
    "                       .set(title='Matriz de confusión para uno de los experimentos')"
   ]
  },
  {
   "cell_type": "markdown",
   "id": "ebd2f80b",
   "metadata": {},
   "source": [
    "## Experimentos"
   ]
  },
  {
   "cell_type": "markdown",
   "id": "e3c6cb39",
   "metadata": {},
   "source": [
    "### 1. Cohen Kappa: KNN vs KNN + PCA\n",
    "\n",
    "Lo que queremos ver con la Kappa de Cohen es ver si lo que predice KNN es similar a lo que predice KNN+PCA"
   ]
  },
  {
   "cell_type": "code",
   "execution_count": 19,
   "id": "4cf86acd",
   "metadata": {},
   "outputs": [
    {
     "data": {
      "text/plain": [
       "0.9677892896495495"
      ]
     },
     "execution_count": 19,
     "metadata": {},
     "output_type": "execute_result"
    }
   ],
   "source": [
    "cohen_kappa_score(df_max_knnpca['y_pred'], df_max_knn['y_pred'])"
   ]
  },
  {
   "cell_type": "markdown",
   "id": "314b1644",
   "metadata": {},
   "source": [
    "Con el resultado obtenido vemos que el indice obtenido es muy alto pero esto era esperabla dado que ambos tienen muy buena performance. Entonces voy a comparar solo lo que fallo cado uno."
   ]
  },
  {
   "cell_type": "code",
   "execution_count": 20,
   "id": "eea14535",
   "metadata": {},
   "outputs": [
    {
     "data": {
      "text/html": [
       "<div>\n",
       "<style scoped>\n",
       "    .dataframe tbody tr th:only-of-type {\n",
       "        vertical-align: middle;\n",
       "    }\n",
       "\n",
       "    .dataframe tbody tr th {\n",
       "        vertical-align: top;\n",
       "    }\n",
       "\n",
       "    .dataframe thead th {\n",
       "        text-align: right;\n",
       "    }\n",
       "</style>\n",
       "<table border=\"1\" class=\"dataframe\">\n",
       "  <thead>\n",
       "    <tr style=\"text-align: right;\">\n",
       "      <th></th>\n",
       "      <th>y_pred_knn</th>\n",
       "      <th>y_pred_knnpca</th>\n",
       "      <th>y_test</th>\n",
       "    </tr>\n",
       "  </thead>\n",
       "  <tbody>\n",
       "    <tr>\n",
       "      <th>0</th>\n",
       "      <td>7.0</td>\n",
       "      <td>4.0</td>\n",
       "      <td>7</td>\n",
       "    </tr>\n",
       "    <tr>\n",
       "      <th>1</th>\n",
       "      <td>2.0</td>\n",
       "      <td>2.0</td>\n",
       "      <td>2</td>\n",
       "    </tr>\n",
       "    <tr>\n",
       "      <th>2</th>\n",
       "      <td>9.0</td>\n",
       "      <td>9.0</td>\n",
       "      <td>9</td>\n",
       "    </tr>\n",
       "    <tr>\n",
       "      <th>3</th>\n",
       "      <td>6.0</td>\n",
       "      <td>6.0</td>\n",
       "      <td>6</td>\n",
       "    </tr>\n",
       "    <tr>\n",
       "      <th>4</th>\n",
       "      <td>9.0</td>\n",
       "      <td>9.0</td>\n",
       "      <td>9</td>\n",
       "    </tr>\n",
       "    <tr>\n",
       "      <th>...</th>\n",
       "      <td>...</td>\n",
       "      <td>...</td>\n",
       "      <td>...</td>\n",
       "    </tr>\n",
       "    <tr>\n",
       "      <th>12595</th>\n",
       "      <td>1.0</td>\n",
       "      <td>1.0</td>\n",
       "      <td>1</td>\n",
       "    </tr>\n",
       "    <tr>\n",
       "      <th>12596</th>\n",
       "      <td>6.0</td>\n",
       "      <td>6.0</td>\n",
       "      <td>6</td>\n",
       "    </tr>\n",
       "    <tr>\n",
       "      <th>12597</th>\n",
       "      <td>5.0</td>\n",
       "      <td>5.0</td>\n",
       "      <td>5</td>\n",
       "    </tr>\n",
       "    <tr>\n",
       "      <th>12598</th>\n",
       "      <td>0.0</td>\n",
       "      <td>0.0</td>\n",
       "      <td>0</td>\n",
       "    </tr>\n",
       "    <tr>\n",
       "      <th>12599</th>\n",
       "      <td>1.0</td>\n",
       "      <td>1.0</td>\n",
       "      <td>1</td>\n",
       "    </tr>\n",
       "  </tbody>\n",
       "</table>\n",
       "<p>12600 rows × 3 columns</p>\n",
       "</div>"
      ],
      "text/plain": [
       "       y_pred_knn  y_pred_knnpca  y_test\n",
       "0             7.0            4.0       7\n",
       "1             2.0            2.0       2\n",
       "2             9.0            9.0       9\n",
       "3             6.0            6.0       6\n",
       "4             9.0            9.0       9\n",
       "...           ...            ...     ...\n",
       "12595         1.0            1.0       1\n",
       "12596         6.0            6.0       6\n",
       "12597         5.0            5.0       5\n",
       "12598         0.0            0.0       0\n",
       "12599         1.0            1.0       1\n",
       "\n",
       "[12600 rows x 3 columns]"
      ]
     },
     "execution_count": 20,
     "metadata": {},
     "output_type": "execute_result"
    }
   ],
   "source": [
    "df_knn_knnpca_results = pd.DataFrame()\n",
    "df_knn_knnpca_results['y_pred_knn'] = df_max_knn['y_pred']\n",
    "df_knn_knnpca_results['y_pred_knnpca'] = df_max_knnpca['y_pred']\n",
    "df_knn_knnpca_results['y_test'] = df_max_knnpca['y_test']\n",
    "df_knn_knnpca_results"
   ]
  },
  {
   "cell_type": "code",
   "execution_count": 21,
   "id": "ff006320",
   "metadata": {},
   "outputs": [
    {
     "data": {
      "text/html": [
       "<div>\n",
       "<style scoped>\n",
       "    .dataframe tbody tr th:only-of-type {\n",
       "        vertical-align: middle;\n",
       "    }\n",
       "\n",
       "    .dataframe tbody tr th {\n",
       "        vertical-align: top;\n",
       "    }\n",
       "\n",
       "    .dataframe thead th {\n",
       "        text-align: right;\n",
       "    }\n",
       "</style>\n",
       "<table border=\"1\" class=\"dataframe\">\n",
       "  <thead>\n",
       "    <tr style=\"text-align: right;\">\n",
       "      <th></th>\n",
       "      <th>y_pred_knn</th>\n",
       "      <th>y_pred_knnpca</th>\n",
       "      <th>y_test</th>\n",
       "    </tr>\n",
       "  </thead>\n",
       "  <tbody>\n",
       "    <tr>\n",
       "      <th>42</th>\n",
       "      <td>8.0</td>\n",
       "      <td>8.0</td>\n",
       "      <td>3</td>\n",
       "    </tr>\n",
       "    <tr>\n",
       "      <th>90</th>\n",
       "      <td>5.0</td>\n",
       "      <td>5.0</td>\n",
       "      <td>8</td>\n",
       "    </tr>\n",
       "    <tr>\n",
       "      <th>122</th>\n",
       "      <td>3.0</td>\n",
       "      <td>3.0</td>\n",
       "      <td>9</td>\n",
       "    </tr>\n",
       "    <tr>\n",
       "      <th>131</th>\n",
       "      <td>2.0</td>\n",
       "      <td>2.0</td>\n",
       "      <td>7</td>\n",
       "    </tr>\n",
       "    <tr>\n",
       "      <th>177</th>\n",
       "      <td>8.0</td>\n",
       "      <td>8.0</td>\n",
       "      <td>5</td>\n",
       "    </tr>\n",
       "    <tr>\n",
       "      <th>...</th>\n",
       "      <td>...</td>\n",
       "      <td>...</td>\n",
       "      <td>...</td>\n",
       "    </tr>\n",
       "    <tr>\n",
       "      <th>12336</th>\n",
       "      <td>0.0</td>\n",
       "      <td>0.0</td>\n",
       "      <td>3</td>\n",
       "    </tr>\n",
       "    <tr>\n",
       "      <th>12344</th>\n",
       "      <td>1.0</td>\n",
       "      <td>1.0</td>\n",
       "      <td>9</td>\n",
       "    </tr>\n",
       "    <tr>\n",
       "      <th>12372</th>\n",
       "      <td>4.0</td>\n",
       "      <td>4.0</td>\n",
       "      <td>9</td>\n",
       "    </tr>\n",
       "    <tr>\n",
       "      <th>12469</th>\n",
       "      <td>0.0</td>\n",
       "      <td>5.0</td>\n",
       "      <td>8</td>\n",
       "    </tr>\n",
       "    <tr>\n",
       "      <th>12568</th>\n",
       "      <td>5.0</td>\n",
       "      <td>5.0</td>\n",
       "      <td>3</td>\n",
       "    </tr>\n",
       "  </tbody>\n",
       "</table>\n",
       "<p>247 rows × 3 columns</p>\n",
       "</div>"
      ],
      "text/plain": [
       "       y_pred_knn  y_pred_knnpca  y_test\n",
       "42            8.0            8.0       3\n",
       "90            5.0            5.0       8\n",
       "122           3.0            3.0       9\n",
       "131           2.0            2.0       7\n",
       "177           8.0            8.0       5\n",
       "...           ...            ...     ...\n",
       "12336         0.0            0.0       3\n",
       "12344         1.0            1.0       9\n",
       "12372         4.0            4.0       9\n",
       "12469         0.0            5.0       8\n",
       "12568         5.0            5.0       3\n",
       "\n",
       "[247 rows x 3 columns]"
      ]
     },
     "execution_count": 21,
     "metadata": {},
     "output_type": "execute_result"
    }
   ],
   "source": [
    "df_knn_knnpca_results_fails = df_knn_knnpca_results[df_knn_knnpca_results.apply(\n",
    "    lambda row: row['y_pred_knn'] != row['y_test'] and row['y_pred_knnpca'] != row['y_test'], axis=1)]\n",
    "df_knn_knnpca_results_fails"
   ]
  },
  {
   "cell_type": "code",
   "execution_count": 22,
   "id": "3165022d",
   "metadata": {},
   "outputs": [
    {
     "data": {
      "text/plain": [
       "0.8360407869747202"
      ]
     },
     "execution_count": 22,
     "metadata": {},
     "output_type": "execute_result"
    }
   ],
   "source": [
    "cohen_kappa_score(df_knn_knnpca_results_fails['y_pred_knn'], df_knn_knnpca_results_fails['y_pred_knnpca'])"
   ]
  },
  {
   "cell_type": "markdown",
   "id": "a53c2e7a",
   "metadata": {},
   "source": [
    "### 2. Cohen Kappa: KNN + PCA, First vs Second\n",
    "\n",
    "Aca vamos a comparar los 2 mejores clasificadores de KNN + PCA para ver si hay o no correlacion entre ellos."
   ]
  },
  {
   "cell_type": "code",
   "execution_count": 34,
   "id": "6ee21135",
   "metadata": {},
   "outputs": [
    {
     "name": "stdout",
     "output_type": "stream",
     "text": [
      "kind                                                                knnpca\n",
      "k                                                                       30\n",
      "alpha                                                                  7.0\n",
      "elapsed_time                                                   15309369832\n",
      "pca_init_and_fit_time                                         5505306087.0\n",
      "pca_transform_time                                             464436268.0\n",
      "knn_init_and_fit_time                                               968528\n",
      "knn_predict_time                                                9338658949\n",
      "y_pred                   [9.0, 8.0, 9.0, 6.0, 9.0, 6.0, 8.0, 8.0, 6.0, ...\n",
      "y_test                   [[7], [2], [9], [6], [9], [6], [3], [8], [6], ...\n",
      "y_fold_pred              [8.0, 7.0, 1.0, 0.0, 7.0, 2.0, 8.0, 6.0, 7.0, ...\n",
      "y_fold_test              [[8], [7], [1], [0], [7], [2], [8], [2], [7], ...\n",
      "Name: 3749, dtype: object\n",
      "k           30.000000\n",
      "alpha        7.000000\n",
      "accuracy     0.866825\n",
      "Name: 3749, dtype: float64\n"
     ]
    }
   ],
   "source": [
    "df_knnpca_accuracy_wo_max = df_knnpca_accuracy[df_knnpca_accuracy['accuracy'] < 0.97]\n",
    "max_sec_knnpca_i = df_knnpca_accuracy_wo_max['accuracy'].argmax()\n",
    "max_sec_knnpca_row = df_knnpca.iloc[max_sec_knnpca_i]\n",
    "print(max_sec_knnpca_row)\n",
    "print(df_knnpca_accuracy.iloc[max_sec_knnpca_i])\n",
    "max_sec_knnpca_y_test = np.array(max_sec_knnpca_row['y_test']).flatten()\n",
    "\n",
    "df_max_sec_knnpca = pd.DataFrame({'y_pred': max_sec_knnpca_row['y_pred'], 'y_test': max_sec_knnpca_y_test})"
   ]
  },
  {
   "cell_type": "code",
   "execution_count": 35,
   "id": "c54ea0c7",
   "metadata": {},
   "outputs": [
    {
     "data": {
      "text/html": [
       "<div>\n",
       "<style scoped>\n",
       "    .dataframe tbody tr th:only-of-type {\n",
       "        vertical-align: middle;\n",
       "    }\n",
       "\n",
       "    .dataframe tbody tr th {\n",
       "        vertical-align: top;\n",
       "    }\n",
       "\n",
       "    .dataframe thead th {\n",
       "        text-align: right;\n",
       "    }\n",
       "</style>\n",
       "<table border=\"1\" class=\"dataframe\">\n",
       "  <thead>\n",
       "    <tr style=\"text-align: right;\">\n",
       "      <th></th>\n",
       "      <th>k</th>\n",
       "      <th>alpha</th>\n",
       "      <th>accuracy</th>\n",
       "    </tr>\n",
       "  </thead>\n",
       "  <tbody>\n",
       "    <tr>\n",
       "      <th>0</th>\n",
       "      <td>1</td>\n",
       "      <td>1.0</td>\n",
       "      <td>0.248254</td>\n",
       "    </tr>\n",
       "    <tr>\n",
       "      <th>1</th>\n",
       "      <td>2</td>\n",
       "      <td>1.0</td>\n",
       "      <td>0.264365</td>\n",
       "    </tr>\n",
       "    <tr>\n",
       "      <th>2</th>\n",
       "      <td>3</td>\n",
       "      <td>1.0</td>\n",
       "      <td>0.268889</td>\n",
       "    </tr>\n",
       "    <tr>\n",
       "      <th>3</th>\n",
       "      <td>4</td>\n",
       "      <td>1.0</td>\n",
       "      <td>0.269762</td>\n",
       "    </tr>\n",
       "    <tr>\n",
       "      <th>4</th>\n",
       "      <td>5</td>\n",
       "      <td>1.0</td>\n",
       "      <td>0.271270</td>\n",
       "    </tr>\n",
       "    <tr>\n",
       "      <th>...</th>\n",
       "      <td>...</td>\n",
       "      <td>...</td>\n",
       "      <td>...</td>\n",
       "    </tr>\n",
       "    <tr>\n",
       "      <th>4495</th>\n",
       "      <td>26</td>\n",
       "      <td>30.0</td>\n",
       "      <td>0.959048</td>\n",
       "    </tr>\n",
       "    <tr>\n",
       "      <th>4496</th>\n",
       "      <td>27</td>\n",
       "      <td>30.0</td>\n",
       "      <td>0.957778</td>\n",
       "    </tr>\n",
       "    <tr>\n",
       "      <th>4497</th>\n",
       "      <td>28</td>\n",
       "      <td>30.0</td>\n",
       "      <td>0.957460</td>\n",
       "    </tr>\n",
       "    <tr>\n",
       "      <th>4498</th>\n",
       "      <td>29</td>\n",
       "      <td>30.0</td>\n",
       "      <td>0.957381</td>\n",
       "    </tr>\n",
       "    <tr>\n",
       "      <th>4499</th>\n",
       "      <td>30</td>\n",
       "      <td>30.0</td>\n",
       "      <td>0.956825</td>\n",
       "    </tr>\n",
       "  </tbody>\n",
       "</table>\n",
       "<p>4495 rows × 3 columns</p>\n",
       "</div>"
      ],
      "text/plain": [
       "       k  alpha  accuracy\n",
       "0      1    1.0  0.248254\n",
       "1      2    1.0  0.264365\n",
       "2      3    1.0  0.268889\n",
       "3      4    1.0  0.269762\n",
       "4      5    1.0  0.271270\n",
       "...   ..    ...       ...\n",
       "4495  26   30.0  0.959048\n",
       "4496  27   30.0  0.957778\n",
       "4497  28   30.0  0.957460\n",
       "4498  29   30.0  0.957381\n",
       "4499  30   30.0  0.956825\n",
       "\n",
       "[4495 rows x 3 columns]"
      ]
     },
     "execution_count": 35,
     "metadata": {},
     "output_type": "execute_result"
    }
   ],
   "source": [
    "df_knnpca_accuracy_wo_max"
   ]
  },
  {
   "cell_type": "code",
   "execution_count": 24,
   "id": "e91867f3",
   "metadata": {},
   "outputs": [
    {
     "data": {
      "text/plain": [
       "0.8613867840989538"
      ]
     },
     "execution_count": 24,
     "metadata": {},
     "output_type": "execute_result"
    }
   ],
   "source": [
    "cohen_kappa_score(df_max_knnpca['y_pred'], df_max_sec_knnpca['y_pred'])"
   ]
  },
  {
   "cell_type": "code",
   "execution_count": 25,
   "id": "f1e9327f",
   "metadata": {},
   "outputs": [
    {
     "data": {
      "text/html": [
       "<div>\n",
       "<style scoped>\n",
       "    .dataframe tbody tr th:only-of-type {\n",
       "        vertical-align: middle;\n",
       "    }\n",
       "\n",
       "    .dataframe tbody tr th {\n",
       "        vertical-align: top;\n",
       "    }\n",
       "\n",
       "    .dataframe thead th {\n",
       "        text-align: right;\n",
       "    }\n",
       "</style>\n",
       "<table border=\"1\" class=\"dataframe\">\n",
       "  <thead>\n",
       "    <tr style=\"text-align: right;\">\n",
       "      <th></th>\n",
       "      <th>y_pred_knnpca</th>\n",
       "      <th>y_pred_knnpca_sec</th>\n",
       "      <th>y_test</th>\n",
       "    </tr>\n",
       "  </thead>\n",
       "  <tbody>\n",
       "    <tr>\n",
       "      <th>0</th>\n",
       "      <td>4.0</td>\n",
       "      <td>9.0</td>\n",
       "      <td>7</td>\n",
       "    </tr>\n",
       "    <tr>\n",
       "      <th>1</th>\n",
       "      <td>2.0</td>\n",
       "      <td>8.0</td>\n",
       "      <td>2</td>\n",
       "    </tr>\n",
       "    <tr>\n",
       "      <th>2</th>\n",
       "      <td>9.0</td>\n",
       "      <td>9.0</td>\n",
       "      <td>9</td>\n",
       "    </tr>\n",
       "    <tr>\n",
       "      <th>3</th>\n",
       "      <td>6.0</td>\n",
       "      <td>6.0</td>\n",
       "      <td>6</td>\n",
       "    </tr>\n",
       "    <tr>\n",
       "      <th>4</th>\n",
       "      <td>9.0</td>\n",
       "      <td>9.0</td>\n",
       "      <td>9</td>\n",
       "    </tr>\n",
       "    <tr>\n",
       "      <th>...</th>\n",
       "      <td>...</td>\n",
       "      <td>...</td>\n",
       "      <td>...</td>\n",
       "    </tr>\n",
       "    <tr>\n",
       "      <th>12595</th>\n",
       "      <td>1.0</td>\n",
       "      <td>1.0</td>\n",
       "      <td>1</td>\n",
       "    </tr>\n",
       "    <tr>\n",
       "      <th>12596</th>\n",
       "      <td>6.0</td>\n",
       "      <td>6.0</td>\n",
       "      <td>6</td>\n",
       "    </tr>\n",
       "    <tr>\n",
       "      <th>12597</th>\n",
       "      <td>5.0</td>\n",
       "      <td>5.0</td>\n",
       "      <td>5</td>\n",
       "    </tr>\n",
       "    <tr>\n",
       "      <th>12598</th>\n",
       "      <td>0.0</td>\n",
       "      <td>0.0</td>\n",
       "      <td>0</td>\n",
       "    </tr>\n",
       "    <tr>\n",
       "      <th>12599</th>\n",
       "      <td>1.0</td>\n",
       "      <td>1.0</td>\n",
       "      <td>1</td>\n",
       "    </tr>\n",
       "  </tbody>\n",
       "</table>\n",
       "<p>12600 rows × 3 columns</p>\n",
       "</div>"
      ],
      "text/plain": [
       "       y_pred_knnpca  y_pred_knnpca_sec  y_test\n",
       "0                4.0                9.0       7\n",
       "1                2.0                8.0       2\n",
       "2                9.0                9.0       9\n",
       "3                6.0                6.0       6\n",
       "4                9.0                9.0       9\n",
       "...              ...                ...     ...\n",
       "12595            1.0                1.0       1\n",
       "12596            6.0                6.0       6\n",
       "12597            5.0                5.0       5\n",
       "12598            0.0                0.0       0\n",
       "12599            1.0                1.0       1\n",
       "\n",
       "[12600 rows x 3 columns]"
      ]
     },
     "execution_count": 25,
     "metadata": {},
     "output_type": "execute_result"
    }
   ],
   "source": [
    "df_knnpca_knnpca_sec_results = pd.DataFrame()\n",
    "df_knnpca_knnpca_sec_results['y_pred_knnpca'] = df_max_knnpca['y_pred']\n",
    "df_knnpca_knnpca_sec_results['y_pred_knnpca_sec'] = df_max_sec_knnpca['y_pred']\n",
    "df_knnpca_knnpca_sec_results['y_test'] = df_max_knnpca['y_test']\n",
    "df_knnpca_knnpca_sec_results"
   ]
  },
  {
   "cell_type": "code",
   "execution_count": 26,
   "id": "26c29a51",
   "metadata": {},
   "outputs": [
    {
     "data": {
      "text/html": [
       "<div>\n",
       "<style scoped>\n",
       "    .dataframe tbody tr th:only-of-type {\n",
       "        vertical-align: middle;\n",
       "    }\n",
       "\n",
       "    .dataframe tbody tr th {\n",
       "        vertical-align: top;\n",
       "    }\n",
       "\n",
       "    .dataframe thead th {\n",
       "        text-align: right;\n",
       "    }\n",
       "</style>\n",
       "<table border=\"1\" class=\"dataframe\">\n",
       "  <thead>\n",
       "    <tr style=\"text-align: right;\">\n",
       "      <th></th>\n",
       "      <th>y_pred_knnpca</th>\n",
       "      <th>y_pred_knnpca_sec</th>\n",
       "      <th>y_test</th>\n",
       "    </tr>\n",
       "  </thead>\n",
       "  <tbody>\n",
       "    <tr>\n",
       "      <th>0</th>\n",
       "      <td>4.0</td>\n",
       "      <td>9.0</td>\n",
       "      <td>7</td>\n",
       "    </tr>\n",
       "    <tr>\n",
       "      <th>42</th>\n",
       "      <td>8.0</td>\n",
       "      <td>8.0</td>\n",
       "      <td>3</td>\n",
       "    </tr>\n",
       "    <tr>\n",
       "      <th>90</th>\n",
       "      <td>5.0</td>\n",
       "      <td>2.0</td>\n",
       "      <td>8</td>\n",
       "    </tr>\n",
       "    <tr>\n",
       "      <th>122</th>\n",
       "      <td>3.0</td>\n",
       "      <td>3.0</td>\n",
       "      <td>9</td>\n",
       "    </tr>\n",
       "    <tr>\n",
       "      <th>131</th>\n",
       "      <td>2.0</td>\n",
       "      <td>2.0</td>\n",
       "      <td>7</td>\n",
       "    </tr>\n",
       "    <tr>\n",
       "      <th>...</th>\n",
       "      <td>...</td>\n",
       "      <td>...</td>\n",
       "      <td>...</td>\n",
       "    </tr>\n",
       "    <tr>\n",
       "      <th>12344</th>\n",
       "      <td>1.0</td>\n",
       "      <td>1.0</td>\n",
       "      <td>9</td>\n",
       "    </tr>\n",
       "    <tr>\n",
       "      <th>12372</th>\n",
       "      <td>4.0</td>\n",
       "      <td>1.0</td>\n",
       "      <td>9</td>\n",
       "    </tr>\n",
       "    <tr>\n",
       "      <th>12411</th>\n",
       "      <td>5.0</td>\n",
       "      <td>0.0</td>\n",
       "      <td>3</td>\n",
       "    </tr>\n",
       "    <tr>\n",
       "      <th>12469</th>\n",
       "      <td>5.0</td>\n",
       "      <td>5.0</td>\n",
       "      <td>8</td>\n",
       "    </tr>\n",
       "    <tr>\n",
       "      <th>12568</th>\n",
       "      <td>5.0</td>\n",
       "      <td>8.0</td>\n",
       "      <td>3</td>\n",
       "    </tr>\n",
       "  </tbody>\n",
       "</table>\n",
       "<p>292 rows × 3 columns</p>\n",
       "</div>"
      ],
      "text/plain": [
       "       y_pred_knnpca  y_pred_knnpca_sec  y_test\n",
       "0                4.0                9.0       7\n",
       "42               8.0                8.0       3\n",
       "90               5.0                2.0       8\n",
       "122              3.0                3.0       9\n",
       "131              2.0                2.0       7\n",
       "...              ...                ...     ...\n",
       "12344            1.0                1.0       9\n",
       "12372            4.0                1.0       9\n",
       "12411            5.0                0.0       3\n",
       "12469            5.0                5.0       8\n",
       "12568            5.0                8.0       3\n",
       "\n",
       "[292 rows x 3 columns]"
      ]
     },
     "execution_count": 26,
     "metadata": {},
     "output_type": "execute_result"
    }
   ],
   "source": [
    "df_knnpca_knnpca_sec_results_fails = df_knnpca_knnpca_sec_results[df_knnpca_knnpca_sec_results.apply(\n",
    "    lambda row: row['y_pred_knnpca_sec'] != row['y_test'] and row['y_pred_knnpca'] != row['y_test'], axis=1)]\n",
    "df_knnpca_knnpca_sec_results_fails"
   ]
  },
  {
   "cell_type": "code",
   "execution_count": 27,
   "id": "165f62ba",
   "metadata": {},
   "outputs": [
    {
     "data": {
      "text/plain": [
       "0.6051982147545287"
      ]
     },
     "execution_count": 27,
     "metadata": {},
     "output_type": "execute_result"
    }
   ],
   "source": [
    "cohen_kappa_score(df_knnpca_knnpca_sec_results_fails['y_pred_knnpca_sec'], df_knnpca_knnpca_sec_results_fails['y_pred_knnpca'])"
   ]
  },
  {
   "cell_type": "markdown",
   "id": "d8abd8a9",
   "metadata": {},
   "source": [
    "### 3. Cohen Kappa: KNN + PCA, Two of the same fold"
   ]
  },
  {
   "cell_type": "code",
   "execution_count": 28,
   "id": "72002b9d",
   "metadata": {},
   "outputs": [
    {
     "data": {
      "text/html": [
       "<div>\n",
       "<style scoped>\n",
       "    .dataframe tbody tr th:only-of-type {\n",
       "        vertical-align: middle;\n",
       "    }\n",
       "\n",
       "    .dataframe tbody tr th {\n",
       "        vertical-align: top;\n",
       "    }\n",
       "\n",
       "    .dataframe thead th {\n",
       "        text-align: right;\n",
       "    }\n",
       "</style>\n",
       "<table border=\"1\" class=\"dataframe\">\n",
       "  <thead>\n",
       "    <tr style=\"text-align: right;\">\n",
       "      <th></th>\n",
       "      <th>kind</th>\n",
       "      <th>k</th>\n",
       "      <th>alpha</th>\n",
       "      <th>elapsed_time</th>\n",
       "      <th>pca_init_and_fit_time</th>\n",
       "      <th>pca_transform_time</th>\n",
       "      <th>knn_init_and_fit_time</th>\n",
       "      <th>knn_predict_time</th>\n",
       "      <th>y_pred</th>\n",
       "      <th>y_test</th>\n",
       "      <th>y_fold_pred</th>\n",
       "      <th>y_fold_test</th>\n",
       "    </tr>\n",
       "  </thead>\n",
       "  <tbody>\n",
       "    <tr>\n",
       "      <th>209</th>\n",
       "      <td>knnpca</td>\n",
       "      <td>30</td>\n",
       "      <td>7.0</td>\n",
       "      <td>15261672667</td>\n",
       "      <td>4.985423e+09</td>\n",
       "      <td>407262231.0</td>\n",
       "      <td>1027061</td>\n",
       "      <td>9867959901</td>\n",
       "      <td>[7.0, 8.0, 9.0, 6.0, 9.0, 6.0, 8.0, 8.0, 6.0, ...</td>\n",
       "      <td>[[7], [2], [9], [6], [9], [6], [3], [8], [6], ...</td>\n",
       "      <td>[5.0, 9.0, 8.0, 1.0, 2.0, 9.0, 3.0, 8.0, 7.0, ...</td>\n",
       "      <td>[[2], [9], [3], [1], [2], [9], [5], [8], [7], ...</td>\n",
       "    </tr>\n",
       "    <tr>\n",
       "      <th>1049</th>\n",
       "      <td>knnpca</td>\n",
       "      <td>30</td>\n",
       "      <td>7.0</td>\n",
       "      <td>15360901562</td>\n",
       "      <td>5.349633e+09</td>\n",
       "      <td>481465976.0</td>\n",
       "      <td>1001440</td>\n",
       "      <td>9528801384</td>\n",
       "      <td>[7.0, 2.0, 9.0, 6.0, 9.0, 6.0, 8.0, 8.0, 6.0, ...</td>\n",
       "      <td>[[7], [2], [9], [6], [9], [6], [3], [8], [6], ...</td>\n",
       "      <td>[6.0, 8.0, 2.0, 5.0, 1.0, 9.0, 5.0, 7.0, 8.0, ...</td>\n",
       "      <td>[[0], [8], [2], [5], [1], [9], [5], [7], [3], ...</td>\n",
       "    </tr>\n",
       "    <tr>\n",
       "      <th>1919</th>\n",
       "      <td>knnpca</td>\n",
       "      <td>30</td>\n",
       "      <td>7.0</td>\n",
       "      <td>14230332101</td>\n",
       "      <td>4.897330e+09</td>\n",
       "      <td>455623864.0</td>\n",
       "      <td>969846</td>\n",
       "      <td>8876408427</td>\n",
       "      <td>[9.0, 8.0, 9.0, 6.0, 9.0, 6.0, 8.0, 8.0, 6.0, ...</td>\n",
       "      <td>[[7], [2], [9], [6], [9], [6], [3], [8], [6], ...</td>\n",
       "      <td>[4.0, 8.0, 5.0, 6.0, 4.0, 1.0, 4.0, 7.0, 7.0, ...</td>\n",
       "      <td>[[4], [8], [7], [6], [4], [1], [4], [7], [7], ...</td>\n",
       "    </tr>\n",
       "    <tr>\n",
       "      <th>2849</th>\n",
       "      <td>knnpca</td>\n",
       "      <td>30</td>\n",
       "      <td>7.0</td>\n",
       "      <td>15006993167</td>\n",
       "      <td>5.349177e+09</td>\n",
       "      <td>461368898.0</td>\n",
       "      <td>953138</td>\n",
       "      <td>9195494390</td>\n",
       "      <td>[7.0, 8.0, 9.0, 6.0, 9.0, 6.0, 8.0, 8.0, 6.0, ...</td>\n",
       "      <td>[[7], [2], [9], [6], [9], [6], [3], [8], [6], ...</td>\n",
       "      <td>[5.0, 6.0, 8.0, 2.0, 5.0, 3.0, 5.0, 7.0, 2.0, ...</td>\n",
       "      <td>[[5], [6], [8], [2], [5], [3], [5], [7], [2], ...</td>\n",
       "    </tr>\n",
       "    <tr>\n",
       "      <th>3749</th>\n",
       "      <td>knnpca</td>\n",
       "      <td>30</td>\n",
       "      <td>7.0</td>\n",
       "      <td>15309369832</td>\n",
       "      <td>5.505306e+09</td>\n",
       "      <td>464436268.0</td>\n",
       "      <td>968528</td>\n",
       "      <td>9338658949</td>\n",
       "      <td>[9.0, 8.0, 9.0, 6.0, 9.0, 6.0, 8.0, 8.0, 6.0, ...</td>\n",
       "      <td>[[7], [2], [9], [6], [9], [6], [3], [8], [6], ...</td>\n",
       "      <td>[8.0, 7.0, 1.0, 0.0, 7.0, 2.0, 8.0, 6.0, 7.0, ...</td>\n",
       "      <td>[[8], [7], [1], [0], [7], [2], [8], [2], [7], ...</td>\n",
       "    </tr>\n",
       "  </tbody>\n",
       "</table>\n",
       "</div>"
      ],
      "text/plain": [
       "        kind   k  alpha  elapsed_time  pca_init_and_fit_time  \\\n",
       "209   knnpca  30    7.0   15261672667           4.985423e+09   \n",
       "1049  knnpca  30    7.0   15360901562           5.349633e+09   \n",
       "1919  knnpca  30    7.0   14230332101           4.897330e+09   \n",
       "2849  knnpca  30    7.0   15006993167           5.349177e+09   \n",
       "3749  knnpca  30    7.0   15309369832           5.505306e+09   \n",
       "\n",
       "      pca_transform_time  knn_init_and_fit_time  knn_predict_time  \\\n",
       "209          407262231.0                1027061        9867959901   \n",
       "1049         481465976.0                1001440        9528801384   \n",
       "1919         455623864.0                 969846        8876408427   \n",
       "2849         461368898.0                 953138        9195494390   \n",
       "3749         464436268.0                 968528        9338658949   \n",
       "\n",
       "                                                 y_pred  \\\n",
       "209   [7.0, 8.0, 9.0, 6.0, 9.0, 6.0, 8.0, 8.0, 6.0, ...   \n",
       "1049  [7.0, 2.0, 9.0, 6.0, 9.0, 6.0, 8.0, 8.0, 6.0, ...   \n",
       "1919  [9.0, 8.0, 9.0, 6.0, 9.0, 6.0, 8.0, 8.0, 6.0, ...   \n",
       "2849  [7.0, 8.0, 9.0, 6.0, 9.0, 6.0, 8.0, 8.0, 6.0, ...   \n",
       "3749  [9.0, 8.0, 9.0, 6.0, 9.0, 6.0, 8.0, 8.0, 6.0, ...   \n",
       "\n",
       "                                                 y_test  \\\n",
       "209   [[7], [2], [9], [6], [9], [6], [3], [8], [6], ...   \n",
       "1049  [[7], [2], [9], [6], [9], [6], [3], [8], [6], ...   \n",
       "1919  [[7], [2], [9], [6], [9], [6], [3], [8], [6], ...   \n",
       "2849  [[7], [2], [9], [6], [9], [6], [3], [8], [6], ...   \n",
       "3749  [[7], [2], [9], [6], [9], [6], [3], [8], [6], ...   \n",
       "\n",
       "                                            y_fold_pred  \\\n",
       "209   [5.0, 9.0, 8.0, 1.0, 2.0, 9.0, 3.0, 8.0, 7.0, ...   \n",
       "1049  [6.0, 8.0, 2.0, 5.0, 1.0, 9.0, 5.0, 7.0, 8.0, ...   \n",
       "1919  [4.0, 8.0, 5.0, 6.0, 4.0, 1.0, 4.0, 7.0, 7.0, ...   \n",
       "2849  [5.0, 6.0, 8.0, 2.0, 5.0, 3.0, 5.0, 7.0, 2.0, ...   \n",
       "3749  [8.0, 7.0, 1.0, 0.0, 7.0, 2.0, 8.0, 6.0, 7.0, ...   \n",
       "\n",
       "                                            y_fold_test  \n",
       "209   [[2], [9], [3], [1], [2], [9], [5], [8], [7], ...  \n",
       "1049  [[0], [8], [2], [5], [1], [9], [5], [7], [3], ...  \n",
       "1919  [[4], [8], [7], [6], [4], [1], [4], [7], [7], ...  \n",
       "2849  [[5], [6], [8], [2], [5], [3], [5], [7], [2], ...  \n",
       "3749  [[8], [7], [1], [0], [7], [2], [8], [2], [7], ...  "
      ]
     },
     "execution_count": 28,
     "metadata": {},
     "output_type": "execute_result"
    }
   ],
   "source": [
    "k30_a7_rows = df_knnpca[df_knnpca['k'] == 30]\n",
    "k30_a7_rows = k30_a7_rows[k30_a7_rows['alpha'] == 7]\n",
    "k30_a7_rows"
   ]
  },
  {
   "cell_type": "code",
   "execution_count": 29,
   "id": "2dc984a5",
   "metadata": {},
   "outputs": [
    {
     "name": "stdout",
     "output_type": "stream",
     "text": [
      "kind                                                                knnpca\n",
      "k                                                                       30\n",
      "alpha                                                                  7.0\n",
      "elapsed_time                                                   15309369832\n",
      "pca_init_and_fit_time                                         5505306087.0\n",
      "pca_transform_time                                             464436268.0\n",
      "knn_init_and_fit_time                                               968528\n",
      "knn_predict_time                                                9338658949\n",
      "y_pred                   [9.0, 8.0, 9.0, 6.0, 9.0, 6.0, 8.0, 8.0, 6.0, ...\n",
      "y_test                   [[7], [2], [9], [6], [9], [6], [3], [8], [6], ...\n",
      "y_fold_pred              [8.0, 7.0, 1.0, 0.0, 7.0, 2.0, 8.0, 6.0, 7.0, ...\n",
      "y_fold_test              [[8], [7], [1], [0], [7], [2], [8], [2], [7], ...\n",
      "Name: 3749, dtype: object\n",
      "k           30.000000\n",
      "alpha        7.000000\n",
      "accuracy     0.868571\n",
      "Name: 2849, dtype: float64\n"
     ]
    }
   ],
   "source": [
    "max_sec2_knnpca_row = df_knnpca.iloc[2849]\n",
    "print(max_sec_knnpca_row)\n",
    "print(df_knnpca_accuracy.iloc[2849])\n",
    "max_sec2_knnpca_y_test = np.array(max_sec2_knnpca_row['y_test']).flatten()\n",
    "\n",
    "df_max_sec2_knnpca = pd.DataFrame({'y_pred': max_sec2_knnpca_row['y_pred'], 'y_test': max_sec2_knnpca_y_test})"
   ]
  },
  {
   "cell_type": "code",
   "execution_count": 30,
   "id": "f01549f3",
   "metadata": {},
   "outputs": [
    {
     "data": {
      "text/plain": [
       "0.9680495930389413"
      ]
     },
     "execution_count": 30,
     "metadata": {},
     "output_type": "execute_result"
    }
   ],
   "source": [
    "cohen_kappa_score(df_max_sec2_knnpca['y_pred'], df_max_sec_knnpca['y_pred'])"
   ]
  },
  {
   "cell_type": "code",
   "execution_count": 31,
   "id": "3f7e75a5",
   "metadata": {},
   "outputs": [
    {
     "data": {
      "text/html": [
       "<div>\n",
       "<style scoped>\n",
       "    .dataframe tbody tr th:only-of-type {\n",
       "        vertical-align: middle;\n",
       "    }\n",
       "\n",
       "    .dataframe tbody tr th {\n",
       "        vertical-align: top;\n",
       "    }\n",
       "\n",
       "    .dataframe thead th {\n",
       "        text-align: right;\n",
       "    }\n",
       "</style>\n",
       "<table border=\"1\" class=\"dataframe\">\n",
       "  <thead>\n",
       "    <tr style=\"text-align: right;\">\n",
       "      <th></th>\n",
       "      <th>y_pred_knnpca_sec</th>\n",
       "      <th>y_pred_knnpca_sec2</th>\n",
       "      <th>y_test</th>\n",
       "    </tr>\n",
       "  </thead>\n",
       "  <tbody>\n",
       "    <tr>\n",
       "      <th>0</th>\n",
       "      <td>7.0</td>\n",
       "      <td>9.0</td>\n",
       "      <td>7</td>\n",
       "    </tr>\n",
       "    <tr>\n",
       "      <th>1</th>\n",
       "      <td>8.0</td>\n",
       "      <td>8.0</td>\n",
       "      <td>2</td>\n",
       "    </tr>\n",
       "    <tr>\n",
       "      <th>2</th>\n",
       "      <td>9.0</td>\n",
       "      <td>9.0</td>\n",
       "      <td>9</td>\n",
       "    </tr>\n",
       "    <tr>\n",
       "      <th>3</th>\n",
       "      <td>6.0</td>\n",
       "      <td>6.0</td>\n",
       "      <td>6</td>\n",
       "    </tr>\n",
       "    <tr>\n",
       "      <th>4</th>\n",
       "      <td>9.0</td>\n",
       "      <td>9.0</td>\n",
       "      <td>9</td>\n",
       "    </tr>\n",
       "    <tr>\n",
       "      <th>...</th>\n",
       "      <td>...</td>\n",
       "      <td>...</td>\n",
       "      <td>...</td>\n",
       "    </tr>\n",
       "    <tr>\n",
       "      <th>12595</th>\n",
       "      <td>1.0</td>\n",
       "      <td>1.0</td>\n",
       "      <td>1</td>\n",
       "    </tr>\n",
       "    <tr>\n",
       "      <th>12596</th>\n",
       "      <td>2.0</td>\n",
       "      <td>6.0</td>\n",
       "      <td>6</td>\n",
       "    </tr>\n",
       "    <tr>\n",
       "      <th>12597</th>\n",
       "      <td>5.0</td>\n",
       "      <td>5.0</td>\n",
       "      <td>5</td>\n",
       "    </tr>\n",
       "    <tr>\n",
       "      <th>12598</th>\n",
       "      <td>0.0</td>\n",
       "      <td>0.0</td>\n",
       "      <td>0</td>\n",
       "    </tr>\n",
       "    <tr>\n",
       "      <th>12599</th>\n",
       "      <td>1.0</td>\n",
       "      <td>1.0</td>\n",
       "      <td>1</td>\n",
       "    </tr>\n",
       "  </tbody>\n",
       "</table>\n",
       "<p>12600 rows × 3 columns</p>\n",
       "</div>"
      ],
      "text/plain": [
       "       y_pred_knnpca_sec  y_pred_knnpca_sec2  y_test\n",
       "0                    7.0                 9.0       7\n",
       "1                    8.0                 8.0       2\n",
       "2                    9.0                 9.0       9\n",
       "3                    6.0                 6.0       6\n",
       "4                    9.0                 9.0       9\n",
       "...                  ...                 ...     ...\n",
       "12595                1.0                 1.0       1\n",
       "12596                2.0                 6.0       6\n",
       "12597                5.0                 5.0       5\n",
       "12598                0.0                 0.0       0\n",
       "12599                1.0                 1.0       1\n",
       "\n",
       "[12600 rows x 3 columns]"
      ]
     },
     "execution_count": 31,
     "metadata": {},
     "output_type": "execute_result"
    }
   ],
   "source": [
    "df_knnpca_sec_knnpca_sec2_results = pd.DataFrame()\n",
    "df_knnpca_sec_knnpca_sec2_results['y_pred_knnpca_sec'] = df_max_sec2_knnpca['y_pred']\n",
    "df_knnpca_sec_knnpca_sec2_results['y_pred_knnpca_sec2'] = df_max_sec_knnpca['y_pred']\n",
    "df_knnpca_sec_knnpca_sec2_results['y_test'] = df_max_knnpca['y_test']\n",
    "df_knnpca_sec_knnpca_sec2_results"
   ]
  },
  {
   "cell_type": "code",
   "execution_count": 32,
   "id": "d0f26abf",
   "metadata": {},
   "outputs": [
    {
     "data": {
      "text/html": [
       "<div>\n",
       "<style scoped>\n",
       "    .dataframe tbody tr th:only-of-type {\n",
       "        vertical-align: middle;\n",
       "    }\n",
       "\n",
       "    .dataframe tbody tr th {\n",
       "        vertical-align: top;\n",
       "    }\n",
       "\n",
       "    .dataframe thead th {\n",
       "        text-align: right;\n",
       "    }\n",
       "</style>\n",
       "<table border=\"1\" class=\"dataframe\">\n",
       "  <thead>\n",
       "    <tr style=\"text-align: right;\">\n",
       "      <th></th>\n",
       "      <th>y_pred_knnpca_sec</th>\n",
       "      <th>y_pred_knnpca_sec2</th>\n",
       "      <th>y_test</th>\n",
       "    </tr>\n",
       "  </thead>\n",
       "  <tbody>\n",
       "    <tr>\n",
       "      <th>1</th>\n",
       "      <td>8.0</td>\n",
       "      <td>8.0</td>\n",
       "      <td>2</td>\n",
       "    </tr>\n",
       "    <tr>\n",
       "      <th>6</th>\n",
       "      <td>8.0</td>\n",
       "      <td>8.0</td>\n",
       "      <td>3</td>\n",
       "    </tr>\n",
       "    <tr>\n",
       "      <th>38</th>\n",
       "      <td>8.0</td>\n",
       "      <td>8.0</td>\n",
       "      <td>3</td>\n",
       "    </tr>\n",
       "    <tr>\n",
       "      <th>42</th>\n",
       "      <td>8.0</td>\n",
       "      <td>8.0</td>\n",
       "      <td>3</td>\n",
       "    </tr>\n",
       "    <tr>\n",
       "      <th>53</th>\n",
       "      <td>9.0</td>\n",
       "      <td>9.0</td>\n",
       "      <td>4</td>\n",
       "    </tr>\n",
       "    <tr>\n",
       "      <th>...</th>\n",
       "      <td>...</td>\n",
       "      <td>...</td>\n",
       "      <td>...</td>\n",
       "    </tr>\n",
       "    <tr>\n",
       "      <th>12562</th>\n",
       "      <td>1.0</td>\n",
       "      <td>1.0</td>\n",
       "      <td>3</td>\n",
       "    </tr>\n",
       "    <tr>\n",
       "      <th>12564</th>\n",
       "      <td>9.0</td>\n",
       "      <td>9.0</td>\n",
       "      <td>4</td>\n",
       "    </tr>\n",
       "    <tr>\n",
       "      <th>12568</th>\n",
       "      <td>8.0</td>\n",
       "      <td>8.0</td>\n",
       "      <td>3</td>\n",
       "    </tr>\n",
       "    <tr>\n",
       "      <th>12572</th>\n",
       "      <td>8.0</td>\n",
       "      <td>8.0</td>\n",
       "      <td>3</td>\n",
       "    </tr>\n",
       "    <tr>\n",
       "      <th>12589</th>\n",
       "      <td>8.0</td>\n",
       "      <td>8.0</td>\n",
       "      <td>3</td>\n",
       "    </tr>\n",
       "  </tbody>\n",
       "</table>\n",
       "<p>1516 rows × 3 columns</p>\n",
       "</div>"
      ],
      "text/plain": [
       "       y_pred_knnpca_sec  y_pred_knnpca_sec2  y_test\n",
       "1                    8.0                 8.0       2\n",
       "6                    8.0                 8.0       3\n",
       "38                   8.0                 8.0       3\n",
       "42                   8.0                 8.0       3\n",
       "53                   9.0                 9.0       4\n",
       "...                  ...                 ...     ...\n",
       "12562                1.0                 1.0       3\n",
       "12564                9.0                 9.0       4\n",
       "12568                8.0                 8.0       3\n",
       "12572                8.0                 8.0       3\n",
       "12589                8.0                 8.0       3\n",
       "\n",
       "[1516 rows x 3 columns]"
      ]
     },
     "execution_count": 32,
     "metadata": {},
     "output_type": "execute_result"
    }
   ],
   "source": [
    "df_knnpca_sec_knnpca_sec2_results_fails = df_knnpca_sec_knnpca_sec2_results[df_knnpca_sec_knnpca_sec2_results.apply(\n",
    "    lambda row: row['y_pred_knnpca_sec'] != row['y_test'] and row['y_pred_knnpca_sec2'] != row['y_test'], axis=1)]\n",
    "df_knnpca_sec_knnpca_sec2_results_fails"
   ]
  },
  {
   "cell_type": "code",
   "execution_count": 33,
   "id": "266135ff",
   "metadata": {},
   "outputs": [
    {
     "data": {
      "text/plain": [
       "0.9549119504150421"
      ]
     },
     "execution_count": 33,
     "metadata": {},
     "output_type": "execute_result"
    }
   ],
   "source": [
    "cohen_kappa_score(df_knnpca_sec_knnpca_sec2_results_fails['y_pred_knnpca_sec'], \n",
    "                  df_knnpca_sec_knnpca_sec2_results_fails['y_pred_knnpca_sec2'])"
   ]
  },
  {
   "cell_type": "code",
   "execution_count": null,
   "id": "c969c39b",
   "metadata": {},
   "outputs": [],
   "source": []
  }
 ],
 "metadata": {
  "kernelspec": {
   "display_name": "Python 3 (ipykernel)",
   "language": "python",
   "name": "python3"
  },
  "language_info": {
   "codemirror_mode": {
    "name": "ipython",
    "version": 3
   },
   "file_extension": ".py",
   "mimetype": "text/x-python",
   "name": "python",
   "nbconvert_exporter": "python",
   "pygments_lexer": "ipython3",
   "version": "3.9.6"
  }
 },
 "nbformat": 4,
 "nbformat_minor": 5
}
